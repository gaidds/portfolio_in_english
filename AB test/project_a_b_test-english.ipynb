{
 "cells": [
  {
   "cell_type": "markdown",
   "metadata": {
    "toc": true
   },
   "source": [
    "<h1>Contents<span class=\"tocSkip\"></span></h1>\n",
    "<div class=\"toc\"><ul class=\"toc-item\"><li><span><a href=\"#Import-libraries-and-data\" data-toc-modified-id=\"Import-libraries-and-data-1\"><span class=\"toc-item-num\">1&nbsp;&nbsp;</span>Import libraries and data</a></span></li><li><span><a href=\"#Prioritization-of-hypotheses\" data-toc-modified-id=\"Prioritization-of-hypotheses-2\"><span class=\"toc-item-num\">2&nbsp;&nbsp;</span>Prioritization of hypotheses</a></span><ul class=\"toc-item\"><li><span><a href=\"#Prioritization-with-the-ICE-framework\" data-toc-modified-id=\"Prioritization-with-the-ICE-framework-2.1\"><span class=\"toc-item-num\">2.1&nbsp;&nbsp;</span>Prioritization with the ICE framework</a></span></li><li><span><a href=\"#Prioritization-with-the-RICE-framework\" data-toc-modified-id=\"Prioritization-with-the-RICE-framework-2.2\"><span class=\"toc-item-num\">2.2&nbsp;&nbsp;</span>Prioritization with the RICE framework</a></span></li></ul></li><li><span><a href=\"#A/B-test-analysis\" data-toc-modified-id=\"A/B-test-analysis-3\"><span class=\"toc-item-num\">3&nbsp;&nbsp;</span>A/B test analysis</a></span><ul class=\"toc-item\"><li><span><a href=\"#Data-preprocessing\" data-toc-modified-id=\"Data-preprocessing-3.1\"><span class=\"toc-item-num\">3.1&nbsp;&nbsp;</span>Data preprocessing</a></span></li><li><span><a href=\"#Graph-of-cumulative-revenue-by-groups\" data-toc-modified-id=\"Graph-of-cumulative-revenue-by-groups-3.2\"><span class=\"toc-item-num\">3.2&nbsp;&nbsp;</span>Graph of cumulative revenue by groups</a></span></li><li><span><a href=\"#Graph-of-the-cumulative-average-check-by-groups\" data-toc-modified-id=\"Graph-of-the-cumulative-average-check-by-groups-3.3\"><span class=\"toc-item-num\">3.3&nbsp;&nbsp;</span>Graph of the cumulative average check by groups</a></span></li><li><span><a href=\"#Graph-of-the-relative-change-in-the-cumulative-average-check-of-group-B-to-group-A\" data-toc-modified-id=\"Graph-of-the-relative-change-in-the-cumulative-average-check-of-group-B-to-group-A-3.4\"><span class=\"toc-item-num\">3.4&nbsp;&nbsp;</span>Graph of the relative change in the cumulative average check of group B to group A</a></span></li><li><span><a href=\"#Graph-of-the-cumulative-average-number-of-orders-per-visitor-by-group\" data-toc-modified-id=\"Graph-of-the-cumulative-average-number-of-orders-per-visitor-by-group-3.5\"><span class=\"toc-item-num\">3.5&nbsp;&nbsp;</span>Graph of the cumulative average number of orders per visitor by group</a></span></li><li><span><a href=\"#Graph-of-the-relative-change-in-the-cumulative-average-number-of-orders-per-visitor-of-group-B-to-group-A\" data-toc-modified-id=\"Graph-of-the-relative-change-in-the-cumulative-average-number-of-orders-per-visitor-of-group-B-to-group-A-3.6\"><span class=\"toc-item-num\">3.6&nbsp;&nbsp;</span>Graph of the relative change in the cumulative average number of orders per visitor of group B to group A</a></span></li><li><span><a href=\"#Scatter-plot-of-the-number-of-orders-by-users\" data-toc-modified-id=\"Scatter-plot-of-the-number-of-orders-by-users-3.7\"><span class=\"toc-item-num\">3.7&nbsp;&nbsp;</span>Scatter plot of the number of orders by users</a></span></li><li><span><a href=\"#95th-and-99th-percentiles-of-orders-per-user.\" data-toc-modified-id=\"95th-and-99th-percentiles-of-orders-per-user.-3.8\"><span class=\"toc-item-num\">3.8&nbsp;&nbsp;</span>95th and 99th percentiles of orders per user.</a></span></li><li><span><a href=\"#Scatter-plot-of-order-values\" data-toc-modified-id=\"Scatter-plot-of-order-values-3.9\"><span class=\"toc-item-num\">3.9&nbsp;&nbsp;</span>Scatter plot of order values</a></span></li><li><span><a href=\"#95th-and-99th-order-value-percentiles\" data-toc-modified-id=\"95th-and-99th-order-value-percentiles-3.10\"><span class=\"toc-item-num\">3.10&nbsp;&nbsp;</span>95th and 99th order value percentiles</a></span></li><li><span><a href=\"#Statistical-significance-of-differences-in-the-average-number-of-orders-per-visitor-between-groups-according-to-&quot;raw&quot;-data\" data-toc-modified-id=\"Statistical-significance-of-differences-in-the-average-number-of-orders-per-visitor-between-groups-according-to-&quot;raw&quot;-data-3.11\"><span class=\"toc-item-num\">3.11&nbsp;&nbsp;</span>Statistical significance of differences in the average number of orders per visitor between groups according to \"raw\" data</a></span></li><li><span><a href=\"#Statistical-significance-of-differences-in-the-average-order-receipt-between-groups-according-to-&quot;raw&quot;-data\" data-toc-modified-id=\"Statistical-significance-of-differences-in-the-average-order-receipt-between-groups-according-to-&quot;raw&quot;-data-3.12\"><span class=\"toc-item-num\">3.12&nbsp;&nbsp;</span>Statistical significance of differences in the average order receipt between groups according to \"raw\" data</a></span></li><li><span><a href=\"#Statistical-significance-of-differences-in-the-average-number-of-orders-per-visitor-between-groups-according-to-&quot;cleaned&quot;-data\" data-toc-modified-id=\"Statistical-significance-of-differences-in-the-average-number-of-orders-per-visitor-between-groups-according-to-&quot;cleaned&quot;-data-3.13\"><span class=\"toc-item-num\">3.13&nbsp;&nbsp;</span>Statistical significance of differences in the average number of orders per visitor between groups according to \"cleaned\" data</a></span></li><li><span><a href=\"#Statistical-significance-of-differences-in-the-average-order-receipt-between-groups-according-to-&quot;cleaned&quot;-data\" data-toc-modified-id=\"Statistical-significance-of-differences-in-the-average-order-receipt-between-groups-according-to-&quot;cleaned&quot;-data-3.14\"><span class=\"toc-item-num\">3.14&nbsp;&nbsp;</span>Statistical significance of differences in the average order receipt between groups according to \"cleaned\" data</a></span></li></ul></li><li><span><a href=\"#General-conclusion\" data-toc-modified-id=\"General-conclusion-4\"><span class=\"toc-item-num\">4&nbsp;&nbsp;</span>General conclusion</a></span></li></ul></div>"
   ]
  },
  {
   "cell_type": "markdown",
   "metadata": {
    "lang": "en"
   },
   "source": [
    "# Prioritization of hypotheses. A/B test analysis"
   ]
  },
  {
   "cell_type": "markdown",
   "metadata": {
    "lang": "en"
   },
   "source": [
    "**Data description:**\n",
    "\n",
    "- The file `/datasets/hypothesis.csv` contains 9 hypotheses for increasing the revenue of an online store with the specified parameters Reach, Impact, Confidence, Effort.\n",
    "- The files `/datasets/orders.csv` and `/datasets/visitors.csv` describe the results of the A/B test that will need to be analyzed.\n",
    "\n",
    "**Objectives:**\n",
    "- prioritize hypotheses,\n",
    "- run an A/B test and analyze the results."
   ]
  },
  {
   "cell_type": "markdown",
   "metadata": {
    "lang": "en"
   },
   "source": [
    "### Import libraries and data"
   ]
  },
  {
   "cell_type": "code",
   "execution_count": 1,
   "metadata": {},
   "outputs": [],
   "source": [
    "# Importing libraries\n",
    "import pandas as pd\n",
    "import numpy as np\n",
    "from scipy import stats as st\n",
    "from matplotlib import pyplot as plt\n",
    "import datetime as dt\n",
    "import seaborn as sns"
   ]
  },
  {
   "cell_type": "code",
   "execution_count": 2,
   "metadata": {},
   "outputs": [],
   "source": [
    "# Importing data\n",
    "hypothesis = pd.read_csv(\n",
    "    \"/Users/alexandragaidamovich/Documents/practicum/datasets/hypothesis.csv\"\n",
    ")\n",
    "orders = pd.read_csv(\n",
    "    \"/Users/alexandragaidamovich/Documents/practicum/datasets/orders.csv\"\n",
    ")\n",
    "visitors = pd.read_csv(\n",
    "    \"/Users/alexandragaidamovich/Documents/practicum/datasets/visitors.csv\"\n",
    ")\n",
    "pd.set_option(\"display.max_columns\", None)"
   ]
  },
  {
   "cell_type": "markdown",
   "metadata": {
    "lang": "en"
   },
   "source": [
    "### Prioritization of hypotheses"
   ]
  },
  {
   "cell_type": "markdown",
   "metadata": {
    "lang": "en"
   },
   "source": [
    "Let's look at the hypothesis dataset"
   ]
  },
  {
   "cell_type": "code",
   "execution_count": 3,
   "metadata": {},
   "outputs": [
    {
     "data": {
      "text/html": [
       "<div>\n",
       "<style scoped>\n",
       "    .dataframe tbody tr th:only-of-type {\n",
       "        vertical-align: middle;\n",
       "    }\n",
       "\n",
       "    .dataframe tbody tr th {\n",
       "        vertical-align: top;\n",
       "    }\n",
       "\n",
       "    .dataframe thead th {\n",
       "        text-align: right;\n",
       "    }\n",
       "</style>\n",
       "<table border=\"1\" class=\"dataframe\">\n",
       "  <thead>\n",
       "    <tr style=\"text-align: right;\">\n",
       "      <th></th>\n",
       "      <th>Hypothesis</th>\n",
       "      <th>Reach</th>\n",
       "      <th>Impact</th>\n",
       "      <th>Confidence</th>\n",
       "      <th>Efforts</th>\n",
       "    </tr>\n",
       "  </thead>\n",
       "  <tbody>\n",
       "    <tr>\n",
       "      <th>0</th>\n",
       "      <td>Добавить два новых канала привлечения трафика, что позволит привлекать на 30% больше пользователей</td>\n",
       "      <td>3</td>\n",
       "      <td>10</td>\n",
       "      <td>8</td>\n",
       "      <td>6</td>\n",
       "    </tr>\n",
       "    <tr>\n",
       "      <th>1</th>\n",
       "      <td>Запустить собственную службу доставки, что сократит срок доставки заказов</td>\n",
       "      <td>2</td>\n",
       "      <td>5</td>\n",
       "      <td>4</td>\n",
       "      <td>10</td>\n",
       "    </tr>\n",
       "    <tr>\n",
       "      <th>2</th>\n",
       "      <td>Добавить блоки рекомендаций товаров на сайт интернет магазина, чтобы повысить конверсию и средний чек заказа</td>\n",
       "      <td>8</td>\n",
       "      <td>3</td>\n",
       "      <td>7</td>\n",
       "      <td>3</td>\n",
       "    </tr>\n",
       "    <tr>\n",
       "      <th>3</th>\n",
       "      <td>Изменить структура категорий, что увеличит конверсию, т.к. пользователи быстрее найдут нужный товар</td>\n",
       "      <td>8</td>\n",
       "      <td>3</td>\n",
       "      <td>3</td>\n",
       "      <td>8</td>\n",
       "    </tr>\n",
       "    <tr>\n",
       "      <th>4</th>\n",
       "      <td>Изменить цвет фона главной страницы, чтобы увеличить вовлеченность пользователей</td>\n",
       "      <td>3</td>\n",
       "      <td>1</td>\n",
       "      <td>1</td>\n",
       "      <td>1</td>\n",
       "    </tr>\n",
       "    <tr>\n",
       "      <th>5</th>\n",
       "      <td>Добавить страницу отзывов клиентов о магазине, что позволит увеличить количество заказов</td>\n",
       "      <td>3</td>\n",
       "      <td>2</td>\n",
       "      <td>2</td>\n",
       "      <td>3</td>\n",
       "    </tr>\n",
       "    <tr>\n",
       "      <th>6</th>\n",
       "      <td>Показать на главной странице баннеры с актуальными акциями и распродажами, чтобы увеличить конверсию</td>\n",
       "      <td>5</td>\n",
       "      <td>3</td>\n",
       "      <td>8</td>\n",
       "      <td>3</td>\n",
       "    </tr>\n",
       "    <tr>\n",
       "      <th>7</th>\n",
       "      <td>Добавить форму подписки на все основные страницы, чтобы собрать базу клиентов для email-рассылок</td>\n",
       "      <td>10</td>\n",
       "      <td>7</td>\n",
       "      <td>8</td>\n",
       "      <td>5</td>\n",
       "    </tr>\n",
       "    <tr>\n",
       "      <th>8</th>\n",
       "      <td>Запустить акцию, дающую скидку на товар в день рождения</td>\n",
       "      <td>1</td>\n",
       "      <td>9</td>\n",
       "      <td>9</td>\n",
       "      <td>5</td>\n",
       "    </tr>\n",
       "  </tbody>\n",
       "</table>\n",
       "</div>"
      ],
      "text/plain": [
       "                                                                                                     Hypothesis  \\\n",
       "0            Добавить два новых канала привлечения трафика, что позволит привлекать на 30% больше пользователей   \n",
       "1                                     Запустить собственную службу доставки, что сократит срок доставки заказов   \n",
       "2  Добавить блоки рекомендаций товаров на сайт интернет магазина, чтобы повысить конверсию и средний чек заказа   \n",
       "3           Изменить структура категорий, что увеличит конверсию, т.к. пользователи быстрее найдут нужный товар   \n",
       "4                              Изменить цвет фона главной страницы, чтобы увеличить вовлеченность пользователей   \n",
       "5                      Добавить страницу отзывов клиентов о магазине, что позволит увеличить количество заказов   \n",
       "6          Показать на главной странице баннеры с актуальными акциями и распродажами, чтобы увеличить конверсию   \n",
       "7              Добавить форму подписки на все основные страницы, чтобы собрать базу клиентов для email-рассылок   \n",
       "8                                                       Запустить акцию, дающую скидку на товар в день рождения   \n",
       "\n",
       "   Reach  Impact  Confidence  Efforts  \n",
       "0      3      10           8        6  \n",
       "1      2       5           4       10  \n",
       "2      8       3           7        3  \n",
       "3      8       3           3        8  \n",
       "4      3       1           1        1  \n",
       "5      3       2           2        3  \n",
       "6      5       3           8        3  \n",
       "7     10       7           8        5  \n",
       "8      1       9           9        5  "
      ]
     },
     "execution_count": 3,
     "metadata": {},
     "output_type": "execute_result"
    }
   ],
   "source": [
    "# Showing the first 10 rows of the dataset\n",
    "pd.set_option(\"display.max_colwidth\", None)\n",
    "hypothesis.head(10)"
   ]
  },
  {
   "cell_type": "markdown",
   "metadata": {
    "lang": "en"
   },
   "source": [
    "Let's see the information"
   ]
  },
  {
   "cell_type": "code",
   "execution_count": 4,
   "metadata": {},
   "outputs": [
    {
     "name": "stdout",
     "output_type": "stream",
     "text": [
      "<class 'pandas.core.frame.DataFrame'>\n",
      "RangeIndex: 9 entries, 0 to 8\n",
      "Data columns (total 5 columns):\n",
      " #   Column      Non-Null Count  Dtype \n",
      "---  ------      --------------  ----- \n",
      " 0   Hypothesis  9 non-null      object\n",
      " 1   Reach       9 non-null      int64 \n",
      " 2   Impact      9 non-null      int64 \n",
      " 3   Confidence  9 non-null      int64 \n",
      " 4   Efforts     9 non-null      int64 \n",
      "dtypes: int64(4), object(1)\n",
      "memory usage: 488.0+ bytes\n"
     ]
    }
   ],
   "source": [
    "# Checking the info of the data\n",
    "hypothesis.info()"
   ]
  },
  {
   "cell_type": "markdown",
   "metadata": {
    "lang": "en"
   },
   "source": [
    "There are no gaps, data types correspond to column values."
   ]
  },
  {
   "cell_type": "markdown",
   "metadata": {
    "lang": "en"
   },
   "source": [
    "#### Prioritization with the ICE framework"
   ]
  },
  {
   "cell_type": "markdown",
   "metadata": {
    "lang": "en"
   },
   "source": [
    "Let's create a copy of the dataset and in it the `ICE` column, calculated as `Impact * Confidence / Efforts`; Sort in descending order of the values ​​in this column."
   ]
  },
  {
   "cell_type": "code",
   "execution_count": 5,
   "metadata": {},
   "outputs": [
    {
     "data": {
      "text/html": [
       "<div>\n",
       "<style scoped>\n",
       "    .dataframe tbody tr th:only-of-type {\n",
       "        vertical-align: middle;\n",
       "    }\n",
       "\n",
       "    .dataframe tbody tr th {\n",
       "        vertical-align: top;\n",
       "    }\n",
       "\n",
       "    .dataframe thead th {\n",
       "        text-align: right;\n",
       "    }\n",
       "</style>\n",
       "<table border=\"1\" class=\"dataframe\">\n",
       "  <thead>\n",
       "    <tr style=\"text-align: right;\">\n",
       "      <th></th>\n",
       "      <th>Hypothesis</th>\n",
       "      <th>Reach</th>\n",
       "      <th>Impact</th>\n",
       "      <th>Confidence</th>\n",
       "      <th>Efforts</th>\n",
       "      <th>ICE</th>\n",
       "    </tr>\n",
       "  </thead>\n",
       "  <tbody>\n",
       "    <tr>\n",
       "      <th>0</th>\n",
       "      <td>Добавить два новых канала привлечения трафика, что позволит привлекать на 30% больше пользователей</td>\n",
       "      <td>3</td>\n",
       "      <td>10</td>\n",
       "      <td>8</td>\n",
       "      <td>6</td>\n",
       "      <td>13.333333</td>\n",
       "    </tr>\n",
       "    <tr>\n",
       "      <th>1</th>\n",
       "      <td>Запустить собственную службу доставки, что сократит срок доставки заказов</td>\n",
       "      <td>2</td>\n",
       "      <td>5</td>\n",
       "      <td>4</td>\n",
       "      <td>10</td>\n",
       "      <td>2.000000</td>\n",
       "    </tr>\n",
       "    <tr>\n",
       "      <th>2</th>\n",
       "      <td>Добавить блоки рекомендаций товаров на сайт интернет магазина, чтобы повысить конверсию и средний чек заказа</td>\n",
       "      <td>8</td>\n",
       "      <td>3</td>\n",
       "      <td>7</td>\n",
       "      <td>3</td>\n",
       "      <td>7.000000</td>\n",
       "    </tr>\n",
       "    <tr>\n",
       "      <th>3</th>\n",
       "      <td>Изменить структура категорий, что увеличит конверсию, т.к. пользователи быстрее найдут нужный товар</td>\n",
       "      <td>8</td>\n",
       "      <td>3</td>\n",
       "      <td>3</td>\n",
       "      <td>8</td>\n",
       "      <td>1.125000</td>\n",
       "    </tr>\n",
       "    <tr>\n",
       "      <th>4</th>\n",
       "      <td>Изменить цвет фона главной страницы, чтобы увеличить вовлеченность пользователей</td>\n",
       "      <td>3</td>\n",
       "      <td>1</td>\n",
       "      <td>1</td>\n",
       "      <td>1</td>\n",
       "      <td>1.000000</td>\n",
       "    </tr>\n",
       "    <tr>\n",
       "      <th>5</th>\n",
       "      <td>Добавить страницу отзывов клиентов о магазине, что позволит увеличить количество заказов</td>\n",
       "      <td>3</td>\n",
       "      <td>2</td>\n",
       "      <td>2</td>\n",
       "      <td>3</td>\n",
       "      <td>1.333333</td>\n",
       "    </tr>\n",
       "    <tr>\n",
       "      <th>6</th>\n",
       "      <td>Показать на главной странице баннеры с актуальными акциями и распродажами, чтобы увеличить конверсию</td>\n",
       "      <td>5</td>\n",
       "      <td>3</td>\n",
       "      <td>8</td>\n",
       "      <td>3</td>\n",
       "      <td>8.000000</td>\n",
       "    </tr>\n",
       "    <tr>\n",
       "      <th>7</th>\n",
       "      <td>Добавить форму подписки на все основные страницы, чтобы собрать базу клиентов для email-рассылок</td>\n",
       "      <td>10</td>\n",
       "      <td>7</td>\n",
       "      <td>8</td>\n",
       "      <td>5</td>\n",
       "      <td>11.200000</td>\n",
       "    </tr>\n",
       "    <tr>\n",
       "      <th>8</th>\n",
       "      <td>Запустить акцию, дающую скидку на товар в день рождения</td>\n",
       "      <td>1</td>\n",
       "      <td>9</td>\n",
       "      <td>9</td>\n",
       "      <td>5</td>\n",
       "      <td>16.200000</td>\n",
       "    </tr>\n",
       "  </tbody>\n",
       "</table>\n",
       "</div>"
      ],
      "text/plain": [
       "                                                                                                     Hypothesis  \\\n",
       "0            Добавить два новых канала привлечения трафика, что позволит привлекать на 30% больше пользователей   \n",
       "1                                     Запустить собственную службу доставки, что сократит срок доставки заказов   \n",
       "2  Добавить блоки рекомендаций товаров на сайт интернет магазина, чтобы повысить конверсию и средний чек заказа   \n",
       "3           Изменить структура категорий, что увеличит конверсию, т.к. пользователи быстрее найдут нужный товар   \n",
       "4                              Изменить цвет фона главной страницы, чтобы увеличить вовлеченность пользователей   \n",
       "5                      Добавить страницу отзывов клиентов о магазине, что позволит увеличить количество заказов   \n",
       "6          Показать на главной странице баннеры с актуальными акциями и распродажами, чтобы увеличить конверсию   \n",
       "7              Добавить форму подписки на все основные страницы, чтобы собрать базу клиентов для email-рассылок   \n",
       "8                                                       Запустить акцию, дающую скидку на товар в день рождения   \n",
       "\n",
       "   Reach  Impact  Confidence  Efforts        ICE  \n",
       "0      3      10           8        6  13.333333  \n",
       "1      2       5           4       10   2.000000  \n",
       "2      8       3           7        3   7.000000  \n",
       "3      8       3           3        8   1.125000  \n",
       "4      3       1           1        1   1.000000  \n",
       "5      3       2           2        3   1.333333  \n",
       "6      5       3           8        3   8.000000  \n",
       "7     10       7           8        5  11.200000  \n",
       "8      1       9           9        5  16.200000  "
      ]
     },
     "metadata": {},
     "output_type": "display_data"
    },
    {
     "data": {
      "image/png": "[encoded data removed]",
      "text/plain": [
       "<Figure size 1000x600 with 1 Axes>"
      ]
     },
     "metadata": {},
     "output_type": "display_data"
    }
   ],
   "source": [
    "# Creating the ICE column and sorting (descending) by this column\n",
    "hypothesis_new = hypothesis\n",
    "hypothesis_new[\"ICE\"] = (\n",
    "    hypothesis_new[\"Impact\"] * hypothesis_new[\"Confidence\"] / hypothesis_new[\"Efforts\"]\n",
    ")\n",
    "hypothesis_new.sort_values(by=\"ICE\", ascending=False)\n",
    "display(hypothesis_new)\n",
    "\n",
    "#Plotting\n",
    "colors = sns.color_palette(\"pastel\")\n",
    "with plt.style.context(\"seaborn\"):\n",
    "    hypothesis_new.sort_values(by=\"ICE\", ascending=False).plot(\n",
    "        kind=\"bar\", y=\"ICE\", color=colors[:9], figsize=(10, 6)\n",
    "    )\n",
    "    plt.title(\"Hypothesis priority\")\n",
    "    plt.xticks(rotation=0)\n",
    "    plt.xlabel(\"Hypothesis number\")\n",
    "    plt.ylabel(\"RICE\")\n",
    "    plt.show();"
   ]
  },
  {
   "cell_type": "markdown",
   "metadata": {
    "lang": "en"
   },
   "source": [
    "**The 8th hypothesis has the highest priority**"
   ]
  },
  {
   "cell_type": "markdown",
   "metadata": {
    "lang": "en"
   },
   "source": [
    "#### Prioritization with the RICE framework"
   ]
  },
  {
   "cell_type": "markdown",
   "metadata": {
    "lang": "en"
   },
   "source": [
    "Let's create a `RICE` column calculated as `Reach *Impact* Confidence / Efforts`. Let's sort it in descending order."
   ]
  },
  {
   "cell_type": "code",
   "execution_count": 6,
   "metadata": {},
   "outputs": [
    {
     "data": {
      "text/html": [
       "<div>\n",
       "<style scoped>\n",
       "    .dataframe tbody tr th:only-of-type {\n",
       "        vertical-align: middle;\n",
       "    }\n",
       "\n",
       "    .dataframe tbody tr th {\n",
       "        vertical-align: top;\n",
       "    }\n",
       "\n",
       "    .dataframe thead th {\n",
       "        text-align: right;\n",
       "    }\n",
       "</style>\n",
       "<table border=\"1\" class=\"dataframe\">\n",
       "  <thead>\n",
       "    <tr style=\"text-align: right;\">\n",
       "      <th></th>\n",
       "      <th>Hypothesis</th>\n",
       "      <th>Reach</th>\n",
       "      <th>Impact</th>\n",
       "      <th>Confidence</th>\n",
       "      <th>Efforts</th>\n",
       "      <th>ICE</th>\n",
       "      <th>RICE</th>\n",
       "    </tr>\n",
       "  </thead>\n",
       "  <tbody>\n",
       "    <tr>\n",
       "      <th>0</th>\n",
       "      <td>Добавить два новых канала привлечения трафика, что позволит привлекать на 30% больше пользователей</td>\n",
       "      <td>3</td>\n",
       "      <td>10</td>\n",
       "      <td>8</td>\n",
       "      <td>6</td>\n",
       "      <td>13.333333</td>\n",
       "      <td>40.0</td>\n",
       "    </tr>\n",
       "    <tr>\n",
       "      <th>1</th>\n",
       "      <td>Запустить собственную службу доставки, что сократит срок доставки заказов</td>\n",
       "      <td>2</td>\n",
       "      <td>5</td>\n",
       "      <td>4</td>\n",
       "      <td>10</td>\n",
       "      <td>2.000000</td>\n",
       "      <td>4.0</td>\n",
       "    </tr>\n",
       "    <tr>\n",
       "      <th>2</th>\n",
       "      <td>Добавить блоки рекомендаций товаров на сайт интернет магазина, чтобы повысить конверсию и средний чек заказа</td>\n",
       "      <td>8</td>\n",
       "      <td>3</td>\n",
       "      <td>7</td>\n",
       "      <td>3</td>\n",
       "      <td>7.000000</td>\n",
       "      <td>56.0</td>\n",
       "    </tr>\n",
       "    <tr>\n",
       "      <th>3</th>\n",
       "      <td>Изменить структура категорий, что увеличит конверсию, т.к. пользователи быстрее найдут нужный товар</td>\n",
       "      <td>8</td>\n",
       "      <td>3</td>\n",
       "      <td>3</td>\n",
       "      <td>8</td>\n",
       "      <td>1.125000</td>\n",
       "      <td>9.0</td>\n",
       "    </tr>\n",
       "    <tr>\n",
       "      <th>4</th>\n",
       "      <td>Изменить цвет фона главной страницы, чтобы увеличить вовлеченность пользователей</td>\n",
       "      <td>3</td>\n",
       "      <td>1</td>\n",
       "      <td>1</td>\n",
       "      <td>1</td>\n",
       "      <td>1.000000</td>\n",
       "      <td>3.0</td>\n",
       "    </tr>\n",
       "    <tr>\n",
       "      <th>5</th>\n",
       "      <td>Добавить страницу отзывов клиентов о магазине, что позволит увеличить количество заказов</td>\n",
       "      <td>3</td>\n",
       "      <td>2</td>\n",
       "      <td>2</td>\n",
       "      <td>3</td>\n",
       "      <td>1.333333</td>\n",
       "      <td>4.0</td>\n",
       "    </tr>\n",
       "    <tr>\n",
       "      <th>6</th>\n",
       "      <td>Показать на главной странице баннеры с актуальными акциями и распродажами, чтобы увеличить конверсию</td>\n",
       "      <td>5</td>\n",
       "      <td>3</td>\n",
       "      <td>8</td>\n",
       "      <td>3</td>\n",
       "      <td>8.000000</td>\n",
       "      <td>40.0</td>\n",
       "    </tr>\n",
       "    <tr>\n",
       "      <th>7</th>\n",
       "      <td>Добавить форму подписки на все основные страницы, чтобы собрать базу клиентов для email-рассылок</td>\n",
       "      <td>10</td>\n",
       "      <td>7</td>\n",
       "      <td>8</td>\n",
       "      <td>5</td>\n",
       "      <td>11.200000</td>\n",
       "      <td>112.0</td>\n",
       "    </tr>\n",
       "    <tr>\n",
       "      <th>8</th>\n",
       "      <td>Запустить акцию, дающую скидку на товар в день рождения</td>\n",
       "      <td>1</td>\n",
       "      <td>9</td>\n",
       "      <td>9</td>\n",
       "      <td>5</td>\n",
       "      <td>16.200000</td>\n",
       "      <td>16.2</td>\n",
       "    </tr>\n",
       "  </tbody>\n",
       "</table>\n",
       "</div>"
      ],
      "text/plain": [
       "                                                                                                     Hypothesis  \\\n",
       "0            Добавить два новых канала привлечения трафика, что позволит привлекать на 30% больше пользователей   \n",
       "1                                     Запустить собственную службу доставки, что сократит срок доставки заказов   \n",
       "2  Добавить блоки рекомендаций товаров на сайт интернет магазина, чтобы повысить конверсию и средний чек заказа   \n",
       "3           Изменить структура категорий, что увеличит конверсию, т.к. пользователи быстрее найдут нужный товар   \n",
       "4                              Изменить цвет фона главной страницы, чтобы увеличить вовлеченность пользователей   \n",
       "5                      Добавить страницу отзывов клиентов о магазине, что позволит увеличить количество заказов   \n",
       "6          Показать на главной странице баннеры с актуальными акциями и распродажами, чтобы увеличить конверсию   \n",
       "7              Добавить форму подписки на все основные страницы, чтобы собрать базу клиентов для email-рассылок   \n",
       "8                                                       Запустить акцию, дающую скидку на товар в день рождения   \n",
       "\n",
       "   Reach  Impact  Confidence  Efforts        ICE   RICE  \n",
       "0      3      10           8        6  13.333333   40.0  \n",
       "1      2       5           4       10   2.000000    4.0  \n",
       "2      8       3           7        3   7.000000   56.0  \n",
       "3      8       3           3        8   1.125000    9.0  \n",
       "4      3       1           1        1   1.000000    3.0  \n",
       "5      3       2           2        3   1.333333    4.0  \n",
       "6      5       3           8        3   8.000000   40.0  \n",
       "7     10       7           8        5  11.200000  112.0  \n",
       "8      1       9           9        5  16.200000   16.2  "
      ]
     },
     "metadata": {},
     "output_type": "display_data"
    },
    {
     "data": {
      "image/png": "[encoded data removed]",
      "text/plain": [
       "<Figure size 1000x600 with 1 Axes>"
      ]
     },
     "metadata": {},
     "output_type": "display_data"
    }
   ],
   "source": [
    "# Creating the RICE column and sorting (descending) by this column\n",
    "hypothesis_new[\"RICE\"] = (\n",
    "    hypothesis_new[\"Reach\"]\n",
    "    * hypothesis_new[\"Impact\"]\n",
    "    * hypothesis_new[\"Confidence\"]\n",
    "    / hypothesis_new[\"Efforts\"]\n",
    ")\n",
    "hypothesis_new.sort_values(by=\"RICE\", ascending=False)\n",
    "display(hypothesis_new)\n",
    "\n",
    "#Plotting\n",
    "colors = sns.color_palette(\"pastel\")\n",
    "with plt.style.context(\"seaborn\"):\n",
    "    hypothesis_new.sort_values(by=\"RICE\", ascending=False).plot(\n",
    "        kind=\"bar\", y=\"RICE\", figsize=(10, 6), color=colors[:9]\n",
    "    )\n",
    "    plt.title(\"Hypothesis priority\")\n",
    "    plt.xticks(rotation=0)\n",
    "    plt.xlabel(\"Hypothesis number\")\n",
    "    plt.ylabel(\"RICE\")\n",
    "    plt.show();"
   ]
  },
  {
   "cell_type": "markdown",
   "metadata": {
    "lang": "en"
   },
   "source": [
    "**The 7th hypothesis now has the highest priority**"
   ]
  },
  {
   "cell_type": "markdown",
   "metadata": {
    "lang": "en"
   },
   "source": [
    "**Section summary:**\n",
    "- The order of priorities for hypotheses in the RICE framework has changed.\n",
    "- This is due to the fact that the hypotheses have different reach of users who will be affected by the change in the hypothesis."
   ]
  },
  {
   "cell_type": "markdown",
   "metadata": {
    "lang": "en"
   },
   "source": [
    "### A/B test analysis"
   ]
  },
  {
   "cell_type": "markdown",
   "metadata": {
    "lang": "en"
   },
   "source": [
    "#### Data preprocessing"
   ]
  },
  {
   "cell_type": "markdown",
   "metadata": {
    "lang": "en"
   },
   "source": [
    "Let's look at the first 5 lines of the `orders` dataset."
   ]
  },
  {
   "cell_type": "code",
   "execution_count": 7,
   "metadata": {},
   "outputs": [
    {
     "data": {
      "text/html": [
       "<div>\n",
       "<style scoped>\n",
       "    .dataframe tbody tr th:only-of-type {\n",
       "        vertical-align: middle;\n",
       "    }\n",
       "\n",
       "    .dataframe tbody tr th {\n",
       "        vertical-align: top;\n",
       "    }\n",
       "\n",
       "    .dataframe thead th {\n",
       "        text-align: right;\n",
       "    }\n",
       "</style>\n",
       "<table border=\"1\" class=\"dataframe\">\n",
       "  <thead>\n",
       "    <tr style=\"text-align: right;\">\n",
       "      <th></th>\n",
       "      <th>transactionId</th>\n",
       "      <th>visitorId</th>\n",
       "      <th>date</th>\n",
       "      <th>revenue</th>\n",
       "      <th>group</th>\n",
       "    </tr>\n",
       "  </thead>\n",
       "  <tbody>\n",
       "    <tr>\n",
       "      <th>0</th>\n",
       "      <td>3667963787</td>\n",
       "      <td>3312258926</td>\n",
       "      <td>2019-08-15</td>\n",
       "      <td>1650</td>\n",
       "      <td>B</td>\n",
       "    </tr>\n",
       "    <tr>\n",
       "      <th>1</th>\n",
       "      <td>2804400009</td>\n",
       "      <td>3642806036</td>\n",
       "      <td>2019-08-15</td>\n",
       "      <td>730</td>\n",
       "      <td>B</td>\n",
       "    </tr>\n",
       "    <tr>\n",
       "      <th>2</th>\n",
       "      <td>2961555356</td>\n",
       "      <td>4069496402</td>\n",
       "      <td>2019-08-15</td>\n",
       "      <td>400</td>\n",
       "      <td>A</td>\n",
       "    </tr>\n",
       "    <tr>\n",
       "      <th>3</th>\n",
       "      <td>3797467345</td>\n",
       "      <td>1196621759</td>\n",
       "      <td>2019-08-15</td>\n",
       "      <td>9759</td>\n",
       "      <td>B</td>\n",
       "    </tr>\n",
       "    <tr>\n",
       "      <th>4</th>\n",
       "      <td>2282983706</td>\n",
       "      <td>2322279887</td>\n",
       "      <td>2019-08-15</td>\n",
       "      <td>2308</td>\n",
       "      <td>B</td>\n",
       "    </tr>\n",
       "  </tbody>\n",
       "</table>\n",
       "</div>"
      ],
      "text/plain": [
       "   transactionId   visitorId        date  revenue group\n",
       "0     3667963787  3312258926  2019-08-15     1650     B\n",
       "1     2804400009  3642806036  2019-08-15      730     B\n",
       "2     2961555356  4069496402  2019-08-15      400     A\n",
       "3     3797467345  1196621759  2019-08-15     9759     B\n",
       "4     2282983706  2322279887  2019-08-15     2308     B"
      ]
     },
     "execution_count": 7,
     "metadata": {},
     "output_type": "execute_result"
    }
   ],
   "source": [
    "orders.head(5)"
   ]
  },
  {
   "cell_type": "markdown",
   "metadata": {
    "lang": "en"
   },
   "source": [
    "Let's rename the column names and examine the information about the dataset."
   ]
  },
  {
   "cell_type": "code",
   "execution_count": 8,
   "metadata": {},
   "outputs": [
    {
     "name": "stdout",
     "output_type": "stream",
     "text": [
      "<class 'pandas.core.frame.DataFrame'>\n",
      "RangeIndex: 1197 entries, 0 to 1196\n",
      "Data columns (total 5 columns):\n",
      " #   Column          Non-Null Count  Dtype \n",
      "---  ------          --------------  ----- \n",
      " 0   transaction_id  1197 non-null   int64 \n",
      " 1   visitor_id      1197 non-null   int64 \n",
      " 2   date            1197 non-null   object\n",
      " 3   revenue         1197 non-null   int64 \n",
      " 4   group           1197 non-null   object\n",
      "dtypes: int64(3), object(2)\n",
      "memory usage: 46.9+ KB\n"
     ]
    }
   ],
   "source": [
    "orders.columns = [\"transaction_id\", \"visitor_id\", \"date\", \"revenue\", \"group\"]\n",
    "orders.info()"
   ]
  },
  {
   "cell_type": "markdown",
   "metadata": {
    "lang": "en"
   },
   "source": [
    "There are no passes. Change the data type of the `date` column from `object` to `datetime`."
   ]
  },
  {
   "cell_type": "code",
   "execution_count": 9,
   "metadata": {},
   "outputs": [
    {
     "name": "stdout",
     "output_type": "stream",
     "text": [
      "<class 'pandas.core.frame.DataFrame'>\n",
      "RangeIndex: 1197 entries, 0 to 1196\n",
      "Data columns (total 5 columns):\n",
      " #   Column          Non-Null Count  Dtype         \n",
      "---  ------          --------------  -----         \n",
      " 0   transaction_id  1197 non-null   int64         \n",
      " 1   visitor_id      1197 non-null   int64         \n",
      " 2   date            1197 non-null   datetime64[ns]\n",
      " 3   revenue         1197 non-null   int64         \n",
      " 4   group           1197 non-null   object        \n",
      "dtypes: datetime64[ns](1), int64(3), object(1)\n",
      "memory usage: 46.9+ KB\n"
     ]
    }
   ],
   "source": [
    "orders[\"date\"] = pd.to_datetime(orders[\"date\"])\n",
    "orders.info()"
   ]
  },
  {
   "cell_type": "markdown",
   "metadata": {
    "lang": "en"
   },
   "source": [
    "Let's check for duplicates."
   ]
  },
  {
   "cell_type": "code",
   "execution_count": 10,
   "metadata": {},
   "outputs": [
    {
     "data": {
      "text/plain": [
       "0"
      ]
     },
     "execution_count": 10,
     "metadata": {},
     "output_type": "execute_result"
    }
   ],
   "source": [
    "orders.duplicated().sum()"
   ]
  },
  {
   "cell_type": "markdown",
   "metadata": {
    "lang": "en"
   },
   "source": [
    "There are no duplicates. Let's see how many unique users are in each group."
   ]
  },
  {
   "cell_type": "code",
   "execution_count": 11,
   "metadata": {},
   "outputs": [
    {
     "name": "stdout",
     "output_type": "stream",
     "text": [
      "503 unique users in group A\n",
      "586 unique users in group A\n"
     ]
    }
   ],
   "source": [
    "print(\n",
    "    orders[orders[\"group\"] == \"A\"][\"visitor_id\"].nunique(),\n",
    "    \"unique users in group A\",\n",
    ")\n",
    "print(\n",
    "    orders[orders[\"group\"] == \"B\"][\"visitor_id\"].nunique(),\n",
    "    \"unique users in group A\",\n",
    ")"
   ]
  },
  {
   "cell_type": "markdown",
   "metadata": {
    "lang": "en"
   },
   "source": [
    "Group B has quite a few more users. Let's see if there are users who belong to both groups."
   ]
  },
  {
   "cell_type": "code",
   "execution_count": 12,
   "metadata": {},
   "outputs": [
    {
     "data": {
      "text/plain": [
       "58"
      ]
     },
     "execution_count": 12,
     "metadata": {},
     "output_type": "execute_result"
    }
   ],
   "source": [
    "# Unique visitor ids for B group\n",
    "id_b = orders[orders[\"group\"] == \"B\"][\"visitor_id\"].drop_duplicates()\n",
    "\n",
    "# Unique visitor ids for A group\n",
    "id_a = orders[orders[\"group\"] == \"A\"][\"visitor_id\"].unique()\n",
    "\n",
    "# Sum of group B visitor ids in group A visitor ids\n",
    "duplicated_id = id_b.isin(id_a).sum()\n",
    "duplicated_id"
   ]
  },
  {
   "cell_type": "markdown",
   "metadata": {
    "lang": "en"
   },
   "source": [
    "- 58 users are included in both analysis segments.\n",
    "- Delete all lines with the data of these users."
   ]
  },
  {
   "cell_type": "markdown",
   "metadata": {
    "lang": "en"
   },
   "source": [
    "Let's create a mask to find duplicate users."
   ]
  },
  {
   "cell_type": "code",
   "execution_count": 13,
   "metadata": {},
   "outputs": [],
   "source": [
    "# Creating mask with duplicated ids\n",
    "mask = id_b.isin(id_a)"
   ]
  },
  {
   "cell_type": "markdown",
   "metadata": {
    "lang": "en"
   },
   "source": [
    "Let's apply a mask for unique users B group, thus we will find `visitor_id` which should be removed."
   ]
  },
  {
   "cell_type": "code",
   "execution_count": 14,
   "metadata": {},
   "outputs": [],
   "source": [
    "unique_b_id = orders[orders[\"group\"] == \"B\"][\"visitor_id\"].drop_duplicates()\n",
    "\n",
    "# Ids which we need to delete\n",
    "b_id_to_delete = unique_b_id[mask]"
   ]
  },
  {
   "cell_type": "markdown",
   "metadata": {
    "lang": "en"
   },
   "source": [
    "Let's create a mask for orders where `visitor_id` is among duplicates."
   ]
  },
  {
   "cell_type": "code",
   "execution_count": 15,
   "metadata": {
    "scrolled": true
   },
   "outputs": [],
   "source": [
    "# Orders with visitor ids which we need to delete\n",
    "orders_to_delete = orders[\"visitor_id\"].isin(b_id_to_delete)"
   ]
  },
  {
   "cell_type": "markdown",
   "metadata": {
    "lang": "en"
   },
   "source": [
    "Let's apply a mask to `orders`."
   ]
  },
  {
   "cell_type": "code",
   "execution_count": 16,
   "metadata": {},
   "outputs": [
    {
     "data": {
      "text/html": [
       "<div>\n",
       "<style scoped>\n",
       "    .dataframe tbody tr th:only-of-type {\n",
       "        vertical-align: middle;\n",
       "    }\n",
       "\n",
       "    .dataframe tbody tr th {\n",
       "        vertical-align: top;\n",
       "    }\n",
       "\n",
       "    .dataframe thead th {\n",
       "        text-align: right;\n",
       "    }\n",
       "</style>\n",
       "<table border=\"1\" class=\"dataframe\">\n",
       "  <thead>\n",
       "    <tr style=\"text-align: right;\">\n",
       "      <th></th>\n",
       "      <th>transaction_id</th>\n",
       "      <th>visitor_id</th>\n",
       "      <th>date</th>\n",
       "      <th>revenue</th>\n",
       "      <th>group</th>\n",
       "    </tr>\n",
       "  </thead>\n",
       "  <tbody>\n",
       "    <tr>\n",
       "      <th>0</th>\n",
       "      <td>3667963787</td>\n",
       "      <td>3312258926</td>\n",
       "      <td>2019-08-15</td>\n",
       "      <td>1650</td>\n",
       "      <td>B</td>\n",
       "    </tr>\n",
       "    <tr>\n",
       "      <th>1</th>\n",
       "      <td>2804400009</td>\n",
       "      <td>3642806036</td>\n",
       "      <td>2019-08-15</td>\n",
       "      <td>730</td>\n",
       "      <td>B</td>\n",
       "    </tr>\n",
       "    <tr>\n",
       "      <th>3</th>\n",
       "      <td>3797467345</td>\n",
       "      <td>1196621759</td>\n",
       "      <td>2019-08-15</td>\n",
       "      <td>9759</td>\n",
       "      <td>B</td>\n",
       "    </tr>\n",
       "    <tr>\n",
       "      <th>4</th>\n",
       "      <td>2282983706</td>\n",
       "      <td>2322279887</td>\n",
       "      <td>2019-08-15</td>\n",
       "      <td>2308</td>\n",
       "      <td>B</td>\n",
       "    </tr>\n",
       "    <tr>\n",
       "      <th>5</th>\n",
       "      <td>182168103</td>\n",
       "      <td>935554773</td>\n",
       "      <td>2019-08-15</td>\n",
       "      <td>2210</td>\n",
       "      <td>B</td>\n",
       "    </tr>\n",
       "  </tbody>\n",
       "</table>\n",
       "</div>"
      ],
      "text/plain": [
       "   transaction_id  visitor_id       date  revenue group\n",
       "0      3667963787  3312258926 2019-08-15     1650     B\n",
       "1      2804400009  3642806036 2019-08-15      730     B\n",
       "3      3797467345  1196621759 2019-08-15     9759     B\n",
       "4      2282983706  2322279887 2019-08-15     2308     B\n",
       "5       182168103   935554773 2019-08-15     2210     B"
      ]
     },
     "execution_count": 16,
     "metadata": {},
     "output_type": "execute_result"
    }
   ],
   "source": [
    "# Deleting orders with duplicated ids\n",
    "orders = orders[~orders_to_delete]\n",
    "orders.head(5)"
   ]
  },
  {
   "cell_type": "markdown",
   "metadata": {
    "lang": "en"
   },
   "source": [
    "Let's see how many unique users are now in groups."
   ]
  },
  {
   "cell_type": "code",
   "execution_count": 17,
   "metadata": {},
   "outputs": [
    {
     "name": "stdout",
     "output_type": "stream",
     "text": [
      "445 unique users in group A\n",
      "528 unique users in group B\n"
     ]
    }
   ],
   "source": [
    "print(\n",
    "    orders[orders[\"group\"] == \"A\"][\"visitor_id\"].nunique(),\n",
    "    \"unique users in group A\",\n",
    ")\n",
    "print(\n",
    "    orders[orders[\"group\"] == \"B\"][\"visitor_id\"].nunique(),\n",
    "    \"unique users in group B\",\n",
    ")"
   ]
  },
  {
   "cell_type": "markdown",
   "metadata": {
    "lang": "en"
   },
   "source": [
    "Let's look at the first 5 lines of the `visitors` dataset."
   ]
  },
  {
   "cell_type": "code",
   "execution_count": 18,
   "metadata": {},
   "outputs": [
    {
     "data": {
      "text/html": [
       "<div>\n",
       "<style scoped>\n",
       "    .dataframe tbody tr th:only-of-type {\n",
       "        vertical-align: middle;\n",
       "    }\n",
       "\n",
       "    .dataframe tbody tr th {\n",
       "        vertical-align: top;\n",
       "    }\n",
       "\n",
       "    .dataframe thead th {\n",
       "        text-align: right;\n",
       "    }\n",
       "</style>\n",
       "<table border=\"1\" class=\"dataframe\">\n",
       "  <thead>\n",
       "    <tr style=\"text-align: right;\">\n",
       "      <th></th>\n",
       "      <th>date</th>\n",
       "      <th>group</th>\n",
       "      <th>visitors</th>\n",
       "    </tr>\n",
       "  </thead>\n",
       "  <tbody>\n",
       "    <tr>\n",
       "      <th>0</th>\n",
       "      <td>2019-08-01</td>\n",
       "      <td>A</td>\n",
       "      <td>719</td>\n",
       "    </tr>\n",
       "    <tr>\n",
       "      <th>1</th>\n",
       "      <td>2019-08-02</td>\n",
       "      <td>A</td>\n",
       "      <td>619</td>\n",
       "    </tr>\n",
       "    <tr>\n",
       "      <th>2</th>\n",
       "      <td>2019-08-03</td>\n",
       "      <td>A</td>\n",
       "      <td>507</td>\n",
       "    </tr>\n",
       "    <tr>\n",
       "      <th>3</th>\n",
       "      <td>2019-08-04</td>\n",
       "      <td>A</td>\n",
       "      <td>717</td>\n",
       "    </tr>\n",
       "    <tr>\n",
       "      <th>4</th>\n",
       "      <td>2019-08-05</td>\n",
       "      <td>A</td>\n",
       "      <td>756</td>\n",
       "    </tr>\n",
       "  </tbody>\n",
       "</table>\n",
       "</div>"
      ],
      "text/plain": [
       "         date group  visitors\n",
       "0  2019-08-01     A       719\n",
       "1  2019-08-02     A       619\n",
       "2  2019-08-03     A       507\n",
       "3  2019-08-04     A       717\n",
       "4  2019-08-05     A       756"
      ]
     },
     "execution_count": 18,
     "metadata": {},
     "output_type": "execute_result"
    }
   ],
   "source": [
    "visitors.head(5)"
   ]
  },
  {
   "cell_type": "markdown",
   "metadata": {
    "lang": "en"
   },
   "source": [
    "Let's study the information about the dataset."
   ]
  },
  {
   "cell_type": "code",
   "execution_count": 19,
   "metadata": {},
   "outputs": [
    {
     "name": "stdout",
     "output_type": "stream",
     "text": [
      "<class 'pandas.core.frame.DataFrame'>\n",
      "RangeIndex: 62 entries, 0 to 61\n",
      "Data columns (total 3 columns):\n",
      " #   Column    Non-Null Count  Dtype \n",
      "---  ------    --------------  ----- \n",
      " 0   date      62 non-null     object\n",
      " 1   group     62 non-null     object\n",
      " 2   visitors  62 non-null     int64 \n",
      "dtypes: int64(1), object(2)\n",
      "memory usage: 1.6+ KB\n"
     ]
    }
   ],
   "source": [
    "visitors.info()"
   ]
  },
  {
   "cell_type": "markdown",
   "metadata": {
    "lang": "en"
   },
   "source": [
    "Change the data type of the `date` column to `datetime`."
   ]
  },
  {
   "cell_type": "code",
   "execution_count": 20,
   "metadata": {},
   "outputs": [
    {
     "name": "stdout",
     "output_type": "stream",
     "text": [
      "<class 'pandas.core.frame.DataFrame'>\n",
      "RangeIndex: 62 entries, 0 to 61\n",
      "Data columns (total 3 columns):\n",
      " #   Column    Non-Null Count  Dtype         \n",
      "---  ------    --------------  -----         \n",
      " 0   date      62 non-null     datetime64[ns]\n",
      " 1   group     62 non-null     object        \n",
      " 2   visitors  62 non-null     int64         \n",
      "dtypes: datetime64[ns](1), int64(1), object(1)\n",
      "memory usage: 1.6+ KB\n"
     ]
    }
   ],
   "source": [
    "visitors[\"date\"] = pd.to_datetime(visitors[\"date\"])\n",
    "visitors.info()"
   ]
  },
  {
   "cell_type": "markdown",
   "metadata": {
    "lang": "en"
   },
   "source": [
    "Let's check for duplicates."
   ]
  },
  {
   "cell_type": "code",
   "execution_count": 21,
   "metadata": {},
   "outputs": [
    {
     "data": {
      "text/plain": [
       "0"
      ]
     },
     "execution_count": 21,
     "metadata": {},
     "output_type": "execute_result"
    }
   ],
   "source": [
    "visitors.duplicated().sum()"
   ]
  },
  {
   "cell_type": "markdown",
   "metadata": {
    "lang": "en"
   },
   "source": [
    "There are no duplicates."
   ]
  },
  {
   "cell_type": "markdown",
   "metadata": {
    "lang": "en"
   },
   "source": [
    "#### Graph of cumulative revenue by groups"
   ]
  },
  {
   "cell_type": "markdown",
   "metadata": {
    "lang": "en"
   },
   "source": [
    "- Create an array of unique pairs of date values ​​and test groups (`datesGroups`) using the drop_duplicates() method.\n",
    "- Let's collect aggregated daily data on orders (`ordersAggregated`) and visitors (`visitorsAggregated`) of the online store in several steps.\n",
    "- Combine both tables into one (`cumulativeData`) and create clear column names."
   ]
  },
  {
   "cell_type": "code",
   "execution_count": 22,
   "metadata": {},
   "outputs": [
    {
     "data": {
      "text/html": [
       "<div>\n",
       "<style scoped>\n",
       "    .dataframe tbody tr th:only-of-type {\n",
       "        vertical-align: middle;\n",
       "    }\n",
       "\n",
       "    .dataframe tbody tr th {\n",
       "        vertical-align: top;\n",
       "    }\n",
       "\n",
       "    .dataframe thead th {\n",
       "        text-align: right;\n",
       "    }\n",
       "</style>\n",
       "<table border=\"1\" class=\"dataframe\">\n",
       "  <thead>\n",
       "    <tr style=\"text-align: right;\">\n",
       "      <th></th>\n",
       "      <th>date</th>\n",
       "      <th>group</th>\n",
       "      <th>orders</th>\n",
       "      <th>buyers</th>\n",
       "      <th>revenue</th>\n",
       "      <th>visitors</th>\n",
       "    </tr>\n",
       "  </thead>\n",
       "  <tbody>\n",
       "    <tr>\n",
       "      <th>0</th>\n",
       "      <td>2019-08-01</td>\n",
       "      <td>A</td>\n",
       "      <td>23</td>\n",
       "      <td>19</td>\n",
       "      <td>142779</td>\n",
       "      <td>719</td>\n",
       "    </tr>\n",
       "    <tr>\n",
       "      <th>1</th>\n",
       "      <td>2019-08-01</td>\n",
       "      <td>B</td>\n",
       "      <td>17</td>\n",
       "      <td>17</td>\n",
       "      <td>59758</td>\n",
       "      <td>713</td>\n",
       "    </tr>\n",
       "    <tr>\n",
       "      <th>2</th>\n",
       "      <td>2019-08-02</td>\n",
       "      <td>A</td>\n",
       "      <td>42</td>\n",
       "      <td>36</td>\n",
       "      <td>234381</td>\n",
       "      <td>1338</td>\n",
       "    </tr>\n",
       "    <tr>\n",
       "      <th>3</th>\n",
       "      <td>2019-08-02</td>\n",
       "      <td>B</td>\n",
       "      <td>40</td>\n",
       "      <td>39</td>\n",
       "      <td>221801</td>\n",
       "      <td>1294</td>\n",
       "    </tr>\n",
       "    <tr>\n",
       "      <th>4</th>\n",
       "      <td>2019-08-03</td>\n",
       "      <td>A</td>\n",
       "      <td>66</td>\n",
       "      <td>60</td>\n",
       "      <td>346854</td>\n",
       "      <td>1845</td>\n",
       "    </tr>\n",
       "  </tbody>\n",
       "</table>\n",
       "</div>"
      ],
      "text/plain": [
       "        date group  orders  buyers  revenue  visitors\n",
       "0 2019-08-01     A      23      19   142779       719\n",
       "1 2019-08-01     B      17      17    59758       713\n",
       "2 2019-08-02     A      42      36   234381      1338\n",
       "3 2019-08-02     B      40      39   221801      1294\n",
       "4 2019-08-03     A      66      60   346854      1845"
      ]
     },
     "execution_count": 22,
     "metadata": {},
     "output_type": "execute_result"
    }
   ],
   "source": [
    "datesGroups = orders[[\"date\", \"group\"]].drop_duplicates()\n",
    "\n",
    "# Aggregated daily cumulative order data\n",
    "ordersAggregated = datesGroups.apply(\n",
    "    lambda x: orders[\n",
    "        np.logical_and(orders[\"date\"] <= x[\"date\"], orders[\"group\"] == x[\"group\"])\n",
    "    ].agg(\n",
    "        {\n",
    "            \"date\": \"max\",\n",
    "            \"group\": \"max\",\n",
    "            \"transaction_id\": \"nunique\",\n",
    "            \"visitor_id\": \"nunique\",\n",
    "            \"revenue\": \"sum\",\n",
    "        }\n",
    "    ),\n",
    "    axis=1,\n",
    ").sort_values(by=[\"date\", \"group\"])\n",
    "\n",
    "# Aggregated daily cumulative visitor data\n",
    "visitorsAggregated = datesGroups.apply(\n",
    "    lambda x: visitors[\n",
    "        np.logical_and(visitors[\"date\"] <= x[\"date\"], visitors[\"group\"] == x[\"group\"])\n",
    "    ].agg({\"date\": \"max\", \"group\": \"max\", \"visitors\": \"sum\"}),\n",
    "    axis=1,\n",
    ").sort_values(by=[\"date\", \"group\"])\n",
    "\n",
    "# Merging two dataframes\n",
    "cumulativeData = ordersAggregated.merge(\n",
    "    visitorsAggregated, left_on=[\"date\", \"group\"], right_on=[\"date\", \"group\"]\n",
    ")\n",
    "cumulativeData.columns = [\n",
    "    \"date\",\n",
    "    \"group\",\n",
    "    \"orders\",\n",
    "    \"buyers\",\n",
    "    \"revenue\",\n",
    "    \"visitors\",\n",
    "]\n",
    "cumulativeData.head(5)"
   ]
  },
  {
   "cell_type": "markdown",
   "metadata": {
    "lang": "en"
   },
   "source": [
    "Let's build graphs of cumulative revenue by days and groups of A/B testing:"
   ]
  },
  {
   "cell_type": "code",
   "execution_count": 23,
   "metadata": {},
   "outputs": [
    {
     "data": {
      "image/png": "[encoded data removed]",
      "text/plain": [
       "<Figure size 1000x600 with 1 Axes>"
      ]
     },
     "metadata": {},
     "output_type": "display_data"
    }
   ],
   "source": [
    "# Cumulative revenue of group A\n",
    "cumulativeRevenueA = cumulativeData[cumulativeData[\"group\"] == \"A\"][\n",
    "    [\"date\", \"revenue\", \"orders\"]\n",
    "]\n",
    "# Cumulative revenue of group B\n",
    "cumulativeRevenueB = cumulativeData[cumulativeData[\"group\"] == \"B\"][\n",
    "    [\"date\", \"revenue\", \"orders\"]\n",
    "]\n",
    "# Plotting\n",
    "colors = sns.color_palette(\"pastel\")\n",
    "plt.figure(figsize=(10, 6))\n",
    "with plt.style.context(\"seaborn\"):\n",
    "    plt.plot(\n",
    "        cumulativeRevenueA[\"date\"],\n",
    "        cumulativeRevenueA[\"revenue\"],\n",
    "        label=\"A\",\n",
    "        color=colors[0],\n",
    "        linewidth=2,\n",
    "    )\n",
    "    plt.plot(\n",
    "        cumulativeRevenueB[\"date\"],\n",
    "        cumulativeRevenueB[\"revenue\"],\n",
    "        label=\"B\",\n",
    "        color=colors[1],\n",
    "        linewidth=2,\n",
    "    )\n",
    "    plt.xticks(rotation=20)\n",
    "    plt.title(\"Cumulative revenue by groups\")\n",
    "    plt.ylabel(\"Revenue\")\n",
    "    plt.xlabel(\"Date\")\n",
    "    plt.legend()\n",
    "    plt.show();"
   ]
  },
  {
   "cell_type": "markdown",
   "metadata": {
    "lang": "en"
   },
   "source": [
    "**Summary:**\n",
    "- revenue increases almost evenly for group A and increases sharply for group B between August 17 and 21.\n",
    "- This may signal spikes in the number of orders, or the appearance of very expensive orders in group B."
   ]
  },
  {
   "cell_type": "markdown",
   "metadata": {
    "lang": "en"
   },
   "source": [
    "#### Graph of the cumulative average check by groups"
   ]
  },
  {
   "cell_type": "markdown",
   "metadata": {
    "lang": "en"
   },
   "source": [
    "Let's build graphs of the average bill by groups - we will divide the cumulative revenue by the cumulative number of orders."
   ]
  },
  {
   "cell_type": "code",
   "execution_count": 24,
   "metadata": {},
   "outputs": [
    {
     "data": {
      "image/png": "[encoded data removed]",
      "text/plain": [
       "<Figure size 1000x600 with 1 Axes>"
      ]
     },
     "metadata": {},
     "output_type": "display_data"
    }
   ],
   "source": [
    "# Plotting\n",
    "plt.figure(figsize=(10, 6), tight_layout=True)\n",
    "\n",
    "with plt.style.context(\"seaborn\"):\n",
    "    plt.plot(\n",
    "        cumulativeRevenueA[\"date\"],\n",
    "        cumulativeRevenueA[\"revenue\"] / cumulativeRevenueA[\"orders\"],\n",
    "        label=\"A\",\n",
    "        color=colors[0],\n",
    "        linewidth=2,\n",
    "    )\n",
    "    plt.plot(\n",
    "        cumulativeRevenueB[\"date\"],\n",
    "        cumulativeRevenueB[\"revenue\"] / cumulativeRevenueB[\"orders\"],\n",
    "        label=\"B\",\n",
    "        color=colors[1],\n",
    "        linewidth=2,\n",
    "    )\n",
    "    plt.xticks(rotation=20)\n",
    "    plt.title(\"Cumulative average check by groups\")\n",
    "    plt.ylabel(\"Average check\")\n",
    "    plt.xlabel(\"Date\")\n",
    "    plt.legend()\n",
    "    plt.show();"
   ]
  },
  {
   "cell_type": "markdown",
   "metadata": {
    "lang": "en"
   },
   "source": [
    "**Summary:**\n",
    "- the average check did not stabilize for both groups.\n",
    "- Seen a strong spike for group B between 17 and 21 August. This indicates the appearance of very expensive orders in this group on these dates. Then the average check of group B starts to decrease.\n",
    "- According to such a schedule, it seems that it is too early to draw any conclusions, and anomalies need to be filtered out."
   ]
  },
  {
   "cell_type": "markdown",
   "metadata": {
    "lang": "en"
   },
   "source": [
    "#### Graph of the relative change in the cumulative average check of group B to group A"
   ]
  },
  {
   "cell_type": "markdown",
   "metadata": {
    "lang": "en"
   },
   "source": [
    "Let's build a graph of the relative difference for the average bill. Let's add a horizontal axis using the `axhline()` method."
   ]
  },
  {
   "cell_type": "code",
   "execution_count": 25,
   "metadata": {},
   "outputs": [
    {
     "data": {
      "image/png": "[encoded data removed]",
      "text/plain": [
       "<Figure size 1000x600 with 1 Axes>"
      ]
     },
     "metadata": {},
     "output_type": "display_data"
    }
   ],
   "source": [
    "# Merging cumulative revenues A and B\n",
    "mergedCumulativeRevenue = cumulativeRevenueA.merge(\n",
    "    cumulativeRevenueB, left_on=\"date\", right_on=\"date\", how=\"left\", suffixes=[\"A\", \"B\"]\n",
    ")\n",
    "\n",
    "# Plotting\n",
    "plt.figure(figsize=(10, 6))\n",
    "with plt.style.context(\"seaborn\"):\n",
    "    plt.plot(\n",
    "        mergedCumulativeRevenue[\"date\"],\n",
    "        (mergedCumulativeRevenue[\"revenueB\"] / mergedCumulativeRevenue[\"ordersB\"])\n",
    "        / (mergedCumulativeRevenue[\"revenueA\"] / mergedCumulativeRevenue[\"ordersA\"])\n",
    "        - 1,\n",
    "    )\n",
    "\n",
    "    plt.axhline(y=0, color=\"black\", linestyle=\"--\", linewidth=1)\n",
    "    plt.xticks(rotation=20)\n",
    "    plt.xlabel(\"Date\")\n",
    "    plt.title(\n",
    "        \"Relative change in the cumulative average check of group B to group A\"\n",
    "    )\n",
    "    plt.show();"
   ]
  },
  {
   "cell_type": "markdown",
   "metadata": {
    "lang": "en"
   },
   "source": [
    "**Summary:**\n",
    "- at several points, the graph of the difference between the segments jumps sharply. Somewhere, large orders and emissions are definitely hidden."
   ]
  },
  {
   "cell_type": "markdown",
   "metadata": {
    "lang": "en"
   },
   "source": [
    "#### Graph of the cumulative average number of orders per visitor by group"
   ]
  },
  {
   "cell_type": "markdown",
   "metadata": {
    "lang": "en"
   },
   "source": [
    "Let's build graphs of the average number of orders per visitor by groups - we divide the cumulative number of orders by the cumulative number of visitors."
   ]
  },
  {
   "cell_type": "code",
   "execution_count": 26,
   "metadata": {},
   "outputs": [
    {
     "data": {
      "image/png": "[encoded data removed]",
      "text/plain": [
       "<Figure size 1000x600 with 1 Axes>"
      ]
     },
     "metadata": {},
     "output_type": "display_data"
    }
   ],
   "source": [
    "# Cumulative number of orders A\n",
    "cumulativeOrdersA = cumulativeData[cumulativeData[\"group\"] == \"A\"][\n",
    "    [\"date\", \"visitors\", \"orders\"]\n",
    "]\n",
    "# Cumulative number of orders B\n",
    "cumulativeOrdersB = cumulativeData[cumulativeData[\"group\"] == \"B\"][\n",
    "    [\"date\", \"visitors\", \"orders\"]\n",
    "]\n",
    "\n",
    "# Plotting\n",
    "plt.figure(figsize=(10, 6))\n",
    "with plt.style.context(\"seaborn\"):\n",
    "    plt.plot(\n",
    "        cumulativeOrdersA[\"date\"],\n",
    "        cumulativeOrdersA[\"orders\"] / cumulativeOrdersA[\"visitors\"],\n",
    "        label=\"A\",\n",
    "        linewidth=2,\n",
    "        color=colors[0],\n",
    "    )\n",
    "    plt.plot(\n",
    "        cumulativeOrdersB[\"date\"],\n",
    "        cumulativeOrdersB[\"orders\"] / cumulativeOrdersB[\"visitors\"],\n",
    "        label=\"B\",\n",
    "        linewidth=2,\n",
    "        color=colors[1],\n",
    "    )\n",
    "    plt.xticks(rotation=20)\n",
    "    plt.title(\n",
    "        \"Cumulative average number of orders per visitor by group\"\n",
    "    )\n",
    "    plt.ylabel(\"Number of orders per visitor\")\n",
    "    plt.xlabel(\"Date\")\n",
    "    plt.legend()\n",
    "    plt.show();"
   ]
  },
  {
   "cell_type": "markdown",
   "metadata": {
    "lang": "en"
   },
   "source": [
    "**Summary:**\n",
    "- in segment B, the average number of orders per visitor is higher than for segment A."
   ]
  },
  {
   "cell_type": "markdown",
   "metadata": {
    "lang": "en"
   },
   "source": [
    "#### Graph of the relative change in the cumulative average number of orders per visitor of group B to group A"
   ]
  },
  {
   "cell_type": "code",
   "execution_count": 27,
   "metadata": {},
   "outputs": [
    {
     "data": {
      "image/png": "[encoded data removed]",
      "text/plain": [
       "<Figure size 1000x600 with 1 Axes>"
      ]
     },
     "metadata": {},
     "output_type": "display_data"
    }
   ],
   "source": [
    "# Combining the cumulative numbers of orders A and B\n",
    "mergedCumulativeOrders = cumulativeOrdersA.merge(\n",
    "    cumulativeOrdersB, left_on=\"date\", right_on=\"date\", how=\"left\", suffixes=[\"A\", \"B\"]\n",
    ")\n",
    "\n",
    "#Plotting\n",
    "plt.figure(figsize=(10, 6))\n",
    "with plt.style.context(\"seaborn\"):\n",
    "    plt.plot(\n",
    "        mergedCumulativeOrders[\"date\"],\n",
    "        (mergedCumulativeOrders[\"ordersB\"] / mergedCumulativeOrders[\"visitorsB\"])\n",
    "        / (mergedCumulativeOrders[\"ordersA\"] / mergedCumulativeOrders[\"visitorsA\"])\n",
    "        - 1,\n",
    "    )\n",
    "\n",
    "    plt.axhline(y=0, color=\"black\", linestyle=\"--\", linewidth=1)\n",
    "    plt.xticks(rotation=20)\n",
    "    plt.xlabel(\"Дата\")\n",
    "    plt.title(\n",
    "        \"Relative change in the cumulative average number of orders per visitor of group B to group A\"\n",
    "    )\n",
    "    plt.show();"
   ]
  },
  {
   "cell_type": "markdown",
   "metadata": {
    "lang": "en"
   },
   "source": [
    "**Summary:**\n",
    "- at the beginning of the test, there are strong fluctuations in the number of orders, then the average number of orders per visitor levels off and is observed to be consistently higher than the value for segment B."
   ]
  },
  {
   "cell_type": "markdown",
   "metadata": {
    "lang": "en"
   },
   "source": [
    "#### Scatter plot of the number of orders by users"
   ]
  },
  {
   "cell_type": "markdown",
   "metadata": {
    "lang": "en"
   },
   "source": [
    "We build a scatter plot to look at the anomalous values ​​in the number of orders per user."
   ]
  },
  {
   "cell_type": "code",
   "execution_count": 28,
   "metadata": {},
   "outputs": [
    {
     "data": {
      "image/png": "[encoded data removed]",
      "text/plain": [
       "<Figure size 1000x600 with 1 Axes>"
      ]
     },
     "metadata": {},
     "output_type": "display_data"
    }
   ],
   "source": [
    "# Unique orders by users\n",
    "ordersByUsers = orders.groupby(\"visitor_id\", as_index=False).agg(\n",
    "    {\"transaction_id\": \"nunique\"}\n",
    ")\n",
    "ordersByUsers.columns = [\"visitor_id\", \"orders\"]\n",
    "\n",
    "x_values = pd.Series(range(0, len(ordersByUsers)))\n",
    "plt.figure(figsize=(10, 6))\n",
    "\n",
    "# Plotting\n",
    "with plt.style.context(\"ggplot\"):\n",
    "    plt.scatter(x_values, ordersByUsers[\"orders\"], alpha=0.3, color=\"green\")\n",
    "    plt.title(\"Scatter plot of the number of orders by users\")\n",
    "    plt.ylabel(\"The number of orders\")\n",
    "    plt.xlabel(\"Users\")\n",
    "    plt.show();"
   ]
  },
  {
   "cell_type": "markdown",
   "metadata": {
    "lang": "en"
   },
   "source": [
    "**Summary:**\n",
    "- most users have 1 order.\n",
    "- There are also users with 2-3 orders, their exact share is not clear - it is not clear whether they should be considered anomalies or not.\n",
    "\n",
    "Let's calculate the sample percentiles of the number of orders per user."
   ]
  },
  {
   "cell_type": "markdown",
   "metadata": {
    "lang": "en"
   },
   "source": [
    "#### 95th and 99th percentiles of orders per user."
   ]
  },
  {
   "cell_type": "code",
   "execution_count": 29,
   "metadata": {},
   "outputs": [
    {
     "data": {
      "text/plain": [
       "array([1., 1., 2.])"
      ]
     },
     "execution_count": 29,
     "metadata": {},
     "output_type": "execute_result"
    }
   ],
   "source": [
    "np.percentile(ordersByUsers[\"orders\"], [90, 95, 99])"
   ]
  },
  {
   "cell_type": "markdown",
   "metadata": {
    "lang": "en"
   },
   "source": [
    "**Summary:**\n",
    "- less than 5 percent of people placed more than 2 orders.\n",
    "\n",
    "Let's choose the 95th percentile as the boundary for filtering out anomalies."
   ]
  },
  {
   "cell_type": "markdown",
   "metadata": {
    "lang": "en"
   },
   "source": [
    "#### Scatter plot of order values"
   ]
  },
  {
   "cell_type": "markdown",
   "metadata": {
    "lang": "en"
   },
   "source": [
    "We build a scatter plot to look at anomalous values ​​in order values."
   ]
  },
  {
   "cell_type": "code",
   "execution_count": 30,
   "metadata": {},
   "outputs": [
    {
     "data": {
      "image/png": "[encoded data removed]",
      "text/plain": [
       "<Figure size 1000x600 with 1 Axes>"
      ]
     },
     "metadata": {},
     "output_type": "display_data"
    }
   ],
   "source": [
    "# Plotting\n",
    "x_values = pd.Series(range(0, len(orders[\"revenue\"])))\n",
    "plt.figure(figsize=(10, 6))\n",
    "with plt.style.context(\"ggplot\"):\n",
    "    plt.scatter(x_values, orders[\"revenue\"], alpha=0.3, color=\"green\")\n",
    "    plt.title(\"Scatter plot of order values\")\n",
    "    plt.ylabel(\"Order cost\")\n",
    "    plt.xlabel(\"Orders\")\n",
    "    plt.show();"
   ]
  },
  {
   "cell_type": "markdown",
   "metadata": {
    "lang": "en"
   },
   "source": [
    "If you limit the values ​​of order costs, you can take a closer look at the bulk of the values:"
   ]
  },
  {
   "cell_type": "code",
   "execution_count": 31,
   "metadata": {},
   "outputs": [
    {
     "data": {
      "image/png": "[encoded data removed]",
      "text/plain": [
       "<Figure size 1000x600 with 1 Axes>"
      ]
     },
     "metadata": {},
     "output_type": "display_data"
    }
   ],
   "source": [
    "# Plotting limited by y \n",
    "x_values = pd.Series(range(0, len(orders[\"revenue\"])))\n",
    "plt.figure(figsize=(10, 6))\n",
    "with plt.style.context(\"ggplot\"):\n",
    "    plt.scatter(x_values, orders[\"revenue\"], alpha=0.3, color=\"green\")\n",
    "    plt.ylim(0, 40000)\n",
    "    plt.title(\"Scatter plot of order values\")\n",
    "    plt.ylabel(\"Order cost\")\n",
    "    plt.xlabel(\"Orders\")\n",
    "    plt.show();"
   ]
  },
  {
   "cell_type": "markdown",
   "metadata": {
    "lang": "en"
   },
   "source": [
    "**Summary:**\n",
    "- very rare values  visible that stand out from the main mass, these are clearly anomalies.\n",
    "\n",
    "Let's look at percentiles."
   ]
  },
  {
   "cell_type": "markdown",
   "metadata": {
    "lang": "en"
   },
   "source": [
    "#### 95th and 99th order value percentiles"
   ]
  },
  {
   "cell_type": "code",
   "execution_count": 32,
   "metadata": {},
   "outputs": [
    {
     "data": {
      "text/plain": [
       "array([17990., 26785., 53904.])"
      ]
     },
     "execution_count": 32,
     "metadata": {},
     "output_type": "execute_result"
    }
   ],
   "source": [
    "np.percentile(orders[\"revenue\"], [90, 95, 99])"
   ]
  },
  {
   "cell_type": "markdown",
   "metadata": {
    "lang": "en"
   },
   "source": [
    "**Summary:**\n",
    "- no more than 5 percent of orders over 27,000.\n",
    "\n",
    "Let's take the 95th percentile out of bounds for the anomaly filter."
   ]
  },
  {
   "cell_type": "markdown",
   "metadata": {
    "lang": "en"
   },
   "source": [
    "#### Statistical significance of differences in the average number of orders per visitor between groups according to \"raw\" data"
   ]
  },
  {
   "cell_type": "code",
   "execution_count": 33,
   "metadata": {},
   "outputs": [
    {
     "data": {
      "text/html": [
       "<div>\n",
       "<style scoped>\n",
       "    .dataframe tbody tr th:only-of-type {\n",
       "        vertical-align: middle;\n",
       "    }\n",
       "\n",
       "    .dataframe tbody tr th {\n",
       "        vertical-align: top;\n",
       "    }\n",
       "\n",
       "    .dataframe thead th {\n",
       "        text-align: right;\n",
       "    }\n",
       "</style>\n",
       "<table border=\"1\" class=\"dataframe\">\n",
       "  <thead>\n",
       "    <tr style=\"text-align: right;\">\n",
       "      <th></th>\n",
       "      <th>date</th>\n",
       "      <th>ordersPerDateA</th>\n",
       "      <th>revenuePerDateA</th>\n",
       "      <th>ordersPerDateB</th>\n",
       "      <th>revenuePerDateB</th>\n",
       "      <th>ordersCummulativeA</th>\n",
       "      <th>revenueCummulativeA</th>\n",
       "      <th>ordersCummulativeB</th>\n",
       "      <th>revenueCummulativeB</th>\n",
       "      <th>visitorsPerDateA</th>\n",
       "      <th>visitorsPerDateB</th>\n",
       "      <th>visitorsCummulativeA</th>\n",
       "      <th>visitorsCummulativeB</th>\n",
       "    </tr>\n",
       "  </thead>\n",
       "  <tbody>\n",
       "    <tr>\n",
       "      <th>0</th>\n",
       "      <td>2019-08-01</td>\n",
       "      <td>23</td>\n",
       "      <td>142779</td>\n",
       "      <td>17</td>\n",
       "      <td>59758</td>\n",
       "      <td>23</td>\n",
       "      <td>142779</td>\n",
       "      <td>17</td>\n",
       "      <td>59758</td>\n",
       "      <td>719</td>\n",
       "      <td>713</td>\n",
       "      <td>719</td>\n",
       "      <td>713</td>\n",
       "    </tr>\n",
       "    <tr>\n",
       "      <th>1</th>\n",
       "      <td>2019-08-02</td>\n",
       "      <td>19</td>\n",
       "      <td>91602</td>\n",
       "      <td>23</td>\n",
       "      <td>162043</td>\n",
       "      <td>42</td>\n",
       "      <td>234381</td>\n",
       "      <td>40</td>\n",
       "      <td>221801</td>\n",
       "      <td>619</td>\n",
       "      <td>581</td>\n",
       "      <td>1338</td>\n",
       "      <td>1294</td>\n",
       "    </tr>\n",
       "    <tr>\n",
       "      <th>2</th>\n",
       "      <td>2019-08-03</td>\n",
       "      <td>24</td>\n",
       "      <td>112473</td>\n",
       "      <td>14</td>\n",
       "      <td>67049</td>\n",
       "      <td>66</td>\n",
       "      <td>346854</td>\n",
       "      <td>54</td>\n",
       "      <td>288850</td>\n",
       "      <td>507</td>\n",
       "      <td>509</td>\n",
       "      <td>1845</td>\n",
       "      <td>1803</td>\n",
       "    </tr>\n",
       "    <tr>\n",
       "      <th>3</th>\n",
       "      <td>2019-08-04</td>\n",
       "      <td>11</td>\n",
       "      <td>41176</td>\n",
       "      <td>14</td>\n",
       "      <td>96890</td>\n",
       "      <td>77</td>\n",
       "      <td>388030</td>\n",
       "      <td>68</td>\n",
       "      <td>385740</td>\n",
       "      <td>717</td>\n",
       "      <td>770</td>\n",
       "      <td>2562</td>\n",
       "      <td>2573</td>\n",
       "    </tr>\n",
       "    <tr>\n",
       "      <th>4</th>\n",
       "      <td>2019-08-05</td>\n",
       "      <td>22</td>\n",
       "      <td>86383</td>\n",
       "      <td>21</td>\n",
       "      <td>89908</td>\n",
       "      <td>99</td>\n",
       "      <td>474413</td>\n",
       "      <td>89</td>\n",
       "      <td>475648</td>\n",
       "      <td>756</td>\n",
       "      <td>707</td>\n",
       "      <td>3318</td>\n",
       "      <td>3280</td>\n",
       "    </tr>\n",
       "  </tbody>\n",
       "</table>\n",
       "</div>"
      ],
      "text/plain": [
       "        date  ordersPerDateA  revenuePerDateA  ordersPerDateB  \\\n",
       "0 2019-08-01              23           142779              17   \n",
       "1 2019-08-02              19            91602              23   \n",
       "2 2019-08-03              24           112473              14   \n",
       "3 2019-08-04              11            41176              14   \n",
       "4 2019-08-05              22            86383              21   \n",
       "\n",
       "   revenuePerDateB  ordersCummulativeA  revenueCummulativeA  \\\n",
       "0            59758                  23               142779   \n",
       "1           162043                  42               234381   \n",
       "2            67049                  66               346854   \n",
       "3            96890                  77               388030   \n",
       "4            89908                  99               474413   \n",
       "\n",
       "   ordersCummulativeB  revenueCummulativeB  visitorsPerDateA  \\\n",
       "0                  17                59758               719   \n",
       "1                  40               221801               619   \n",
       "2                  54               288850               507   \n",
       "3                  68               385740               717   \n",
       "4                  89               475648               756   \n",
       "\n",
       "   visitorsPerDateB  visitorsCummulativeA  visitorsCummulativeB  \n",
       "0               713                   719                   713  \n",
       "1               581                  1338                  1294  \n",
       "2               509                  1845                  1803  \n",
       "3               770                  2562                  2573  \n",
       "4               707                  3318                  3280  "
      ]
     },
     "execution_count": 33,
     "metadata": {},
     "output_type": "execute_result"
    }
   ],
   "source": [
    "# Group A visitors by dates\n",
    "visitorsADaily = visitors[visitors[\"group\"] == \"A\"][[\"date\", \"visitors\"]]\n",
    "visitorsADaily.columns = [\"date\", \"visitorsPerDateA\"]\n",
    "\n",
    "# Cumulative number of group A visitors by dates\n",
    "visitorsACummulative = visitorsADaily.apply(\n",
    "    lambda x: visitorsADaily[visitorsADaily[\"date\"] <= x[\"date\"]].agg(\n",
    "        {\"date\": \"max\", \"visitorsPerDateA\": \"sum\"}\n",
    "    ),\n",
    "    axis=1,\n",
    ")\n",
    "visitorsACummulative.columns = [\"date\", \"visitorsCummulativeA\"]\n",
    "\n",
    "# Group B visitors by dates\n",
    "visitorsBDaily = visitors[visitors[\"group\"] == \"B\"][[\"date\", \"visitors\"]]\n",
    "visitorsBDaily.columns = [\"date\", \"visitorsPerDateB\"]\n",
    "\n",
    "# Cumulative number of group B visitors by dates\n",
    "visitorsBCummulative = visitorsBDaily.apply(\n",
    "    lambda x: visitorsBDaily[visitorsBDaily[\"date\"] <= x[\"date\"]].agg(\n",
    "        {\"date\": \"max\", \"visitorsPerDateB\": \"sum\"}\n",
    "    ),\n",
    "    axis=1,\n",
    ")\n",
    "visitorsBCummulative.columns = [\"date\", \"visitorsCummulativeB\"]\n",
    "\n",
    "# Number of orders and revenue by dates in group A\n",
    "ordersADaily = (\n",
    "    orders[orders[\"group\"] == \"A\"][[\"date\", \"transaction_id\", \"visitor_id\", \"revenue\"]]\n",
    "    .groupby(\"date\", as_index=False)\n",
    "    .agg({\"transaction_id\": pd.Series.nunique, \"revenue\": \"sum\"})\n",
    ")\n",
    "ordersADaily.columns = [\"date\", \"ordersPerDateA\", \"revenuePerDateA\"]\n",
    "\n",
    "# Cumulative number of orders and revenue by dates in group A\n",
    "ordersACummulative = ordersADaily.apply(\n",
    "    lambda x: ordersADaily[ordersADaily[\"date\"] <= x[\"date\"]].agg(\n",
    "        {\"date\": \"max\", \"ordersPerDateA\": \"sum\", \"revenuePerDateA\": \"sum\"}\n",
    "    ),\n",
    "    axis=1,\n",
    ").sort_values(by=[\"date\"])\n",
    "ordersACummulative.columns = [\n",
    "    \"date\",\n",
    "    \"ordersCummulativeA\",\n",
    "    \"revenueCummulativeA\",\n",
    "]\n",
    "\n",
    "# Number of orders and revenue by dates in group B\n",
    "ordersBDaily = (\n",
    "    orders[orders[\"group\"] == \"B\"][[\"date\", \"transaction_id\", \"visitor_id\", \"revenue\"]]\n",
    "    .groupby(\"date\", as_index=False)\n",
    "    .agg({\"transaction_id\": pd.Series.nunique, \"revenue\": \"sum\"})\n",
    ")\n",
    "ordersBDaily.columns = [\"date\", \"ordersPerDateB\", \"revenuePerDateB\"]\n",
    "\n",
    "# Cumulative number of orders and revenue by dates in group B\n",
    "ordersBCummulative = ordersBDaily.apply(\n",
    "    lambda x: ordersBDaily[ordersBDaily[\"date\"] <= x[\"date\"]].agg(\n",
    "        {\"date\": \"max\", \"ordersPerDateB\": \"sum\", \"revenuePerDateB\": \"sum\"}\n",
    "    ),\n",
    "    axis=1,\n",
    ").sort_values(by=[\"date\"])\n",
    "ordersBCummulative.columns = [\n",
    "    \"date\",\n",
    "    \"ordersCummulativeB\",\n",
    "    \"revenueCummulativeB\",\n",
    "]\n",
    "# Merging all on date\n",
    "data = (\n",
    "    ordersADaily.merge(ordersBDaily, left_on=\"date\", right_on=\"date\", how=\"left\")\n",
    "    .merge(ordersACummulative, left_on=\"date\", right_on=\"date\", how=\"left\")\n",
    "    .merge(ordersBCummulative, left_on=\"date\", right_on=\"date\", how=\"left\")\n",
    "    .merge(visitorsADaily, left_on=\"date\", right_on=\"date\", how=\"left\")\n",
    "    .merge(visitorsBDaily, left_on=\"date\", right_on=\"date\", how=\"left\")\n",
    "    .merge(visitorsACummulative, left_on=\"date\", right_on=\"date\", how=\"left\")\n",
    "    .merge(visitorsBCummulative, left_on=\"date\", right_on=\"date\", how=\"left\")\n",
    ")\n",
    "data.head(5)"
   ]
  },
  {
   "cell_type": "markdown",
   "metadata": {
    "lang": "en"
   },
   "source": [
    "Let's calculate the statistical significance of the differences in the average number of orders per visitor between groups and the relative increase in the average number of orders for group B.\n",
    "\n",
    "Let's put zeros for visitors who did not buy anything.\n",
    "\n",
    "Let's formulate hypotheses:\n",
    "- H0 - No difference in the average number of orders per visitor in groups A and B\n",
    "- H1 - There are differences in the average number of orders per visitor in groups A and B\n",
    "\n",
    "The level of statistical significance will be chosen as 0.05."
   ]
  },
  {
   "cell_type": "code",
   "execution_count": 34,
   "metadata": {},
   "outputs": [
    {
     "name": "stdout",
     "output_type": "stream",
     "text": [
      "p-value: 0.01102\n",
      "Relative difference in average orders per visitor: 0.160\n"
     ]
    }
   ],
   "source": [
    "# Group A orders\n",
    "ordersByUsersA = (\n",
    "    orders[orders[\"group\"] == \"A\"]\n",
    "    .groupby(\"visitor_id\", as_index=False)\n",
    "    .agg({\"transaction_id\": pd.Series.nunique})\n",
    ")\n",
    "\n",
    "ordersByUsersA.columns = [\"visitor_id\", \"orders\"]\n",
    "\n",
    "# Group B orders\n",
    "ordersByUsersB = (\n",
    "    orders[orders[\"group\"] == \"B\"]\n",
    "    .groupby(\"visitor_id\", as_index=False)\n",
    "    .agg({\"transaction_id\": pd.Series.nunique})\n",
    ")\n",
    "ordersByUsersB.columns = [\"visitor_id\", \"orders\"]\n",
    "\n",
    "# Adding zeros for visitors who did not place an order from group A\n",
    "sampleA = pd.concat(\n",
    "    [\n",
    "        ordersByUsersA[\"orders\"],\n",
    "        pd.Series(\n",
    "            0,\n",
    "            index=np.arange(\n",
    "                data[\"visitorsPerDateA\"].sum() - len(ordersByUsersA[\"orders\"])\n",
    "            ),\n",
    "            name=\"orders\",\n",
    "        ),\n",
    "    ],\n",
    "    axis=0,\n",
    ")\n",
    "\n",
    "# Adding zeros for visitors who did not place an order from group \n",
    "sampleB = pd.concat(\n",
    "    [\n",
    "        ordersByUsersB[\"orders\"],\n",
    "        pd.Series(\n",
    "            0,\n",
    "            index=np.arange(\n",
    "                data[\"visitorsPerDateB\"].sum() - len(ordersByUsersB[\"orders\"])\n",
    "            ),\n",
    "            name=\"orders\",\n",
    "        ),\n",
    "    ],\n",
    "    axis=0,\n",
    ")\n",
    "\n",
    "# Performing the Mann-Whitney test\n",
    "print(\"p-value: {0:.5f}\".format(st.mannwhitneyu(sampleA, sampleB)[1]))\n",
    "\n",
    "# Relative difference in the average number of orders per visitor for groups B and A\n",
    "print(\n",
    "    \"Relative difference in average orders per visitor: {0:.3f}\".format(\n",
    "        sampleB.mean() / sampleA.mean() - 1\n",
    "    )\n",
    ")"
   ]
  },
  {
   "cell_type": "markdown",
   "metadata": {
    "lang": "en"
   },
   "source": [
    "**Summary:**\n",
    "- Statistical significance is reached, respectively, the null hypothesis is rejected.\n",
    "- There are differences in the average number of orders per visitor.\n",
    "- Segment B is better than segment A."
   ]
  },
  {
   "cell_type": "markdown",
   "metadata": {
    "lang": "en"
   },
   "source": [
    "#### Statistical significance of differences in the average order receipt between groups according to \"raw\" data"
   ]
  },
  {
   "cell_type": "markdown",
   "metadata": {
    "lang": "en"
   },
   "source": [
    "Let's formulate hypotheses:\n",
    "- H0 - There are no differences in the average order receipt between groups according to \"raw\" data\n",
    "- H1 - There are differences in the average order receipt between groups according to \"raw\" data\n",
    "\n",
    "The level of statistical significance will be chosen as 0.05."
   ]
  },
  {
   "cell_type": "code",
   "execution_count": 35,
   "metadata": {
    "scrolled": true
   },
   "outputs": [
    {
     "name": "stdout",
     "output_type": "stream",
     "text": [
      "p-value: 0.829\n",
      "Relative difference in average 0.287\n"
     ]
    }
   ],
   "source": [
    "print('p-value: {0:.3f}'.format(st.mannwhitneyu(orders[orders['group']=='A']['revenue'], orders[orders['group']=='B']['revenue'])[1]))\n",
    "print('Relative difference in average {0:.3f}'.format(orders[orders['group']=='B']['revenue'].mean()/orders[orders['group']=='A']['revenue'].mean()-1))"
   ]
  },
  {
   "cell_type": "markdown",
   "metadata": {
    "lang": "en"
   },
   "source": [
    "**Summary:**\n",
    "- the observed difference between the groups of 28.7% is not statistically significant, the null hypothesis is not rejected.\n",
    "- We can say for sure that there are no differences in the average order receipt in the two segments."
   ]
  },
  {
   "cell_type": "markdown",
   "metadata": {
    "lang": "en"
   },
   "source": [
    "#### Statistical significance of differences in the average number of orders per visitor between groups according to \"cleaned\" data"
   ]
  },
  {
   "cell_type": "markdown",
   "metadata": {
    "lang": "en"
   },
   "source": [
    "Let's clear the data from anomalous values ​​and perform the Mann-Whitney test.\n",
    "\n",
    "Let's formulate hypotheses:\n",
    "- H0 - No difference in the average number of orders per visitor between groups on \"cleaned\" data\n",
    "- H1 - There are differences in the average number of orders per visitor between groups on \"cleaned\" data\n",
    "\n",
    "The level of statistical significance will be chosen as 0.05."
   ]
  },
  {
   "cell_type": "code",
   "execution_count": 36,
   "metadata": {},
   "outputs": [
    {
     "name": "stdout",
     "output_type": "stream",
     "text": [
      "p-value: 0.01593\n",
      "Relative difference in average orders per visitor: 0.174\n"
     ]
    }
   ],
   "source": [
    "orders_lim = np.percentile(ordersByUsers[\"orders\"], 95)\n",
    "revenue_lim = np.percentile(orders[\"revenue\"], 95)\n",
    "\n",
    "# Users with a large number of orders\n",
    "usersWithManyOrders = pd.concat(\n",
    "    [\n",
    "        ordersByUsersA[ordersByUsersA[\"orders\"] > orders_lim][\"visitor_id\"],\n",
    "        ordersByUsersB[ordersByUsersB[\"orders\"] > orders_lim][\"visitor_id\"],\n",
    "    ],\n",
    "    axis=0,\n",
    ")\n",
    "# Users with expensive orders\n",
    "usersWithExpensiveOrders = orders[orders[\"revenue\"] > revenue_lim][\"visitor_id\"]\n",
    "\n",
    "# Anomalous users\n",
    "abnormalUsers = (\n",
    "    pd.concat([usersWithManyOrders, usersWithExpensiveOrders], axis=0)\n",
    "    .drop_duplicates()\n",
    "    .sort_values()\n",
    ")\n",
    "# Filtering data for group A\n",
    "sampleAFiltered = pd.concat(\n",
    "    [\n",
    "        ordersByUsersA[\n",
    "            np.logical_not(ordersByUsersA[\"visitor_id\"].isin(abnormalUsers))\n",
    "        ][\"orders\"],\n",
    "        pd.Series(\n",
    "            0,\n",
    "            index=np.arange(\n",
    "                data[\"visitorsPerDateA\"].sum() - len(ordersByUsersA[\"orders\"])\n",
    "            ),\n",
    "            name=\"orders\",\n",
    "        ),\n",
    "    ],\n",
    "    axis=0,\n",
    ")\n",
    "# Filtering data for group B\n",
    "sampleBFiltered = pd.concat(\n",
    "    [\n",
    "        ordersByUsersB[\n",
    "            np.logical_not(ordersByUsersB[\"visitor_id\"].isin(abnormalUsers))\n",
    "        ][\"orders\"],\n",
    "        pd.Series(\n",
    "            0,\n",
    "            index=np.arange(\n",
    "                data[\"visitorsPerDateB\"].sum() - len(ordersByUsersB[\"orders\"])\n",
    "            ),\n",
    "            name=\"orders\",\n",
    "        ),\n",
    "    ],\n",
    "    axis=0,\n",
    ")\n",
    "\n",
    "# Performing the Mann-Whitney test\n",
    "print(\"p-value: {0:.5f}\".format(st.mannwhitneyu(sampleAFiltered, sampleBFiltered)[1]))\n",
    "\n",
    "# Relative difference in the average number of orders per visitor for groups B and A\n",
    "print(\n",
    "    \"Relative difference in average orders per visitor: {0:.3f}\".format(\n",
    "        sampleBFiltered.mean() / sampleAFiltered.mean() - 1\n",
    "    )\n",
    ")"
   ]
  },
  {
   "cell_type": "markdown",
   "metadata": {
    "lang": "en"
   },
   "source": [
    " **Summary:**\n",
    "- statistical significance is achieved, the null hypothesis is rejected.\n",
    "- Segment B has more orders per visitor on average than Segment A."
   ]
  },
  {
   "cell_type": "markdown",
   "metadata": {
    "lang": "en"
   },
   "source": [
    "#### Statistical significance of differences in the average order receipt between groups according to \"cleaned\" data"
   ]
  },
  {
   "cell_type": "markdown",
   "metadata": {
    "lang": "en"
   },
   "source": [
    "Let's formulate hypotheses:\n",
    "- H0 - There are no differences in the average check of the order between groups according to \"cleaned\" data\n",
    "- H1 - There are differences in the average check of the order between the groups according to the \"cleaned\" data\n",
    "\n",
    "The level of statistical significance will be chosen as 0.05."
   ]
  },
  {
   "cell_type": "code",
   "execution_count": 37,
   "metadata": {},
   "outputs": [
    {
     "name": "stdout",
     "output_type": "stream",
     "text": [
      "p-value: 0.727\n",
      "Relative difference in average check: -0.034\n"
     ]
    }
   ],
   "source": [
    "# Performing the Mann-Whitney test\n",
    "print(\n",
    "    \"p-value: {0:.3f}\".format(\n",
    "        st.mannwhitneyu(\n",
    "            orders[\n",
    "                np.logical_and(\n",
    "                    orders[\"group\"] == \"A\",\n",
    "                    np.logical_not(orders[\"visitor_id\"].isin(abnormalUsers)),\n",
    "                )\n",
    "            ][\"revenue\"],\n",
    "            orders[\n",
    "                np.logical_and(\n",
    "                    orders[\"group\"] == \"B\",\n",
    "                    np.logical_not(orders[\"visitor_id\"].isin(abnormalUsers)),\n",
    "                )\n",
    "            ][\"revenue\"],\n",
    "        )[1]\n",
    "    )\n",
    ")\n",
    "# Relative difference in the average number of orders per visitor for groups B and A\n",
    "print(\n",
    "    \"Relative difference in average check: {0:.3f}\".format(\n",
    "        orders[\n",
    "            np.logical_and(\n",
    "                orders[\"group\"] == \"B\",\n",
    "                np.logical_not(orders[\"visitor_id\"].isin(abnormalUsers)),\n",
    "            )\n",
    "        ][\"revenue\"].mean()\n",
    "        / orders[\n",
    "            np.logical_and(\n",
    "                orders[\"group\"] == \"A\",\n",
    "                np.logical_not(orders[\"visitor_id\"].isin(abnormalUsers)),\n",
    "            )\n",
    "        ][\"revenue\"].mean()\n",
    "        - 1\n",
    "    )\n",
    ")"
   ]
  },
  {
   "cell_type": "markdown",
   "metadata": {
    "lang": "en"
   },
   "source": [
    "**Summary:**\n",
    "- The observed difference from 3.4% is not statistically significant.\n",
    "- Statistical significance was not achieved during the test, which means we do not reject the null hypothesis. There are no differences in the average check of orders in the two segments."
   ]
  },
  {
   "cell_type": "markdown",
   "metadata": {
    "lang": "en"
   },
   "source": [
    "### General conclusion"
   ]
  },
  {
   "cell_type": "markdown",
   "metadata": {
    "lang": "en"
   },
   "source": [
    "1. Hypotheses were prioritized using ICE and RICE methods\n",
    "   - The order of priorities for hypotheses in the RICE framework has changed.\n",
    "   - This is due to the fact that the hypotheses have different reach of users who will be affected by the change in the hypothesis.\n",
    "   \n",
    "   \n",
    "2. Preprocessed data of A/B test results, removed lines with `visitor_id`, duplicated in both groups.\n",
    "\n",
    "\n",
    "3. Calculated cumulative characteristics for both segments, conducted Mann-Whitney statistical tests:\n",
    "    - According to the results of statistical tests, segment B performs better in the average number of orders per visitor, no statistically significant differences were found in the average check for the segments.\n",
    "    - A/B test can be stopped."
   ]
  }
 ],
 "metadata": {
  "ExecuteTimeLog": [
   {
    "duration": 136,
    "start_time": "2023-07-03T07:13:42.955Z"
   },
   {
    "duration": 1012,
    "start_time": "2023-07-03T07:14:03.504Z"
   },
   {
    "duration": 315,
    "start_time": "2023-07-03T07:14:12.422Z"
   },
   {
    "duration": 267,
    "start_time": "2023-07-03T07:16:18.919Z"
   },
   {
    "duration": 13,
    "start_time": "2023-07-03T07:16:31.876Z"
   },
   {
    "duration": 8,
    "start_time": "2023-07-03T07:16:45.844Z"
   },
   {
    "duration": 9,
    "start_time": "2023-07-03T07:17:38.016Z"
   },
   {
    "duration": 13,
    "start_time": "2023-07-03T07:17:51.704Z"
   },
   {
    "duration": 11,
    "start_time": "2023-07-03T07:33:02.355Z"
   },
   {
    "duration": 8,
    "start_time": "2023-07-03T07:33:07.755Z"
   },
   {
    "duration": 5,
    "start_time": "2023-07-03T07:35:22.116Z"
   },
   {
    "duration": 13,
    "start_time": "2023-07-03T07:35:30.622Z"
   },
   {
    "duration": 12,
    "start_time": "2023-07-03T07:36:01.115Z"
   },
   {
    "duration": 11,
    "start_time": "2023-07-03T07:36:12.163Z"
   },
   {
    "duration": 24,
    "start_time": "2023-07-03T07:37:13.699Z"
   },
   {
    "duration": 80,
    "start_time": "2023-07-03T07:42:36.720Z"
   },
   {
    "duration": 8,
    "start_time": "2023-07-03T07:43:17.997Z"
   },
   {
    "duration": 4,
    "start_time": "2023-07-03T07:44:22.628Z"
   },
   {
    "duration": 14,
    "start_time": "2023-07-03T07:44:30.003Z"
   },
   {
    "duration": 12,
    "start_time": "2023-07-03T07:44:42.065Z"
   },
   {
    "duration": 5,
    "start_time": "2023-07-03T07:45:32.227Z"
   },
   {
    "duration": 13,
    "start_time": "2023-07-03T07:45:38.560Z"
   },
   {
    "duration": 13,
    "start_time": "2023-07-03T07:45:46.906Z"
   },
   {
    "duration": 9,
    "start_time": "2023-07-03T07:45:54.811Z"
   },
   {
    "duration": 8,
    "start_time": "2023-07-03T07:46:39.653Z"
   },
   {
    "duration": 10,
    "start_time": "2023-07-03T07:46:50.097Z"
   },
   {
    "duration": 14,
    "start_time": "2023-07-03T07:47:21.168Z"
   },
   {
    "duration": 11,
    "start_time": "2023-07-03T07:47:30.792Z"
   },
   {
    "duration": 13,
    "start_time": "2023-07-03T07:48:04.561Z"
   },
   {
    "duration": 20,
    "start_time": "2023-07-03T07:48:22.464Z"
   },
   {
    "duration": 6,
    "start_time": "2023-07-03T07:48:27.291Z"
   },
   {
    "duration": 5,
    "start_time": "2023-07-03T07:48:39.218Z"
   },
   {
    "duration": 6,
    "start_time": "2023-07-03T07:49:21.731Z"
   },
   {
    "duration": 6,
    "start_time": "2023-07-03T07:49:33.209Z"
   },
   {
    "duration": 6,
    "start_time": "2023-07-03T07:49:37.293Z"
   },
   {
    "duration": 6,
    "start_time": "2023-07-03T07:49:43.582Z"
   },
   {
    "duration": 9,
    "start_time": "2023-07-03T07:51:22.399Z"
   },
   {
    "duration": 3,
    "start_time": "2023-07-03T08:08:14.239Z"
   },
   {
    "duration": 284,
    "start_time": "2023-07-03T08:11:48.510Z"
   },
   {
    "duration": 297,
    "start_time": "2023-07-03T08:16:00.998Z"
   },
   {
    "duration": 264,
    "start_time": "2023-07-03T08:17:04.038Z"
   },
   {
    "duration": 177,
    "start_time": "2023-07-03T08:18:18.666Z"
   },
   {
    "duration": 221,
    "start_time": "2023-07-03T08:22:33.628Z"
   },
   {
    "duration": 23,
    "start_time": "2023-07-03T08:23:12.644Z"
   },
   {
    "duration": 19,
    "start_time": "2023-07-03T08:24:13.118Z"
   },
   {
    "duration": 18,
    "start_time": "2023-07-03T08:24:57.947Z"
   },
   {
    "duration": 1147,
    "start_time": "2023-07-03T08:25:11.569Z"
   },
   {
    "duration": 150,
    "start_time": "2023-07-03T08:25:12.718Z"
   },
   {
    "duration": 14,
    "start_time": "2023-07-03T08:25:12.870Z"
   },
   {
    "duration": 32,
    "start_time": "2023-07-03T08:25:12.886Z"
   },
   {
    "duration": 34,
    "start_time": "2023-07-03T08:25:12.923Z"
   },
   {
    "duration": 41,
    "start_time": "2023-07-03T08:25:12.959Z"
   },
   {
    "duration": 46,
    "start_time": "2023-07-03T08:25:13.001Z"
   },
   {
    "duration": 30,
    "start_time": "2023-07-03T08:25:13.050Z"
   },
   {
    "duration": 54,
    "start_time": "2023-07-03T08:25:13.082Z"
   },
   {
    "duration": 29,
    "start_time": "2023-07-03T08:25:13.138Z"
   },
   {
    "duration": 154,
    "start_time": "2023-07-03T08:25:13.169Z"
   },
   {
    "duration": 122,
    "start_time": "2023-07-03T08:25:13.326Z"
   },
   {
    "duration": 143,
    "start_time": "2023-07-03T08:25:13.451Z"
   },
   {
    "duration": 39,
    "start_time": "2023-07-03T08:25:13.597Z"
   },
   {
    "duration": 73,
    "start_time": "2023-07-03T08:25:13.638Z"
   },
   {
    "duration": 53,
    "start_time": "2023-07-03T08:25:13.714Z"
   },
   {
    "duration": 31,
    "start_time": "2023-07-03T08:25:13.769Z"
   },
   {
    "duration": 36,
    "start_time": "2023-07-03T08:25:13.802Z"
   },
   {
    "duration": 376,
    "start_time": "2023-07-03T08:25:13.840Z"
   },
   {
    "duration": 296,
    "start_time": "2023-07-03T08:25:14.218Z"
   },
   {
    "duration": 207,
    "start_time": "2023-07-03T08:25:14.518Z"
   },
   {
    "duration": 182,
    "start_time": "2023-07-03T08:25:34.467Z"
   },
   {
    "duration": 200,
    "start_time": "2023-07-03T08:25:43.533Z"
   },
   {
    "duration": 205,
    "start_time": "2023-07-03T08:25:50.985Z"
   },
   {
    "duration": 222,
    "start_time": "2023-07-03T08:26:51.714Z"
   },
   {
    "duration": 227,
    "start_time": "2023-07-03T08:27:07.202Z"
   },
   {
    "duration": 253,
    "start_time": "2023-07-03T08:27:13.621Z"
   },
   {
    "duration": 211,
    "start_time": "2023-07-03T08:27:22.596Z"
   },
   {
    "duration": 298,
    "start_time": "2023-07-03T08:27:31.325Z"
   },
   {
    "duration": 203,
    "start_time": "2023-07-03T08:27:55.366Z"
   },
   {
    "duration": 242,
    "start_time": "2023-07-03T08:28:10.726Z"
   },
   {
    "duration": 312,
    "start_time": "2023-07-03T08:29:02.966Z"
   },
   {
    "duration": 207,
    "start_time": "2023-07-03T08:29:17.834Z"
   },
   {
    "duration": 221,
    "start_time": "2023-07-03T08:29:29.412Z"
   },
   {
    "duration": 218,
    "start_time": "2023-07-03T08:29:55.661Z"
   },
   {
    "duration": 300,
    "start_time": "2023-07-03T08:32:58.796Z"
   },
   {
    "duration": 282,
    "start_time": "2023-07-03T08:33:02.922Z"
   },
   {
    "duration": 287,
    "start_time": "2023-07-03T08:33:24.540Z"
   },
   {
    "duration": 304,
    "start_time": "2023-07-03T08:33:48.952Z"
   },
   {
    "duration": 310,
    "start_time": "2023-07-03T08:34:03.203Z"
   },
   {
    "duration": 462,
    "start_time": "2023-07-03T08:34:20.987Z"
   },
   {
    "duration": 334,
    "start_time": "2023-07-03T08:34:43.704Z"
   },
   {
    "duration": 322,
    "start_time": "2023-07-03T08:34:48.996Z"
   },
   {
    "duration": 295,
    "start_time": "2023-07-03T08:35:29.129Z"
   },
   {
    "duration": 315,
    "start_time": "2023-07-03T08:35:42.504Z"
   },
   {
    "duration": 222,
    "start_time": "2023-07-03T08:45:08.749Z"
   },
   {
    "duration": 370,
    "start_time": "2023-07-03T08:48:51.392Z"
   },
   {
    "duration": 9,
    "start_time": "2023-07-03T08:52:12.349Z"
   },
   {
    "duration": 123,
    "start_time": "2023-07-03T08:52:53.955Z"
   },
   {
    "duration": 136,
    "start_time": "2023-07-03T08:53:18.248Z"
   },
   {
    "duration": 159,
    "start_time": "2023-07-03T08:53:35.484Z"
   },
   {
    "duration": 7,
    "start_time": "2023-07-03T08:55:19.946Z"
   },
   {
    "duration": 13,
    "start_time": "2023-07-03T08:57:46.278Z"
   },
   {
    "duration": 163,
    "start_time": "2023-07-03T08:58:12.302Z"
   },
   {
    "duration": 234,
    "start_time": "2023-07-03T08:59:01.144Z"
   },
   {
    "duration": 271,
    "start_time": "2023-07-03T08:59:04.636Z"
   },
   {
    "duration": 6,
    "start_time": "2023-07-03T08:59:57.925Z"
   },
   {
    "duration": 131,
    "start_time": "2023-07-03T09:16:07.190Z"
   },
   {
    "duration": 279,
    "start_time": "2023-07-03T09:16:32.280Z"
   },
   {
    "duration": 170,
    "start_time": "2023-07-03T09:19:09.442Z"
   },
   {
    "duration": 160,
    "start_time": "2023-07-03T09:19:22.520Z"
   },
   {
    "duration": 16,
    "start_time": "2023-07-03T09:21:35.718Z"
   },
   {
    "duration": 33,
    "start_time": "2023-07-03T09:25:48.275Z"
   },
   {
    "duration": 17,
    "start_time": "2023-07-03T09:27:48.897Z"
   },
   {
    "duration": 15,
    "start_time": "2023-07-03T09:28:02.496Z"
   },
   {
    "duration": 4,
    "start_time": "2023-07-03T09:36:10.792Z"
   },
   {
    "duration": 85,
    "start_time": "2023-07-03T09:43:08.172Z"
   },
   {
    "duration": 9,
    "start_time": "2023-07-03T09:43:54.418Z"
   },
   {
    "duration": 12,
    "start_time": "2023-07-03T09:45:32.081Z"
   },
   {
    "duration": 14,
    "start_time": "2023-07-03T09:45:56.826Z"
   },
   {
    "duration": 49,
    "start_time": "2023-07-04T06:49:48.770Z"
   },
   {
    "duration": 1240,
    "start_time": "2023-07-04T06:49:55.949Z"
   },
   {
    "duration": 281,
    "start_time": "2023-07-04T06:49:57.192Z"
   },
   {
    "duration": 18,
    "start_time": "2023-07-04T06:49:57.475Z"
   },
   {
    "duration": 12,
    "start_time": "2023-07-04T06:49:57.497Z"
   },
   {
    "duration": 25,
    "start_time": "2023-07-04T06:49:57.510Z"
   },
   {
    "duration": 12,
    "start_time": "2023-07-04T06:49:57.537Z"
   },
   {
    "duration": 9,
    "start_time": "2023-07-04T06:49:57.551Z"
   },
   {
    "duration": 30,
    "start_time": "2023-07-04T06:49:57.562Z"
   },
   {
    "duration": 26,
    "start_time": "2023-07-04T06:49:57.594Z"
   },
   {
    "duration": 23,
    "start_time": "2023-07-04T06:49:57.624Z"
   },
   {
    "duration": 10,
    "start_time": "2023-07-04T06:49:57.649Z"
   },
   {
    "duration": 22,
    "start_time": "2023-07-04T06:49:57.662Z"
   },
   {
    "duration": 14,
    "start_time": "2023-07-04T06:49:57.686Z"
   },
   {
    "duration": 19,
    "start_time": "2023-07-04T06:49:57.701Z"
   },
   {
    "duration": 16,
    "start_time": "2023-07-04T06:49:57.722Z"
   },
   {
    "duration": 19,
    "start_time": "2023-07-04T06:49:57.739Z"
   },
   {
    "duration": 25,
    "start_time": "2023-07-04T06:49:57.759Z"
   },
   {
    "duration": 7,
    "start_time": "2023-07-04T06:49:57.785Z"
   },
   {
    "duration": 296,
    "start_time": "2023-07-04T06:49:57.793Z"
   },
   {
    "duration": 315,
    "start_time": "2023-07-04T06:49:58.091Z"
   },
   {
    "duration": 243,
    "start_time": "2023-07-04T06:49:58.409Z"
   },
   {
    "duration": 357,
    "start_time": "2023-07-04T06:49:58.654Z"
   },
   {
    "duration": 216,
    "start_time": "2023-07-04T06:49:59.013Z"
   },
   {
    "duration": 321,
    "start_time": "2023-07-04T06:49:59.231Z"
   },
   {
    "duration": 195,
    "start_time": "2023-07-04T06:49:59.554Z"
   },
   {
    "duration": 9,
    "start_time": "2023-07-04T06:49:59.751Z"
   },
   {
    "duration": 157,
    "start_time": "2023-07-04T06:49:59.762Z"
   },
   {
    "duration": 5,
    "start_time": "2023-07-04T06:49:59.924Z"
   },
   {
    "duration": 242,
    "start_time": "2023-07-04T06:49:59.931Z"
   },
   {
    "duration": 191,
    "start_time": "2023-07-04T06:50:00.174Z"
   },
   {
    "duration": 11,
    "start_time": "2023-07-04T06:50:00.366Z"
   },
   {
    "duration": 175,
    "start_time": "2023-07-04T06:50:00.379Z"
   },
   {
    "duration": 71,
    "start_time": "2023-07-04T06:50:00.556Z"
   },
   {
    "duration": 11,
    "start_time": "2023-07-04T06:51:03.230Z"
   },
   {
    "duration": 111,
    "start_time": "2023-07-04T06:51:28.730Z"
   },
   {
    "duration": 10,
    "start_time": "2023-07-04T07:01:07.101Z"
   },
   {
    "duration": 119,
    "start_time": "2023-07-04T07:02:22.590Z"
   },
   {
    "duration": 116,
    "start_time": "2023-07-04T07:02:50.741Z"
   },
   {
    "duration": 12,
    "start_time": "2023-07-04T07:03:10.294Z"
   },
   {
    "duration": 11,
    "start_time": "2023-07-04T07:04:25.771Z"
   },
   {
    "duration": 6,
    "start_time": "2023-07-04T07:04:37.245Z"
   },
   {
    "duration": 5,
    "start_time": "2023-07-04T07:04:59.994Z"
   },
   {
    "duration": 226,
    "start_time": "2023-07-04T07:14:04.188Z"
   },
   {
    "duration": 321,
    "start_time": "2023-07-04T07:15:03.547Z"
   },
   {
    "duration": 218,
    "start_time": "2023-07-04T07:15:37.857Z"
   },
   {
    "duration": 224,
    "start_time": "2023-07-04T07:16:14.512Z"
   },
   {
    "duration": 328,
    "start_time": "2023-07-04T07:16:37.974Z"
   },
   {
    "duration": 292,
    "start_time": "2023-07-04T07:17:13.913Z"
   },
   {
    "duration": 348,
    "start_time": "2023-07-04T07:17:25.510Z"
   },
   {
    "duration": 155,
    "start_time": "2023-07-04T07:18:24.242Z"
   },
   {
    "duration": 170,
    "start_time": "2023-07-04T07:19:29.405Z"
   },
   {
    "duration": 123,
    "start_time": "2023-07-04T07:28:12.708Z"
   },
   {
    "duration": 49,
    "start_time": "2023-07-04T11:02:38.981Z"
   },
   {
    "duration": 1223,
    "start_time": "2023-07-04T11:02:51.527Z"
   },
   {
    "duration": 274,
    "start_time": "2023-07-04T11:02:52.752Z"
   },
   {
    "duration": 13,
    "start_time": "2023-07-04T11:02:53.028Z"
   },
   {
    "duration": 20,
    "start_time": "2023-07-04T11:02:53.043Z"
   },
   {
    "duration": 19,
    "start_time": "2023-07-04T11:02:53.066Z"
   },
   {
    "duration": 13,
    "start_time": "2023-07-04T11:02:53.087Z"
   },
   {
    "duration": 15,
    "start_time": "2023-07-04T11:02:53.102Z"
   },
   {
    "duration": 30,
    "start_time": "2023-07-04T11:02:53.119Z"
   },
   {
    "duration": 15,
    "start_time": "2023-07-04T11:02:53.151Z"
   },
   {
    "duration": 6,
    "start_time": "2023-07-04T11:02:53.168Z"
   },
   {
    "duration": 17,
    "start_time": "2023-07-04T11:02:53.175Z"
   },
   {
    "duration": 20,
    "start_time": "2023-07-04T11:02:53.193Z"
   },
   {
    "duration": 14,
    "start_time": "2023-07-04T11:02:53.215Z"
   },
   {
    "duration": 5,
    "start_time": "2023-07-04T11:02:53.232Z"
   },
   {
    "duration": 302,
    "start_time": "2023-07-04T11:02:53.239Z"
   },
   {
    "duration": 294,
    "start_time": "2023-07-04T11:02:53.543Z"
   },
   {
    "duration": 228,
    "start_time": "2023-07-04T11:02:53.839Z"
   },
   {
    "duration": 389,
    "start_time": "2023-07-04T11:02:54.069Z"
   },
   {
    "duration": 236,
    "start_time": "2023-07-04T11:02:54.460Z"
   },
   {
    "duration": 330,
    "start_time": "2023-07-04T11:02:54.697Z"
   },
   {
    "duration": 146,
    "start_time": "2023-07-04T11:02:55.029Z"
   },
   {
    "duration": 8,
    "start_time": "2023-07-04T11:02:55.176Z"
   },
   {
    "duration": 111,
    "start_time": "2023-07-04T11:02:55.186Z"
   },
   {
    "duration": 0,
    "start_time": "2023-07-04T11:02:55.299Z"
   },
   {
    "duration": 0,
    "start_time": "2023-07-04T11:02:55.300Z"
   },
   {
    "duration": 0,
    "start_time": "2023-07-04T11:02:55.301Z"
   },
   {
    "duration": 0,
    "start_time": "2023-07-04T11:02:55.303Z"
   },
   {
    "duration": 0,
    "start_time": "2023-07-04T11:02:55.304Z"
   },
   {
    "duration": 0,
    "start_time": "2023-07-04T11:02:55.305Z"
   },
   {
    "duration": 0,
    "start_time": "2023-07-04T11:02:55.306Z"
   },
   {
    "duration": 0,
    "start_time": "2023-07-04T11:02:55.307Z"
   },
   {
    "duration": 1087,
    "start_time": "2023-07-04T11:06:42.534Z"
   },
   {
    "duration": 125,
    "start_time": "2023-07-04T11:06:43.631Z"
   },
   {
    "duration": 11,
    "start_time": "2023-07-04T11:06:43.758Z"
   },
   {
    "duration": 28,
    "start_time": "2023-07-04T11:06:43.771Z"
   },
   {
    "duration": 22,
    "start_time": "2023-07-04T11:06:43.803Z"
   },
   {
    "duration": 25,
    "start_time": "2023-07-04T11:06:43.827Z"
   },
   {
    "duration": 39,
    "start_time": "2023-07-04T11:06:43.855Z"
   },
   {
    "duration": 14,
    "start_time": "2023-07-04T11:06:43.896Z"
   },
   {
    "duration": 30,
    "start_time": "2023-07-04T11:06:43.912Z"
   },
   {
    "duration": 17,
    "start_time": "2023-07-04T11:06:43.944Z"
   },
   {
    "duration": 27,
    "start_time": "2023-07-04T11:06:43.963Z"
   },
   {
    "duration": 32,
    "start_time": "2023-07-04T11:06:43.992Z"
   },
   {
    "duration": 26,
    "start_time": "2023-07-04T11:06:44.026Z"
   },
   {
    "duration": 19,
    "start_time": "2023-07-04T11:06:44.055Z"
   },
   {
    "duration": 316,
    "start_time": "2023-07-04T11:06:44.077Z"
   },
   {
    "duration": 319,
    "start_time": "2023-07-04T11:06:44.394Z"
   },
   {
    "duration": 231,
    "start_time": "2023-07-04T11:06:44.715Z"
   },
   {
    "duration": 306,
    "start_time": "2023-07-04T11:06:44.948Z"
   },
   {
    "duration": 283,
    "start_time": "2023-07-04T11:06:45.255Z"
   },
   {
    "duration": 317,
    "start_time": "2023-07-04T11:06:45.540Z"
   },
   {
    "duration": 155,
    "start_time": "2023-07-04T11:06:45.858Z"
   },
   {
    "duration": 8,
    "start_time": "2023-07-04T11:06:46.015Z"
   },
   {
    "duration": 172,
    "start_time": "2023-07-04T11:06:46.025Z"
   },
   {
    "duration": 5,
    "start_time": "2023-07-04T11:06:46.199Z"
   },
   {
    "duration": 247,
    "start_time": "2023-07-04T11:06:46.205Z"
   },
   {
    "duration": 209,
    "start_time": "2023-07-04T11:06:46.453Z"
   },
   {
    "duration": 13,
    "start_time": "2023-07-04T11:06:46.665Z"
   },
   {
    "duration": 60,
    "start_time": "2023-07-04T11:06:46.681Z"
   },
   {
    "duration": 17,
    "start_time": "2023-07-04T11:06:46.743Z"
   },
   {
    "duration": 131,
    "start_time": "2023-07-04T11:10:58.603Z"
   },
   {
    "duration": 33,
    "start_time": "2023-07-04T11:35:10.742Z"
   },
   {
    "duration": 15,
    "start_time": "2023-07-04T11:37:40.676Z"
   },
   {
    "duration": 34,
    "start_time": "2023-07-04T11:42:33.626Z"
   },
   {
    "duration": 14,
    "start_time": "2023-07-04T11:42:36.925Z"
   },
   {
    "duration": 29,
    "start_time": "2023-07-04T11:42:43.485Z"
   },
   {
    "duration": 15,
    "start_time": "2023-07-04T11:42:46.307Z"
   },
   {
    "duration": 6,
    "start_time": "2023-07-04T11:55:42.347Z"
   },
   {
    "duration": 151,
    "start_time": "2023-07-04T11:55:52.195Z"
   },
   {
    "duration": 5,
    "start_time": "2023-07-04T11:55:57.598Z"
   },
   {
    "duration": 187,
    "start_time": "2023-07-04T11:56:18.991Z"
   },
   {
    "duration": 5,
    "start_time": "2023-07-04T11:56:24.600Z"
   },
   {
    "duration": 5,
    "start_time": "2023-07-04T11:56:37.480Z"
   },
   {
    "duration": 1148,
    "start_time": "2023-07-04T12:02:20.696Z"
   },
   {
    "duration": 137,
    "start_time": "2023-07-04T12:02:21.846Z"
   },
   {
    "duration": 12,
    "start_time": "2023-07-04T12:02:21.985Z"
   },
   {
    "duration": 40,
    "start_time": "2023-07-04T12:02:21.999Z"
   },
   {
    "duration": 46,
    "start_time": "2023-07-04T12:02:22.042Z"
   },
   {
    "duration": 56,
    "start_time": "2023-07-04T12:02:22.090Z"
   },
   {
    "duration": 34,
    "start_time": "2023-07-04T12:02:22.148Z"
   },
   {
    "duration": 34,
    "start_time": "2023-07-04T12:02:22.183Z"
   },
   {
    "duration": 20,
    "start_time": "2023-07-04T12:02:22.219Z"
   },
   {
    "duration": 13,
    "start_time": "2023-07-04T12:02:22.241Z"
   },
   {
    "duration": 11,
    "start_time": "2023-07-04T12:02:22.256Z"
   },
   {
    "duration": 27,
    "start_time": "2023-07-04T12:02:22.268Z"
   },
   {
    "duration": 23,
    "start_time": "2023-07-04T12:02:22.297Z"
   },
   {
    "duration": 29,
    "start_time": "2023-07-04T12:02:22.323Z"
   },
   {
    "duration": 300,
    "start_time": "2023-07-04T12:02:22.354Z"
   },
   {
    "duration": 298,
    "start_time": "2023-07-04T12:02:22.656Z"
   },
   {
    "duration": 226,
    "start_time": "2023-07-04T12:02:22.956Z"
   },
   {
    "duration": 344,
    "start_time": "2023-07-04T12:02:23.183Z"
   },
   {
    "duration": 254,
    "start_time": "2023-07-04T12:02:23.529Z"
   },
   {
    "duration": 356,
    "start_time": "2023-07-04T12:02:23.784Z"
   },
   {
    "duration": 147,
    "start_time": "2023-07-04T12:02:24.141Z"
   },
   {
    "duration": 5,
    "start_time": "2023-07-04T12:02:24.290Z"
   },
   {
    "duration": 192,
    "start_time": "2023-07-04T12:02:24.296Z"
   },
   {
    "duration": 5,
    "start_time": "2023-07-04T12:02:24.490Z"
   },
   {
    "duration": 258,
    "start_time": "2023-07-04T12:02:24.497Z"
   },
   {
    "duration": 171,
    "start_time": "2023-07-04T12:02:24.756Z"
   },
   {
    "duration": 11,
    "start_time": "2023-07-04T12:02:24.929Z"
   },
   {
    "duration": 52,
    "start_time": "2023-07-04T12:02:24.942Z"
   },
   {
    "duration": 18,
    "start_time": "2023-07-04T12:02:24.996Z"
   },
   {
    "duration": 1281,
    "start_time": "2023-07-04T12:29:06.431Z"
   },
   {
    "duration": 168,
    "start_time": "2023-07-04T12:29:07.714Z"
   },
   {
    "duration": 21,
    "start_time": "2023-07-04T12:29:07.892Z"
   },
   {
    "duration": 34,
    "start_time": "2023-07-04T12:29:07.915Z"
   },
   {
    "duration": 57,
    "start_time": "2023-07-04T12:29:07.951Z"
   },
   {
    "duration": 15,
    "start_time": "2023-07-04T12:29:08.010Z"
   },
   {
    "duration": 9,
    "start_time": "2023-07-04T12:29:08.027Z"
   },
   {
    "duration": 33,
    "start_time": "2023-07-04T12:29:08.038Z"
   },
   {
    "duration": 33,
    "start_time": "2023-07-04T12:29:08.080Z"
   },
   {
    "duration": 9,
    "start_time": "2023-07-04T12:29:08.115Z"
   },
   {
    "duration": 10,
    "start_time": "2023-07-04T12:29:08.126Z"
   },
   {
    "duration": 24,
    "start_time": "2023-07-04T12:29:08.139Z"
   },
   {
    "duration": 34,
    "start_time": "2023-07-04T12:29:08.175Z"
   },
   {
    "duration": 22,
    "start_time": "2023-07-04T12:29:08.212Z"
   },
   {
    "duration": 565,
    "start_time": "2023-07-04T12:29:08.236Z"
   },
   {
    "duration": 345,
    "start_time": "2023-07-04T12:29:08.803Z"
   },
   {
    "duration": 250,
    "start_time": "2023-07-04T12:29:09.150Z"
   },
   {
    "duration": 312,
    "start_time": "2023-07-04T12:29:09.401Z"
   },
   {
    "duration": 288,
    "start_time": "2023-07-04T12:29:09.715Z"
   },
   {
    "duration": 318,
    "start_time": "2023-07-04T12:29:10.005Z"
   },
   {
    "duration": 190,
    "start_time": "2023-07-04T12:29:10.325Z"
   },
   {
    "duration": 7,
    "start_time": "2023-07-04T12:29:10.517Z"
   },
   {
    "duration": 190,
    "start_time": "2023-07-04T12:29:10.526Z"
   },
   {
    "duration": 7,
    "start_time": "2023-07-04T12:29:10.718Z"
   },
   {
    "duration": 280,
    "start_time": "2023-07-04T12:29:10.728Z"
   },
   {
    "duration": 227,
    "start_time": "2023-07-04T12:29:11.010Z"
   },
   {
    "duration": 26,
    "start_time": "2023-07-04T12:29:11.239Z"
   },
   {
    "duration": 67,
    "start_time": "2023-07-04T12:29:11.279Z"
   },
   {
    "duration": 36,
    "start_time": "2023-07-04T12:29:11.348Z"
   },
   {
    "duration": 67,
    "start_time": "2023-07-04T13:25:22.716Z"
   },
   {
    "duration": 1692,
    "start_time": "2023-07-04T13:28:05.359Z"
   },
   {
    "duration": 264,
    "start_time": "2023-07-04T13:28:07.053Z"
   },
   {
    "duration": 14,
    "start_time": "2023-07-04T13:28:07.320Z"
   },
   {
    "duration": 12,
    "start_time": "2023-07-04T13:28:07.338Z"
   },
   {
    "duration": 105,
    "start_time": "2023-07-04T13:28:07.352Z"
   },
   {
    "duration": 0,
    "start_time": "2023-07-04T13:28:07.460Z"
   },
   {
    "duration": 0,
    "start_time": "2023-07-04T13:28:07.461Z"
   },
   {
    "duration": 0,
    "start_time": "2023-07-04T13:28:07.462Z"
   },
   {
    "duration": 0,
    "start_time": "2023-07-04T13:28:07.463Z"
   },
   {
    "duration": 0,
    "start_time": "2023-07-04T13:28:07.464Z"
   },
   {
    "duration": 0,
    "start_time": "2023-07-04T13:28:07.465Z"
   },
   {
    "duration": 0,
    "start_time": "2023-07-04T13:28:07.467Z"
   },
   {
    "duration": 0,
    "start_time": "2023-07-04T13:28:07.468Z"
   },
   {
    "duration": 0,
    "start_time": "2023-07-04T13:28:07.469Z"
   },
   {
    "duration": 0,
    "start_time": "2023-07-04T13:28:07.471Z"
   },
   {
    "duration": 0,
    "start_time": "2023-07-04T13:28:07.472Z"
   },
   {
    "duration": 0,
    "start_time": "2023-07-04T13:28:07.473Z"
   },
   {
    "duration": 0,
    "start_time": "2023-07-04T13:28:07.475Z"
   },
   {
    "duration": 0,
    "start_time": "2023-07-04T13:28:07.476Z"
   },
   {
    "duration": 0,
    "start_time": "2023-07-04T13:28:07.477Z"
   },
   {
    "duration": 0,
    "start_time": "2023-07-04T13:28:07.479Z"
   },
   {
    "duration": 0,
    "start_time": "2023-07-04T13:28:07.480Z"
   },
   {
    "duration": 0,
    "start_time": "2023-07-04T13:28:07.482Z"
   },
   {
    "duration": 0,
    "start_time": "2023-07-04T13:28:07.482Z"
   },
   {
    "duration": 0,
    "start_time": "2023-07-04T13:28:07.484Z"
   },
   {
    "duration": 0,
    "start_time": "2023-07-04T13:28:07.485Z"
   },
   {
    "duration": 0,
    "start_time": "2023-07-04T13:28:07.486Z"
   },
   {
    "duration": 0,
    "start_time": "2023-07-04T13:28:07.487Z"
   },
   {
    "duration": 0,
    "start_time": "2023-07-04T13:28:07.489Z"
   },
   {
    "duration": 113,
    "start_time": "2023-07-04T13:28:38.670Z"
   },
   {
    "duration": 8,
    "start_time": "2023-07-04T13:29:29.221Z"
   },
   {
    "duration": 5,
    "start_time": "2023-07-04T13:29:33.624Z"
   },
   {
    "duration": 105,
    "start_time": "2023-07-04T13:29:37.924Z"
   },
   {
    "duration": 82,
    "start_time": "2023-07-04T13:30:04.055Z"
   },
   {
    "duration": 10,
    "start_time": "2023-07-04T13:30:05.736Z"
   },
   {
    "duration": 9,
    "start_time": "2023-07-04T13:30:13.736Z"
   },
   {
    "duration": 10,
    "start_time": "2023-07-04T13:30:54.720Z"
   },
   {
    "duration": 15,
    "start_time": "2023-07-04T13:31:01.673Z"
   },
   {
    "duration": 14,
    "start_time": "2023-07-04T13:31:35.744Z"
   },
   {
    "duration": 1276,
    "start_time": "2023-07-04T13:33:01.838Z"
   },
   {
    "duration": 132,
    "start_time": "2023-07-04T13:33:03.116Z"
   },
   {
    "duration": 13,
    "start_time": "2023-07-04T13:33:03.251Z"
   },
   {
    "duration": 13,
    "start_time": "2023-07-04T13:33:03.266Z"
   },
   {
    "duration": 22,
    "start_time": "2023-07-04T13:33:03.282Z"
   },
   {
    "duration": 14,
    "start_time": "2023-07-04T13:33:03.306Z"
   },
   {
    "duration": 22,
    "start_time": "2023-07-04T13:33:03.322Z"
   },
   {
    "duration": 45,
    "start_time": "2023-07-04T13:33:03.346Z"
   },
   {
    "duration": 40,
    "start_time": "2023-07-04T13:33:03.393Z"
   },
   {
    "duration": 22,
    "start_time": "2023-07-04T13:33:03.434Z"
   },
   {
    "duration": 9,
    "start_time": "2023-07-04T13:33:03.458Z"
   },
   {
    "duration": 15,
    "start_time": "2023-07-04T13:33:03.469Z"
   },
   {
    "duration": 12,
    "start_time": "2023-07-04T13:33:03.486Z"
   },
   {
    "duration": 14,
    "start_time": "2023-07-04T13:33:03.501Z"
   },
   {
    "duration": 314,
    "start_time": "2023-07-04T13:33:03.517Z"
   },
   {
    "duration": 389,
    "start_time": "2023-07-04T13:33:03.833Z"
   },
   {
    "duration": 217,
    "start_time": "2023-07-04T13:33:04.224Z"
   },
   {
    "duration": 339,
    "start_time": "2023-07-04T13:33:04.443Z"
   },
   {
    "duration": 258,
    "start_time": "2023-07-04T13:33:04.784Z"
   },
   {
    "duration": 355,
    "start_time": "2023-07-04T13:33:05.044Z"
   },
   {
    "duration": 160,
    "start_time": "2023-07-04T13:33:05.401Z"
   },
   {
    "duration": 16,
    "start_time": "2023-07-04T13:33:05.563Z"
   },
   {
    "duration": 166,
    "start_time": "2023-07-04T13:33:05.581Z"
   },
   {
    "duration": 5,
    "start_time": "2023-07-04T13:33:05.749Z"
   },
   {
    "duration": 254,
    "start_time": "2023-07-04T13:33:05.756Z"
   },
   {
    "duration": 180,
    "start_time": "2023-07-04T13:33:06.012Z"
   },
   {
    "duration": 10,
    "start_time": "2023-07-04T13:33:06.194Z"
   },
   {
    "duration": 33,
    "start_time": "2023-07-04T13:33:06.206Z"
   },
   {
    "duration": 36,
    "start_time": "2023-07-04T13:33:06.241Z"
   },
   {
    "duration": 115,
    "start_time": "2023-07-04T13:35:44.190Z"
   },
   {
    "duration": 12,
    "start_time": "2023-07-04T13:35:59.524Z"
   },
   {
    "duration": 7,
    "start_time": "2023-07-04T13:36:34.965Z"
   },
   {
    "duration": 6,
    "start_time": "2023-07-04T13:36:59.729Z"
   },
   {
    "duration": 7,
    "start_time": "2023-07-04T13:37:06.200Z"
   },
   {
    "duration": 45,
    "start_time": "2023-07-05T07:52:42.169Z"
   },
   {
    "duration": 1280,
    "start_time": "2023-07-05T07:52:49.354Z"
   },
   {
    "duration": 249,
    "start_time": "2023-07-05T07:52:50.636Z"
   },
   {
    "duration": 13,
    "start_time": "2023-07-05T07:52:50.887Z"
   },
   {
    "duration": 14,
    "start_time": "2023-07-05T07:52:50.901Z"
   },
   {
    "duration": 18,
    "start_time": "2023-07-05T07:52:50.917Z"
   },
   {
    "duration": 11,
    "start_time": "2023-07-05T07:52:50.937Z"
   },
   {
    "duration": 9,
    "start_time": "2023-07-05T07:52:50.949Z"
   },
   {
    "duration": 18,
    "start_time": "2023-07-05T07:52:50.959Z"
   },
   {
    "duration": 12,
    "start_time": "2023-07-05T07:52:50.978Z"
   },
   {
    "duration": 5,
    "start_time": "2023-07-05T07:52:50.992Z"
   },
   {
    "duration": 4,
    "start_time": "2023-07-05T07:52:50.999Z"
   },
   {
    "duration": 7,
    "start_time": "2023-07-05T07:52:51.005Z"
   },
   {
    "duration": 12,
    "start_time": "2023-07-05T07:52:51.014Z"
   },
   {
    "duration": 59,
    "start_time": "2023-07-05T07:52:51.029Z"
   },
   {
    "duration": 63,
    "start_time": "2023-07-05T07:52:51.090Z"
   },
   {
    "duration": 20,
    "start_time": "2023-07-05T07:52:51.155Z"
   },
   {
    "duration": 294,
    "start_time": "2023-07-05T07:52:51.176Z"
   },
   {
    "duration": 299,
    "start_time": "2023-07-05T07:52:51.472Z"
   },
   {
    "duration": 336,
    "start_time": "2023-07-05T07:52:51.773Z"
   },
   {
    "duration": 659,
    "start_time": "2023-07-05T07:52:52.111Z"
   },
   {
    "duration": 512,
    "start_time": "2023-07-05T07:52:52.772Z"
   },
   {
    "duration": 526,
    "start_time": "2023-07-05T07:52:53.286Z"
   },
   {
    "duration": 318,
    "start_time": "2023-07-05T07:52:53.814Z"
   },
   {
    "duration": 6,
    "start_time": "2023-07-05T07:52:54.134Z"
   },
   {
    "duration": 195,
    "start_time": "2023-07-05T07:52:54.141Z"
   },
   {
    "duration": 5,
    "start_time": "2023-07-05T07:52:54.338Z"
   },
   {
    "duration": 255,
    "start_time": "2023-07-05T07:52:54.344Z"
   },
   {
    "duration": 182,
    "start_time": "2023-07-05T07:52:54.601Z"
   },
   {
    "duration": 10,
    "start_time": "2023-07-05T07:52:54.785Z"
   },
   {
    "duration": 33,
    "start_time": "2023-07-05T07:52:54.796Z"
   },
   {
    "duration": 37,
    "start_time": "2023-07-05T07:52:54.831Z"
   },
   {
    "duration": 5,
    "start_time": "2023-07-05T07:53:10.280Z"
   },
   {
    "duration": 6,
    "start_time": "2023-07-05T07:54:21.868Z"
   },
   {
    "duration": 6,
    "start_time": "2023-07-05T07:56:18.866Z"
   },
   {
    "duration": 98,
    "start_time": "2023-07-05T08:01:00.777Z"
   },
   {
    "duration": 10,
    "start_time": "2023-07-05T08:02:21.090Z"
   },
   {
    "duration": 7,
    "start_time": "2023-07-05T08:02:49.307Z"
   },
   {
    "duration": 6,
    "start_time": "2023-07-05T08:03:26.494Z"
   },
   {
    "duration": 124,
    "start_time": "2023-07-05T08:04:09.961Z"
   },
   {
    "duration": 195,
    "start_time": "2023-07-05T08:04:28.986Z"
   },
   {
    "duration": 143,
    "start_time": "2023-07-05T08:04:37.800Z"
   },
   {
    "duration": 175,
    "start_time": "2023-07-05T08:04:42.794Z"
   },
   {
    "duration": 9,
    "start_time": "2023-07-05T08:04:47.200Z"
   },
   {
    "duration": 11,
    "start_time": "2023-07-05T08:04:54.388Z"
   },
   {
    "duration": 7,
    "start_time": "2023-07-05T08:05:00.711Z"
   },
   {
    "duration": 5,
    "start_time": "2023-07-05T08:07:55.475Z"
   },
   {
    "duration": 7,
    "start_time": "2023-07-05T08:08:17.240Z"
   },
   {
    "duration": 9,
    "start_time": "2023-07-05T08:19:35.556Z"
   },
   {
    "duration": 7,
    "start_time": "2023-07-05T08:19:48.810Z"
   },
   {
    "duration": 5,
    "start_time": "2023-07-05T08:19:55.479Z"
   },
   {
    "duration": 12,
    "start_time": "2023-07-05T08:20:00.748Z"
   },
   {
    "duration": 7,
    "start_time": "2023-07-05T08:20:11.930Z"
   },
   {
    "duration": 6,
    "start_time": "2023-07-05T08:20:27.800Z"
   },
   {
    "duration": 6,
    "start_time": "2023-07-05T08:20:37.248Z"
   },
   {
    "duration": 7,
    "start_time": "2023-07-05T08:20:56.317Z"
   },
   {
    "duration": 8,
    "start_time": "2023-07-05T08:23:32.272Z"
   },
   {
    "duration": 7,
    "start_time": "2023-07-05T08:24:04.766Z"
   },
   {
    "duration": 8,
    "start_time": "2023-07-05T08:25:32.162Z"
   },
   {
    "duration": 7,
    "start_time": "2023-07-05T08:25:41.302Z"
   },
   {
    "duration": 6,
    "start_time": "2023-07-05T08:30:40.964Z"
   },
   {
    "duration": 10,
    "start_time": "2023-07-05T08:31:01.475Z"
   },
   {
    "duration": 9,
    "start_time": "2023-07-05T08:31:31.339Z"
   },
   {
    "duration": 7,
    "start_time": "2023-07-05T08:31:42.648Z"
   },
   {
    "duration": 8,
    "start_time": "2023-07-05T08:31:46.435Z"
   },
   {
    "duration": 7,
    "start_time": "2023-07-05T08:32:20.197Z"
   },
   {
    "duration": 17,
    "start_time": "2023-07-05T08:35:06.695Z"
   },
   {
    "duration": 8,
    "start_time": "2023-07-05T08:35:14.752Z"
   },
   {
    "duration": 7,
    "start_time": "2023-07-05T08:36:45.224Z"
   },
   {
    "duration": 8,
    "start_time": "2023-07-05T08:40:39.788Z"
   },
   {
    "duration": 163,
    "start_time": "2023-07-05T08:44:31.746Z"
   },
   {
    "duration": 9,
    "start_time": "2023-07-05T08:44:54.253Z"
   },
   {
    "duration": 5,
    "start_time": "2023-07-05T08:46:28.955Z"
   },
   {
    "duration": 9,
    "start_time": "2023-07-05T08:46:33.063Z"
   },
   {
    "duration": 19,
    "start_time": "2023-07-05T08:51:02.395Z"
   },
   {
    "duration": 17,
    "start_time": "2023-07-05T08:51:48.265Z"
   },
   {
    "duration": 7,
    "start_time": "2023-07-05T08:52:12.203Z"
   },
   {
    "duration": 8,
    "start_time": "2023-07-05T08:52:19.792Z"
   },
   {
    "duration": 10,
    "start_time": "2023-07-05T08:53:01.493Z"
   },
   {
    "duration": 8,
    "start_time": "2023-07-05T08:53:39.834Z"
   },
   {
    "duration": 7,
    "start_time": "2023-07-05T08:53:45.204Z"
   },
   {
    "duration": 3195,
    "start_time": "2023-07-05T09:00:11.964Z"
   },
   {
    "duration": 6,
    "start_time": "2023-07-05T09:00:21.751Z"
   },
   {
    "duration": 6,
    "start_time": "2023-07-05T09:00:35.755Z"
   },
   {
    "duration": 10,
    "start_time": "2023-07-05T09:01:31.141Z"
   },
   {
    "duration": 8,
    "start_time": "2023-07-05T09:01:40.806Z"
   },
   {
    "duration": 9,
    "start_time": "2023-07-05T09:02:12.084Z"
   },
   {
    "duration": 11,
    "start_time": "2023-07-05T09:02:27.989Z"
   },
   {
    "duration": 5,
    "start_time": "2023-07-05T09:07:59.812Z"
   },
   {
    "duration": 7,
    "start_time": "2023-07-05T09:08:05.288Z"
   },
   {
    "duration": 9,
    "start_time": "2023-07-05T09:08:34.816Z"
   },
   {
    "duration": 8,
    "start_time": "2023-07-05T09:09:00.831Z"
   },
   {
    "duration": 7,
    "start_time": "2023-07-05T09:09:30.234Z"
   },
   {
    "duration": 8,
    "start_time": "2023-07-05T09:21:01.438Z"
   },
   {
    "duration": 33,
    "start_time": "2023-07-05T09:22:25.837Z"
   },
   {
    "duration": 6,
    "start_time": "2023-07-05T09:22:45.951Z"
   },
   {
    "duration": 32,
    "start_time": "2023-07-05T09:22:47.262Z"
   },
   {
    "duration": 1249,
    "start_time": "2023-07-05T09:22:53.288Z"
   },
   {
    "duration": 135,
    "start_time": "2023-07-05T09:22:54.540Z"
   },
   {
    "duration": 11,
    "start_time": "2023-07-05T09:22:54.677Z"
   },
   {
    "duration": 13,
    "start_time": "2023-07-05T09:22:54.691Z"
   },
   {
    "duration": 15,
    "start_time": "2023-07-05T09:22:54.706Z"
   },
   {
    "duration": 13,
    "start_time": "2023-07-05T09:22:54.723Z"
   },
   {
    "duration": 34,
    "start_time": "2023-07-05T09:22:54.738Z"
   },
   {
    "duration": 13,
    "start_time": "2023-07-05T09:22:54.775Z"
   },
   {
    "duration": 13,
    "start_time": "2023-07-05T09:22:54.790Z"
   },
   {
    "duration": 6,
    "start_time": "2023-07-05T09:22:54.805Z"
   },
   {
    "duration": 6,
    "start_time": "2023-07-05T09:22:54.812Z"
   },
   {
    "duration": 6,
    "start_time": "2023-07-05T09:22:54.820Z"
   },
   {
    "duration": 10,
    "start_time": "2023-07-05T09:22:54.867Z"
   },
   {
    "duration": 5,
    "start_time": "2023-07-05T09:22:54.878Z"
   },
   {
    "duration": 134,
    "start_time": "2023-07-05T09:22:54.885Z"
   },
   {
    "duration": 0,
    "start_time": "2023-07-05T09:22:55.021Z"
   },
   {
    "duration": 0,
    "start_time": "2023-07-05T09:22:55.023Z"
   },
   {
    "duration": 0,
    "start_time": "2023-07-05T09:22:55.024Z"
   },
   {
    "duration": 1,
    "start_time": "2023-07-05T09:22:55.025Z"
   },
   {
    "duration": 0,
    "start_time": "2023-07-05T09:22:55.027Z"
   },
   {
    "duration": 0,
    "start_time": "2023-07-05T09:22:55.028Z"
   },
   {
    "duration": 0,
    "start_time": "2023-07-05T09:22:55.028Z"
   },
   {
    "duration": 0,
    "start_time": "2023-07-05T09:22:55.029Z"
   },
   {
    "duration": 0,
    "start_time": "2023-07-05T09:22:55.030Z"
   },
   {
    "duration": 0,
    "start_time": "2023-07-05T09:22:55.031Z"
   },
   {
    "duration": 0,
    "start_time": "2023-07-05T09:22:55.032Z"
   },
   {
    "duration": 0,
    "start_time": "2023-07-05T09:22:55.033Z"
   },
   {
    "duration": 0,
    "start_time": "2023-07-05T09:22:55.035Z"
   },
   {
    "duration": 0,
    "start_time": "2023-07-05T09:22:55.037Z"
   },
   {
    "duration": 0,
    "start_time": "2023-07-05T09:22:55.068Z"
   },
   {
    "duration": 0,
    "start_time": "2023-07-05T09:22:55.069Z"
   },
   {
    "duration": 0,
    "start_time": "2023-07-05T09:22:55.070Z"
   },
   {
    "duration": 0,
    "start_time": "2023-07-05T09:22:55.072Z"
   },
   {
    "duration": 0,
    "start_time": "2023-07-05T09:22:55.073Z"
   },
   {
    "duration": 0,
    "start_time": "2023-07-05T09:22:55.074Z"
   },
   {
    "duration": 0,
    "start_time": "2023-07-05T09:22:55.075Z"
   },
   {
    "duration": 0,
    "start_time": "2023-07-05T09:22:55.077Z"
   },
   {
    "duration": 28,
    "start_time": "2023-07-05T09:23:29.615Z"
   },
   {
    "duration": 25,
    "start_time": "2023-07-05T09:23:43.352Z"
   },
   {
    "duration": 11,
    "start_time": "2023-07-05T09:24:18.982Z"
   },
   {
    "duration": 22,
    "start_time": "2023-07-05T09:24:54.655Z"
   },
   {
    "duration": 15,
    "start_time": "2023-07-05T09:25:22.364Z"
   },
   {
    "duration": 17,
    "start_time": "2023-07-05T09:25:37.293Z"
   },
   {
    "duration": 4,
    "start_time": "2023-07-05T09:26:10.925Z"
   },
   {
    "duration": 18,
    "start_time": "2023-07-05T09:26:15.068Z"
   },
   {
    "duration": 5,
    "start_time": "2023-07-05T09:26:43.763Z"
   },
   {
    "duration": 15,
    "start_time": "2023-07-05T09:26:49.679Z"
   },
   {
    "duration": 10,
    "start_time": "2023-07-05T09:27:38.906Z"
   },
   {
    "duration": 14,
    "start_time": "2023-07-05T09:28:07.185Z"
   },
   {
    "duration": 2,
    "start_time": "2023-07-05T09:29:03.174Z"
   },
   {
    "duration": 8,
    "start_time": "2023-07-05T09:31:20.586Z"
   },
   {
    "duration": 15,
    "start_time": "2023-07-05T09:31:26.224Z"
   },
   {
    "duration": 1088,
    "start_time": "2023-07-05T09:32:07.836Z"
   },
   {
    "duration": 135,
    "start_time": "2023-07-05T09:32:08.926Z"
   },
   {
    "duration": 14,
    "start_time": "2023-07-05T09:32:09.063Z"
   },
   {
    "duration": 12,
    "start_time": "2023-07-05T09:32:09.080Z"
   },
   {
    "duration": 15,
    "start_time": "2023-07-05T09:32:09.095Z"
   },
   {
    "duration": 11,
    "start_time": "2023-07-05T09:32:09.112Z"
   },
   {
    "duration": 12,
    "start_time": "2023-07-05T09:32:09.124Z"
   },
   {
    "duration": 35,
    "start_time": "2023-07-05T09:32:09.137Z"
   },
   {
    "duration": 12,
    "start_time": "2023-07-05T09:32:09.174Z"
   },
   {
    "duration": 6,
    "start_time": "2023-07-05T09:32:09.189Z"
   },
   {
    "duration": 5,
    "start_time": "2023-07-05T09:32:09.196Z"
   },
   {
    "duration": 11,
    "start_time": "2023-07-05T09:32:09.202Z"
   },
   {
    "duration": 7,
    "start_time": "2023-07-05T09:32:09.215Z"
   },
   {
    "duration": 4,
    "start_time": "2023-07-05T09:32:09.224Z"
   },
   {
    "duration": 50,
    "start_time": "2023-07-05T09:32:09.229Z"
   },
   {
    "duration": 18,
    "start_time": "2023-07-05T09:32:09.280Z"
   },
   {
    "duration": 5,
    "start_time": "2023-07-05T09:32:09.300Z"
   },
   {
    "duration": 7,
    "start_time": "2023-07-05T09:32:09.306Z"
   },
   {
    "duration": 13,
    "start_time": "2023-07-05T09:32:09.315Z"
   },
   {
    "duration": 18,
    "start_time": "2023-07-05T09:32:09.329Z"
   },
   {
    "duration": 29,
    "start_time": "2023-07-05T09:32:09.348Z"
   },
   {
    "duration": 5,
    "start_time": "2023-07-05T09:32:09.379Z"
   },
   {
    "duration": 301,
    "start_time": "2023-07-05T09:32:09.386Z"
   },
   {
    "duration": 266,
    "start_time": "2023-07-05T09:32:09.689Z"
   },
   {
    "duration": 203,
    "start_time": "2023-07-05T09:32:09.957Z"
   },
   {
    "duration": 347,
    "start_time": "2023-07-05T09:32:10.161Z"
   },
   {
    "duration": 467,
    "start_time": "2023-07-05T09:32:10.510Z"
   },
   {
    "duration": 488,
    "start_time": "2023-07-05T09:32:10.980Z"
   },
   {
    "duration": 244,
    "start_time": "2023-07-05T09:32:11.470Z"
   },
   {
    "duration": 6,
    "start_time": "2023-07-05T09:32:11.768Z"
   },
   {
    "duration": 301,
    "start_time": "2023-07-05T09:32:11.780Z"
   },
   {
    "duration": 5,
    "start_time": "2023-07-05T09:32:12.082Z"
   },
   {
    "duration": 304,
    "start_time": "2023-07-05T09:32:12.089Z"
   },
   {
    "duration": 161,
    "start_time": "2023-07-05T09:32:12.394Z"
   },
   {
    "duration": 19,
    "start_time": "2023-07-05T09:32:12.557Z"
   },
   {
    "duration": 30,
    "start_time": "2023-07-05T09:32:12.577Z"
   },
   {
    "duration": 13,
    "start_time": "2023-07-05T09:32:12.609Z"
   },
   {
    "duration": 107,
    "start_time": "2023-07-05T09:33:44.766Z"
   },
   {
    "duration": 19,
    "start_time": "2023-07-05T09:35:55.954Z"
   },
   {
    "duration": 145,
    "start_time": "2023-07-05T09:37:04.880Z"
   },
   {
    "duration": 15,
    "start_time": "2023-07-05T09:37:07.046Z"
   },
   {
    "duration": 5,
    "start_time": "2023-07-05T09:37:17.189Z"
   },
   {
    "duration": 17,
    "start_time": "2023-07-05T09:37:48.619Z"
   },
   {
    "duration": 6,
    "start_time": "2023-07-05T09:39:08.492Z"
   },
   {
    "duration": 6,
    "start_time": "2023-07-05T09:39:12.172Z"
   },
   {
    "duration": 4,
    "start_time": "2023-07-05T09:39:58.335Z"
   },
   {
    "duration": 8,
    "start_time": "2023-07-05T09:40:04.544Z"
   },
   {
    "duration": 6,
    "start_time": "2023-07-05T09:40:43.789Z"
   },
   {
    "duration": 4,
    "start_time": "2023-07-05T09:41:05.679Z"
   },
   {
    "duration": 6,
    "start_time": "2023-07-05T09:41:10.612Z"
   },
   {
    "duration": 11,
    "start_time": "2023-07-05T09:42:00.814Z"
   },
   {
    "duration": 5,
    "start_time": "2023-07-05T09:42:05.764Z"
   },
   {
    "duration": 7,
    "start_time": "2023-07-05T09:43:08.386Z"
   },
   {
    "duration": 1065,
    "start_time": "2023-07-05T09:43:22.845Z"
   },
   {
    "duration": 149,
    "start_time": "2023-07-05T09:43:23.912Z"
   },
   {
    "duration": 15,
    "start_time": "2023-07-05T09:43:24.066Z"
   },
   {
    "duration": 14,
    "start_time": "2023-07-05T09:43:24.083Z"
   },
   {
    "duration": 33,
    "start_time": "2023-07-05T09:43:24.101Z"
   },
   {
    "duration": 45,
    "start_time": "2023-07-05T09:43:24.136Z"
   },
   {
    "duration": 29,
    "start_time": "2023-07-05T09:43:24.183Z"
   },
   {
    "duration": 32,
    "start_time": "2023-07-05T09:43:24.214Z"
   },
   {
    "duration": 25,
    "start_time": "2023-07-05T09:43:24.248Z"
   },
   {
    "duration": 9,
    "start_time": "2023-07-05T09:43:24.275Z"
   },
   {
    "duration": 30,
    "start_time": "2023-07-05T09:43:24.286Z"
   },
   {
    "duration": 19,
    "start_time": "2023-07-05T09:43:24.317Z"
   },
   {
    "duration": 16,
    "start_time": "2023-07-05T09:43:24.338Z"
   },
   {
    "duration": 41,
    "start_time": "2023-07-05T09:43:24.357Z"
   },
   {
    "duration": 14,
    "start_time": "2023-07-05T09:43:24.399Z"
   },
   {
    "duration": 41,
    "start_time": "2023-07-05T09:43:24.415Z"
   },
   {
    "duration": 29,
    "start_time": "2023-07-05T09:43:24.458Z"
   },
   {
    "duration": 23,
    "start_time": "2023-07-05T09:43:24.489Z"
   },
   {
    "duration": 44,
    "start_time": "2023-07-05T09:43:24.514Z"
   },
   {
    "duration": 16,
    "start_time": "2023-07-05T09:43:24.560Z"
   },
   {
    "duration": 13,
    "start_time": "2023-07-05T09:43:24.579Z"
   },
   {
    "duration": 6,
    "start_time": "2023-07-05T09:43:24.594Z"
   },
   {
    "duration": 154,
    "start_time": "2023-07-05T09:43:24.601Z"
   },
   {
    "duration": 302,
    "start_time": "2023-07-05T09:43:24.757Z"
   },
   {
    "duration": 218,
    "start_time": "2023-07-05T09:43:25.061Z"
   },
   {
    "duration": 254,
    "start_time": "2023-07-05T09:43:25.281Z"
   },
   {
    "duration": 227,
    "start_time": "2023-07-05T09:43:25.537Z"
   },
   {
    "duration": 292,
    "start_time": "2023-07-05T09:43:25.766Z"
   },
   {
    "duration": 143,
    "start_time": "2023-07-05T09:43:26.059Z"
   },
   {
    "duration": 5,
    "start_time": "2023-07-05T09:43:26.204Z"
   },
   {
    "duration": 165,
    "start_time": "2023-07-05T09:43:26.211Z"
   },
   {
    "duration": 6,
    "start_time": "2023-07-05T09:43:26.377Z"
   },
   {
    "duration": 167,
    "start_time": "2023-07-05T09:43:26.385Z"
   },
   {
    "duration": 128,
    "start_time": "2023-07-05T09:43:26.553Z"
   },
   {
    "duration": 0,
    "start_time": "2023-07-05T09:43:26.682Z"
   },
   {
    "duration": 0,
    "start_time": "2023-07-05T09:43:26.683Z"
   },
   {
    "duration": 0,
    "start_time": "2023-07-05T09:43:26.684Z"
   },
   {
    "duration": 19,
    "start_time": "2023-07-05T09:46:02.954Z"
   },
   {
    "duration": 6,
    "start_time": "2023-07-05T09:46:11.008Z"
   },
   {
    "duration": 1087,
    "start_time": "2023-07-05T09:46:23.213Z"
   },
   {
    "duration": 128,
    "start_time": "2023-07-05T09:46:24.302Z"
   },
   {
    "duration": 11,
    "start_time": "2023-07-05T09:46:24.431Z"
   },
   {
    "duration": 10,
    "start_time": "2023-07-05T09:46:24.444Z"
   },
   {
    "duration": 14,
    "start_time": "2023-07-05T09:46:24.456Z"
   },
   {
    "duration": 11,
    "start_time": "2023-07-05T09:46:24.471Z"
   },
   {
    "duration": 9,
    "start_time": "2023-07-05T09:46:24.484Z"
   },
   {
    "duration": 13,
    "start_time": "2023-07-05T09:46:24.494Z"
   },
   {
    "duration": 19,
    "start_time": "2023-07-05T09:46:24.509Z"
   },
   {
    "duration": 6,
    "start_time": "2023-07-05T09:46:24.530Z"
   },
   {
    "duration": 32,
    "start_time": "2023-07-05T09:46:24.538Z"
   },
   {
    "duration": 7,
    "start_time": "2023-07-05T09:46:24.571Z"
   },
   {
    "duration": 11,
    "start_time": "2023-07-05T09:46:24.580Z"
   },
   {
    "duration": 5,
    "start_time": "2023-07-05T09:46:24.596Z"
   },
   {
    "duration": 19,
    "start_time": "2023-07-05T09:46:24.603Z"
   },
   {
    "duration": 10,
    "start_time": "2023-07-05T09:46:24.624Z"
   },
   {
    "duration": 15,
    "start_time": "2023-07-05T09:46:24.636Z"
   },
   {
    "duration": 20,
    "start_time": "2023-07-05T09:46:24.652Z"
   },
   {
    "duration": 22,
    "start_time": "2023-07-05T09:46:24.673Z"
   },
   {
    "duration": 17,
    "start_time": "2023-07-05T09:46:24.697Z"
   },
   {
    "duration": 19,
    "start_time": "2023-07-05T09:46:24.716Z"
   },
   {
    "duration": 13,
    "start_time": "2023-07-05T09:46:24.736Z"
   },
   {
    "duration": 135,
    "start_time": "2023-07-05T09:46:24.750Z"
   },
   {
    "duration": 297,
    "start_time": "2023-07-05T09:46:24.887Z"
   },
   {
    "duration": 198,
    "start_time": "2023-07-05T09:46:25.186Z"
   },
   {
    "duration": 248,
    "start_time": "2023-07-05T09:46:25.386Z"
   },
   {
    "duration": 219,
    "start_time": "2023-07-05T09:46:25.635Z"
   },
   {
    "duration": 273,
    "start_time": "2023-07-05T09:46:25.856Z"
   },
   {
    "duration": 144,
    "start_time": "2023-07-05T09:46:26.131Z"
   },
   {
    "duration": 4,
    "start_time": "2023-07-05T09:46:26.277Z"
   },
   {
    "duration": 152,
    "start_time": "2023-07-05T09:46:26.283Z"
   },
   {
    "duration": 5,
    "start_time": "2023-07-05T09:46:26.437Z"
   },
   {
    "duration": 182,
    "start_time": "2023-07-05T09:46:26.443Z"
   },
   {
    "duration": 122,
    "start_time": "2023-07-05T09:46:26.627Z"
   },
   {
    "duration": 0,
    "start_time": "2023-07-05T09:46:26.750Z"
   },
   {
    "duration": 0,
    "start_time": "2023-07-05T09:46:26.751Z"
   },
   {
    "duration": 0,
    "start_time": "2023-07-05T09:46:26.752Z"
   },
   {
    "duration": 13,
    "start_time": "2023-07-05T09:46:40.820Z"
   },
   {
    "duration": 10,
    "start_time": "2023-07-05T09:46:54.207Z"
   },
   {
    "duration": 1102,
    "start_time": "2023-07-05T09:47:01.754Z"
   },
   {
    "duration": 134,
    "start_time": "2023-07-05T09:47:02.858Z"
   },
   {
    "duration": 12,
    "start_time": "2023-07-05T09:47:02.994Z"
   },
   {
    "duration": 28,
    "start_time": "2023-07-05T09:47:03.007Z"
   },
   {
    "duration": 34,
    "start_time": "2023-07-05T09:47:03.037Z"
   },
   {
    "duration": 29,
    "start_time": "2023-07-05T09:47:03.073Z"
   },
   {
    "duration": 30,
    "start_time": "2023-07-05T09:47:03.104Z"
   },
   {
    "duration": 31,
    "start_time": "2023-07-05T09:47:03.135Z"
   },
   {
    "duration": 31,
    "start_time": "2023-07-05T09:47:03.167Z"
   },
   {
    "duration": 37,
    "start_time": "2023-07-05T09:47:03.200Z"
   },
   {
    "duration": 41,
    "start_time": "2023-07-05T09:47:03.239Z"
   },
   {
    "duration": 33,
    "start_time": "2023-07-05T09:47:03.282Z"
   },
   {
    "duration": 27,
    "start_time": "2023-07-05T09:47:03.318Z"
   },
   {
    "duration": 24,
    "start_time": "2023-07-05T09:47:03.348Z"
   },
   {
    "duration": 25,
    "start_time": "2023-07-05T09:47:03.373Z"
   },
   {
    "duration": 37,
    "start_time": "2023-07-05T09:47:03.399Z"
   },
   {
    "duration": 16,
    "start_time": "2023-07-05T09:47:03.437Z"
   },
   {
    "duration": 26,
    "start_time": "2023-07-05T09:47:03.454Z"
   },
   {
    "duration": 41,
    "start_time": "2023-07-05T09:47:03.482Z"
   },
   {
    "duration": 17,
    "start_time": "2023-07-05T09:47:03.525Z"
   },
   {
    "duration": 27,
    "start_time": "2023-07-05T09:47:03.544Z"
   },
   {
    "duration": 26,
    "start_time": "2023-07-05T09:47:03.573Z"
   },
   {
    "duration": 310,
    "start_time": "2023-07-05T09:47:03.601Z"
   },
   {
    "duration": 364,
    "start_time": "2023-07-05T09:47:03.913Z"
   },
   {
    "duration": 417,
    "start_time": "2023-07-05T09:47:04.279Z"
   },
   {
    "duration": 507,
    "start_time": "2023-07-05T09:47:04.698Z"
   },
   {
    "duration": 471,
    "start_time": "2023-07-05T09:47:05.206Z"
   },
   {
    "duration": 528,
    "start_time": "2023-07-05T09:47:05.679Z"
   },
   {
    "duration": 211,
    "start_time": "2023-07-05T09:47:06.208Z"
   },
   {
    "duration": 5,
    "start_time": "2023-07-05T09:47:06.420Z"
   },
   {
    "duration": 147,
    "start_time": "2023-07-05T09:47:06.427Z"
   },
   {
    "duration": 5,
    "start_time": "2023-07-05T09:47:06.576Z"
   },
   {
    "duration": 232,
    "start_time": "2023-07-05T09:47:06.582Z"
   },
   {
    "duration": 142,
    "start_time": "2023-07-05T09:47:06.815Z"
   },
   {
    "duration": 17,
    "start_time": "2023-07-05T09:47:06.959Z"
   },
   {
    "duration": 51,
    "start_time": "2023-07-05T09:47:06.978Z"
   },
   {
    "duration": 16,
    "start_time": "2023-07-05T09:47:07.030Z"
   },
   {
    "duration": 6,
    "start_time": "2023-07-05T09:48:02.423Z"
   },
   {
    "duration": 7,
    "start_time": "2023-07-05T09:48:05.809Z"
   },
   {
    "duration": 6,
    "start_time": "2023-07-05T09:48:15.564Z"
   },
   {
    "duration": 8,
    "start_time": "2023-07-05T09:49:46.040Z"
   },
   {
    "duration": 7,
    "start_time": "2023-07-05T09:49:52.626Z"
   },
   {
    "duration": 1151,
    "start_time": "2023-07-05T09:50:08.779Z"
   },
   {
    "duration": 122,
    "start_time": "2023-07-05T09:50:09.933Z"
   },
   {
    "duration": 16,
    "start_time": "2023-07-05T09:50:10.057Z"
   },
   {
    "duration": 22,
    "start_time": "2023-07-05T09:50:10.075Z"
   },
   {
    "duration": 20,
    "start_time": "2023-07-05T09:50:10.100Z"
   },
   {
    "duration": 47,
    "start_time": "2023-07-05T09:50:10.123Z"
   },
   {
    "duration": 22,
    "start_time": "2023-07-05T09:50:10.172Z"
   },
   {
    "duration": 14,
    "start_time": "2023-07-05T09:50:10.196Z"
   },
   {
    "duration": 70,
    "start_time": "2023-07-05T09:50:10.212Z"
   },
   {
    "duration": 21,
    "start_time": "2023-07-05T09:50:10.285Z"
   },
   {
    "duration": 64,
    "start_time": "2023-07-05T09:50:10.308Z"
   },
   {
    "duration": 8,
    "start_time": "2023-07-05T09:50:10.375Z"
   },
   {
    "duration": 12,
    "start_time": "2023-07-05T09:50:10.385Z"
   },
   {
    "duration": 8,
    "start_time": "2023-07-05T09:50:10.401Z"
   },
   {
    "duration": 64,
    "start_time": "2023-07-05T09:50:10.411Z"
   },
   {
    "duration": 13,
    "start_time": "2023-07-05T09:50:10.482Z"
   },
   {
    "duration": 77,
    "start_time": "2023-07-05T09:50:10.497Z"
   },
   {
    "duration": 9,
    "start_time": "2023-07-05T09:50:10.576Z"
   },
   {
    "duration": 12,
    "start_time": "2023-07-05T09:50:10.587Z"
   },
   {
    "duration": 11,
    "start_time": "2023-07-05T09:50:10.601Z"
   },
   {
    "duration": 62,
    "start_time": "2023-07-05T09:50:10.614Z"
   },
   {
    "duration": 27,
    "start_time": "2023-07-05T09:50:10.679Z"
   },
   {
    "duration": 71,
    "start_time": "2023-07-05T09:50:10.708Z"
   },
   {
    "duration": 21,
    "start_time": "2023-07-05T09:50:10.780Z"
   },
   {
    "duration": 90,
    "start_time": "2023-07-05T09:50:10.804Z"
   },
   {
    "duration": 874,
    "start_time": "2023-07-05T09:50:10.896Z"
   },
   {
    "duration": 719,
    "start_time": "2023-07-05T09:50:11.773Z"
   },
   {
    "duration": 260,
    "start_time": "2023-07-05T09:50:12.494Z"
   },
   {
    "duration": 369,
    "start_time": "2023-07-05T09:50:12.756Z"
   },
   {
    "duration": 249,
    "start_time": "2023-07-05T09:50:13.128Z"
   },
   {
    "duration": 356,
    "start_time": "2023-07-05T09:50:13.379Z"
   },
   {
    "duration": 191,
    "start_time": "2023-07-05T09:50:13.737Z"
   },
   {
    "duration": 6,
    "start_time": "2023-07-05T09:50:13.930Z"
   },
   {
    "duration": 226,
    "start_time": "2023-07-05T09:50:13.937Z"
   },
   {
    "duration": 9,
    "start_time": "2023-07-05T09:50:14.165Z"
   },
   {
    "duration": 362,
    "start_time": "2023-07-05T09:50:14.175Z"
   },
   {
    "duration": 194,
    "start_time": "2023-07-05T09:50:14.539Z"
   },
   {
    "duration": 11,
    "start_time": "2023-07-05T09:50:14.734Z"
   },
   {
    "duration": 141,
    "start_time": "2023-07-05T09:50:14.747Z"
   },
   {
    "duration": 14,
    "start_time": "2023-07-05T09:50:14.891Z"
   },
   {
    "duration": 6,
    "start_time": "2023-07-05T09:52:21.827Z"
   },
   {
    "duration": 1074,
    "start_time": "2023-07-05T09:52:34.366Z"
   },
   {
    "duration": 133,
    "start_time": "2023-07-05T09:52:35.442Z"
   },
   {
    "duration": 12,
    "start_time": "2023-07-05T09:52:35.577Z"
   },
   {
    "duration": 14,
    "start_time": "2023-07-05T09:52:35.591Z"
   },
   {
    "duration": 23,
    "start_time": "2023-07-05T09:52:35.607Z"
   },
   {
    "duration": 12,
    "start_time": "2023-07-05T09:52:35.632Z"
   },
   {
    "duration": 26,
    "start_time": "2023-07-05T09:52:35.645Z"
   },
   {
    "duration": 16,
    "start_time": "2023-07-05T09:52:35.672Z"
   },
   {
    "duration": 15,
    "start_time": "2023-07-05T09:52:35.689Z"
   },
   {
    "duration": 7,
    "start_time": "2023-07-05T09:52:35.707Z"
   },
   {
    "duration": 12,
    "start_time": "2023-07-05T09:52:35.715Z"
   },
   {
    "duration": 6,
    "start_time": "2023-07-05T09:52:35.729Z"
   },
   {
    "duration": 36,
    "start_time": "2023-07-05T09:52:35.736Z"
   },
   {
    "duration": 6,
    "start_time": "2023-07-05T09:52:35.774Z"
   },
   {
    "duration": 14,
    "start_time": "2023-07-05T09:52:35.782Z"
   },
   {
    "duration": 17,
    "start_time": "2023-07-05T09:52:35.799Z"
   },
   {
    "duration": 18,
    "start_time": "2023-07-05T09:52:35.818Z"
   },
   {
    "duration": 15,
    "start_time": "2023-07-05T09:52:35.838Z"
   },
   {
    "duration": 17,
    "start_time": "2023-07-05T09:52:35.855Z"
   },
   {
    "duration": 6,
    "start_time": "2023-07-05T09:52:35.874Z"
   },
   {
    "duration": 22,
    "start_time": "2023-07-05T09:52:35.883Z"
   },
   {
    "duration": 11,
    "start_time": "2023-07-05T09:52:35.907Z"
   },
   {
    "duration": 19,
    "start_time": "2023-07-05T09:52:35.920Z"
   },
   {
    "duration": 40,
    "start_time": "2023-07-05T09:52:35.941Z"
   },
   {
    "duration": 9,
    "start_time": "2023-07-05T09:52:35.984Z"
   },
   {
    "duration": 276,
    "start_time": "2023-07-05T09:52:35.995Z"
   },
   {
    "duration": 289,
    "start_time": "2023-07-05T09:52:36.273Z"
   },
   {
    "duration": 202,
    "start_time": "2023-07-05T09:52:36.567Z"
   },
   {
    "duration": 432,
    "start_time": "2023-07-05T09:52:36.770Z"
   },
   {
    "duration": 591,
    "start_time": "2023-07-05T09:52:37.204Z"
   },
   {
    "duration": 519,
    "start_time": "2023-07-05T09:52:37.797Z"
   },
   {
    "duration": 304,
    "start_time": "2023-07-05T09:52:38.369Z"
   },
   {
    "duration": 5,
    "start_time": "2023-07-05T09:52:38.674Z"
   },
   {
    "duration": 309,
    "start_time": "2023-07-05T09:52:38.681Z"
   },
   {
    "duration": 6,
    "start_time": "2023-07-05T09:52:38.992Z"
   },
   {
    "duration": 230,
    "start_time": "2023-07-05T09:52:39.000Z"
   },
   {
    "duration": 210,
    "start_time": "2023-07-05T09:52:39.231Z"
   },
   {
    "duration": 10,
    "start_time": "2023-07-05T09:52:39.442Z"
   },
   {
    "duration": 58,
    "start_time": "2023-07-05T09:52:39.453Z"
   },
   {
    "duration": 14,
    "start_time": "2023-07-05T09:52:39.513Z"
   },
   {
    "duration": 5,
    "start_time": "2023-07-05T09:59:06.402Z"
   },
   {
    "duration": 987,
    "start_time": "2023-07-05T10:03:25.612Z"
   },
   {
    "duration": 134,
    "start_time": "2023-07-05T10:03:26.601Z"
   },
   {
    "duration": 11,
    "start_time": "2023-07-05T10:03:26.736Z"
   },
   {
    "duration": 13,
    "start_time": "2023-07-05T10:03:26.749Z"
   },
   {
    "duration": 23,
    "start_time": "2023-07-05T10:03:26.763Z"
   },
   {
    "duration": 12,
    "start_time": "2023-07-05T10:03:26.787Z"
   },
   {
    "duration": 23,
    "start_time": "2023-07-05T10:03:26.801Z"
   },
   {
    "duration": 20,
    "start_time": "2023-07-05T10:03:26.826Z"
   },
   {
    "duration": 23,
    "start_time": "2023-07-05T10:03:26.847Z"
   },
   {
    "duration": 22,
    "start_time": "2023-07-05T10:03:26.872Z"
   },
   {
    "duration": 6,
    "start_time": "2023-07-05T10:03:26.896Z"
   },
   {
    "duration": 7,
    "start_time": "2023-07-05T10:03:26.904Z"
   },
   {
    "duration": 8,
    "start_time": "2023-07-05T10:03:26.912Z"
   },
   {
    "duration": 6,
    "start_time": "2023-07-05T10:03:26.922Z"
   },
   {
    "duration": 7,
    "start_time": "2023-07-05T10:03:26.929Z"
   },
   {
    "duration": 8,
    "start_time": "2023-07-05T10:03:26.938Z"
   },
   {
    "duration": 32,
    "start_time": "2023-07-05T10:03:26.947Z"
   },
   {
    "duration": 11,
    "start_time": "2023-07-05T10:03:26.981Z"
   },
   {
    "duration": 8,
    "start_time": "2023-07-05T10:03:26.993Z"
   },
   {
    "duration": 14,
    "start_time": "2023-07-05T10:03:27.003Z"
   },
   {
    "duration": 29,
    "start_time": "2023-07-05T10:03:27.019Z"
   },
   {
    "duration": 23,
    "start_time": "2023-07-05T10:03:27.050Z"
   },
   {
    "duration": 20,
    "start_time": "2023-07-05T10:03:27.074Z"
   },
   {
    "duration": 12,
    "start_time": "2023-07-05T10:03:27.096Z"
   },
   {
    "duration": 296,
    "start_time": "2023-07-05T10:03:27.109Z"
   },
   {
    "duration": 266,
    "start_time": "2023-07-05T10:03:27.407Z"
   },
   {
    "duration": 205,
    "start_time": "2023-07-05T10:03:27.675Z"
   },
   {
    "duration": 278,
    "start_time": "2023-07-05T10:03:27.883Z"
   },
   {
    "duration": 211,
    "start_time": "2023-07-05T10:03:28.162Z"
   },
   {
    "duration": 303,
    "start_time": "2023-07-05T10:03:28.375Z"
   },
   {
    "duration": 144,
    "start_time": "2023-07-05T10:03:28.680Z"
   },
   {
    "duration": 5,
    "start_time": "2023-07-05T10:03:28.825Z"
   },
   {
    "duration": 154,
    "start_time": "2023-07-05T10:03:28.832Z"
   },
   {
    "duration": 5,
    "start_time": "2023-07-05T10:03:28.988Z"
   },
   {
    "duration": 229,
    "start_time": "2023-07-05T10:03:28.994Z"
   },
   {
    "duration": 174,
    "start_time": "2023-07-05T10:03:29.225Z"
   },
   {
    "duration": 12,
    "start_time": "2023-07-05T10:03:29.401Z"
   },
   {
    "duration": 30,
    "start_time": "2023-07-05T10:03:29.414Z"
   },
   {
    "duration": 31,
    "start_time": "2023-07-05T10:03:29.446Z"
   },
   {
    "duration": 7,
    "start_time": "2023-07-05T10:12:34.544Z"
   },
   {
    "duration": 1263,
    "start_time": "2023-07-05T10:12:47.275Z"
   },
   {
    "duration": 135,
    "start_time": "2023-07-05T10:12:48.540Z"
   },
   {
    "duration": 16,
    "start_time": "2023-07-05T10:12:48.677Z"
   },
   {
    "duration": 13,
    "start_time": "2023-07-05T10:12:48.695Z"
   },
   {
    "duration": 15,
    "start_time": "2023-07-05T10:12:48.711Z"
   },
   {
    "duration": 13,
    "start_time": "2023-07-05T10:12:48.727Z"
   },
   {
    "duration": 13,
    "start_time": "2023-07-05T10:12:48.769Z"
   },
   {
    "duration": 17,
    "start_time": "2023-07-05T10:12:48.784Z"
   },
   {
    "duration": 19,
    "start_time": "2023-07-05T10:12:48.804Z"
   },
   {
    "duration": 17,
    "start_time": "2023-07-05T10:12:48.825Z"
   },
   {
    "duration": 32,
    "start_time": "2023-07-05T10:12:48.844Z"
   },
   {
    "duration": 7,
    "start_time": "2023-07-05T10:12:48.879Z"
   },
   {
    "duration": 14,
    "start_time": "2023-07-05T10:12:48.889Z"
   },
   {
    "duration": 8,
    "start_time": "2023-07-05T10:12:48.908Z"
   },
   {
    "duration": 13,
    "start_time": "2023-07-05T10:12:48.918Z"
   },
   {
    "duration": 58,
    "start_time": "2023-07-05T10:12:48.933Z"
   },
   {
    "duration": 23,
    "start_time": "2023-07-05T10:12:48.992Z"
   },
   {
    "duration": 11,
    "start_time": "2023-07-05T10:12:49.018Z"
   },
   {
    "duration": 17,
    "start_time": "2023-07-05T10:12:49.031Z"
   },
   {
    "duration": 14,
    "start_time": "2023-07-05T10:12:49.050Z"
   },
   {
    "duration": 14,
    "start_time": "2023-07-05T10:12:49.066Z"
   },
   {
    "duration": 20,
    "start_time": "2023-07-05T10:12:49.081Z"
   },
   {
    "duration": 17,
    "start_time": "2023-07-05T10:12:49.103Z"
   },
   {
    "duration": 7,
    "start_time": "2023-07-05T10:12:49.122Z"
   },
   {
    "duration": 373,
    "start_time": "2023-07-05T10:12:49.132Z"
   },
   {
    "duration": 309,
    "start_time": "2023-07-05T10:12:49.507Z"
   },
   {
    "duration": 234,
    "start_time": "2023-07-05T10:12:49.818Z"
   },
   {
    "duration": 334,
    "start_time": "2023-07-05T10:12:50.054Z"
   },
   {
    "duration": 250,
    "start_time": "2023-07-05T10:12:50.390Z"
   },
   {
    "duration": 341,
    "start_time": "2023-07-05T10:12:50.642Z"
   },
   {
    "duration": 208,
    "start_time": "2023-07-05T10:12:50.985Z"
   },
   {
    "duration": 7,
    "start_time": "2023-07-05T10:12:51.195Z"
   },
   {
    "duration": 224,
    "start_time": "2023-07-05T10:12:51.204Z"
   },
   {
    "duration": 8,
    "start_time": "2023-07-05T10:12:51.430Z"
   },
   {
    "duration": 283,
    "start_time": "2023-07-05T10:12:51.440Z"
   },
   {
    "duration": 253,
    "start_time": "2023-07-05T10:12:51.725Z"
   },
   {
    "duration": 16,
    "start_time": "2023-07-05T10:12:51.981Z"
   },
   {
    "duration": 77,
    "start_time": "2023-07-05T10:12:52.000Z"
   },
   {
    "duration": 17,
    "start_time": "2023-07-05T10:12:52.079Z"
   },
   {
    "duration": 7,
    "start_time": "2023-07-05T10:15:18.941Z"
   },
   {
    "duration": 6,
    "start_time": "2023-07-05T10:15:20.948Z"
   },
   {
    "duration": 16,
    "start_time": "2023-07-05T10:15:23.444Z"
   },
   {
    "duration": 6,
    "start_time": "2023-07-05T10:15:26.856Z"
   },
   {
    "duration": 6,
    "start_time": "2023-07-05T10:15:27.930Z"
   },
   {
    "duration": 6,
    "start_time": "2023-07-05T10:18:22.195Z"
   },
   {
    "duration": 163,
    "start_time": "2023-07-05T10:22:54.448Z"
   },
   {
    "duration": 150,
    "start_time": "2023-07-05T10:22:57.413Z"
   },
   {
    "duration": 179,
    "start_time": "2023-07-05T10:23:11.753Z"
   },
   {
    "duration": 137,
    "start_time": "2023-07-05T10:23:35.908Z"
   },
   {
    "duration": 12,
    "start_time": "2023-07-05T10:27:10.610Z"
   },
   {
    "duration": 54,
    "start_time": "2023-07-05T10:27:47.033Z"
   },
   {
    "duration": 101,
    "start_time": "2023-07-05T10:31:10.706Z"
   },
   {
    "duration": 31,
    "start_time": "2023-07-05T10:31:37.313Z"
   },
   {
    "duration": 46,
    "start_time": "2023-07-05T10:31:45.134Z"
   },
   {
    "duration": 1079,
    "start_time": "2023-07-05T10:31:51.503Z"
   },
   {
    "duration": 125,
    "start_time": "2023-07-05T10:31:52.584Z"
   },
   {
    "duration": 12,
    "start_time": "2023-07-05T10:31:52.711Z"
   },
   {
    "duration": 10,
    "start_time": "2023-07-05T10:31:52.725Z"
   },
   {
    "duration": 18,
    "start_time": "2023-07-05T10:31:52.737Z"
   },
   {
    "duration": 12,
    "start_time": "2023-07-05T10:31:52.757Z"
   },
   {
    "duration": 19,
    "start_time": "2023-07-05T10:31:52.771Z"
   },
   {
    "duration": 42,
    "start_time": "2023-07-05T10:31:52.792Z"
   },
   {
    "duration": 42,
    "start_time": "2023-07-05T10:31:52.836Z"
   },
   {
    "duration": 39,
    "start_time": "2023-07-05T10:31:52.880Z"
   },
   {
    "duration": 7,
    "start_time": "2023-07-05T10:31:52.921Z"
   },
   {
    "duration": 18,
    "start_time": "2023-07-05T10:31:52.930Z"
   },
   {
    "duration": 26,
    "start_time": "2023-07-05T10:31:52.950Z"
   },
   {
    "duration": 7,
    "start_time": "2023-07-05T10:31:52.981Z"
   },
   {
    "duration": 10,
    "start_time": "2023-07-05T10:31:52.990Z"
   },
   {
    "duration": 8,
    "start_time": "2023-07-05T10:31:53.002Z"
   },
   {
    "duration": 17,
    "start_time": "2023-07-05T10:31:53.012Z"
   },
   {
    "duration": 11,
    "start_time": "2023-07-05T10:31:53.031Z"
   },
   {
    "duration": 26,
    "start_time": "2023-07-05T10:31:53.044Z"
   },
   {
    "duration": 8,
    "start_time": "2023-07-05T10:31:53.072Z"
   },
   {
    "duration": 16,
    "start_time": "2023-07-05T10:31:53.082Z"
   },
   {
    "duration": 24,
    "start_time": "2023-07-05T10:31:53.100Z"
   },
   {
    "duration": 23,
    "start_time": "2023-07-05T10:31:53.126Z"
   },
   {
    "duration": 29,
    "start_time": "2023-07-05T10:31:53.151Z"
   },
   {
    "duration": 286,
    "start_time": "2023-07-05T10:31:53.182Z"
   },
   {
    "duration": 263,
    "start_time": "2023-07-05T10:31:53.470Z"
   },
   {
    "duration": 203,
    "start_time": "2023-07-05T10:31:53.734Z"
   },
   {
    "duration": 359,
    "start_time": "2023-07-05T10:31:53.940Z"
   },
   {
    "duration": 213,
    "start_time": "2023-07-05T10:31:54.302Z"
   },
   {
    "duration": 267,
    "start_time": "2023-07-05T10:31:54.517Z"
   },
   {
    "duration": 153,
    "start_time": "2023-07-05T10:31:54.786Z"
   },
   {
    "duration": 5,
    "start_time": "2023-07-05T10:31:54.941Z"
   },
   {
    "duration": 157,
    "start_time": "2023-07-05T10:31:54.948Z"
   },
   {
    "duration": 5,
    "start_time": "2023-07-05T10:31:55.107Z"
   },
   {
    "duration": 226,
    "start_time": "2023-07-05T10:31:55.113Z"
   },
   {
    "duration": 184,
    "start_time": "2023-07-05T10:31:55.341Z"
   },
   {
    "duration": 11,
    "start_time": "2023-07-05T10:31:55.527Z"
   },
   {
    "duration": 51,
    "start_time": "2023-07-05T10:31:55.540Z"
   },
   {
    "duration": 109,
    "start_time": "2023-07-05T10:31:55.593Z"
   },
   {
    "duration": 35,
    "start_time": "2023-07-05T10:32:52.585Z"
   },
   {
    "duration": 18,
    "start_time": "2023-07-05T10:34:15.964Z"
   },
   {
    "duration": 32,
    "start_time": "2023-07-05T10:35:54.904Z"
   },
   {
    "duration": 27,
    "start_time": "2023-07-05T10:37:45.860Z"
   },
   {
    "duration": 18,
    "start_time": "2023-07-05T10:38:17.311Z"
   },
   {
    "duration": 4,
    "start_time": "2023-07-05T10:40:12.970Z"
   },
   {
    "duration": 3,
    "start_time": "2023-07-05T10:40:18.004Z"
   },
   {
    "duration": 1137,
    "start_time": "2023-07-05T10:49:53.040Z"
   },
   {
    "duration": 155,
    "start_time": "2023-07-05T10:49:54.180Z"
   },
   {
    "duration": 14,
    "start_time": "2023-07-05T10:49:54.337Z"
   },
   {
    "duration": 23,
    "start_time": "2023-07-05T10:49:54.353Z"
   },
   {
    "duration": 30,
    "start_time": "2023-07-05T10:49:54.378Z"
   },
   {
    "duration": 16,
    "start_time": "2023-07-05T10:49:54.410Z"
   },
   {
    "duration": 32,
    "start_time": "2023-07-05T10:49:54.427Z"
   },
   {
    "duration": 21,
    "start_time": "2023-07-05T10:49:54.460Z"
   },
   {
    "duration": 25,
    "start_time": "2023-07-05T10:49:54.483Z"
   },
   {
    "duration": 24,
    "start_time": "2023-07-05T10:49:54.511Z"
   },
   {
    "duration": 21,
    "start_time": "2023-07-05T10:49:54.537Z"
   },
   {
    "duration": 11,
    "start_time": "2023-07-05T10:49:54.560Z"
   },
   {
    "duration": 14,
    "start_time": "2023-07-05T10:49:54.572Z"
   },
   {
    "duration": 18,
    "start_time": "2023-07-05T10:49:54.587Z"
   },
   {
    "duration": 10,
    "start_time": "2023-07-05T10:49:54.607Z"
   },
   {
    "duration": 18,
    "start_time": "2023-07-05T10:49:54.619Z"
   },
   {
    "duration": 18,
    "start_time": "2023-07-05T10:49:54.639Z"
   },
   {
    "duration": 16,
    "start_time": "2023-07-05T10:49:54.659Z"
   },
   {
    "duration": 9,
    "start_time": "2023-07-05T10:49:54.676Z"
   },
   {
    "duration": 10,
    "start_time": "2023-07-05T10:49:54.686Z"
   },
   {
    "duration": 13,
    "start_time": "2023-07-05T10:49:54.697Z"
   },
   {
    "duration": 18,
    "start_time": "2023-07-05T10:49:54.711Z"
   },
   {
    "duration": 17,
    "start_time": "2023-07-05T10:49:54.732Z"
   },
   {
    "duration": 18,
    "start_time": "2023-07-05T10:49:54.751Z"
   },
   {
    "duration": 282,
    "start_time": "2023-07-05T10:49:54.771Z"
   },
   {
    "duration": 274,
    "start_time": "2023-07-05T10:49:55.055Z"
   },
   {
    "duration": 202,
    "start_time": "2023-07-05T10:49:55.330Z"
   },
   {
    "duration": 322,
    "start_time": "2023-07-05T10:49:55.535Z"
   },
   {
    "duration": 218,
    "start_time": "2023-07-05T10:49:55.859Z"
   },
   {
    "duration": 314,
    "start_time": "2023-07-05T10:49:56.079Z"
   },
   {
    "duration": 160,
    "start_time": "2023-07-05T10:49:56.395Z"
   },
   {
    "duration": 13,
    "start_time": "2023-07-05T10:49:56.556Z"
   },
   {
    "duration": 142,
    "start_time": "2023-07-05T10:49:56.571Z"
   },
   {
    "duration": 5,
    "start_time": "2023-07-05T10:49:56.714Z"
   },
   {
    "duration": 250,
    "start_time": "2023-07-05T10:49:56.721Z"
   },
   {
    "duration": 172,
    "start_time": "2023-07-05T10:49:56.973Z"
   },
   {
    "duration": 10,
    "start_time": "2023-07-05T10:49:57.147Z"
   },
   {
    "duration": 49,
    "start_time": "2023-07-05T10:49:57.168Z"
   },
   {
    "duration": 17,
    "start_time": "2023-07-05T10:49:57.219Z"
   },
   {
    "duration": 1150,
    "start_time": "2023-07-05T16:13:11.622Z"
   },
   {
    "duration": 263,
    "start_time": "2023-07-05T16:13:12.774Z"
   },
   {
    "duration": 14,
    "start_time": "2023-07-05T16:13:13.038Z"
   },
   {
    "duration": 14,
    "start_time": "2023-07-05T16:13:13.054Z"
   },
   {
    "duration": 24,
    "start_time": "2023-07-05T16:13:13.070Z"
   },
   {
    "duration": 15,
    "start_time": "2023-07-05T16:13:13.095Z"
   },
   {
    "duration": 10,
    "start_time": "2023-07-05T16:13:13.111Z"
   },
   {
    "duration": 12,
    "start_time": "2023-07-05T16:13:13.122Z"
   },
   {
    "duration": 12,
    "start_time": "2023-07-05T16:13:13.136Z"
   },
   {
    "duration": 18,
    "start_time": "2023-07-05T16:13:13.151Z"
   },
   {
    "duration": 6,
    "start_time": "2023-07-05T16:13:13.171Z"
   },
   {
    "duration": 6,
    "start_time": "2023-07-05T16:13:13.178Z"
   },
   {
    "duration": 11,
    "start_time": "2023-07-05T16:13:13.185Z"
   },
   {
    "duration": 8,
    "start_time": "2023-07-05T16:13:13.197Z"
   },
   {
    "duration": 8,
    "start_time": "2023-07-05T16:13:13.207Z"
   },
   {
    "duration": 13,
    "start_time": "2023-07-05T16:13:13.217Z"
   },
   {
    "duration": 19,
    "start_time": "2023-07-05T16:13:13.232Z"
   },
   {
    "duration": 19,
    "start_time": "2023-07-05T16:13:13.253Z"
   },
   {
    "duration": 6,
    "start_time": "2023-07-05T16:13:13.274Z"
   },
   {
    "duration": 8,
    "start_time": "2023-07-05T16:13:13.281Z"
   },
   {
    "duration": 13,
    "start_time": "2023-07-05T16:13:13.290Z"
   },
   {
    "duration": 13,
    "start_time": "2023-07-05T16:13:13.305Z"
   },
   {
    "duration": 14,
    "start_time": "2023-07-05T16:13:13.320Z"
   },
   {
    "duration": 33,
    "start_time": "2023-07-05T16:13:13.336Z"
   },
   {
    "duration": 260,
    "start_time": "2023-07-05T16:13:13.370Z"
   },
   {
    "duration": 256,
    "start_time": "2023-07-05T16:13:13.632Z"
   },
   {
    "duration": 228,
    "start_time": "2023-07-05T16:13:13.890Z"
   },
   {
    "duration": 373,
    "start_time": "2023-07-05T16:13:14.121Z"
   },
   {
    "duration": 210,
    "start_time": "2023-07-05T16:13:14.496Z"
   },
   {
    "duration": 269,
    "start_time": "2023-07-05T16:13:14.708Z"
   },
   {
    "duration": 144,
    "start_time": "2023-07-05T16:13:14.979Z"
   },
   {
    "duration": 4,
    "start_time": "2023-07-05T16:13:15.125Z"
   },
   {
    "duration": 142,
    "start_time": "2023-07-05T16:13:15.130Z"
   },
   {
    "duration": 4,
    "start_time": "2023-07-05T16:13:15.274Z"
   },
   {
    "duration": 223,
    "start_time": "2023-07-05T16:13:15.279Z"
   },
   {
    "duration": 177,
    "start_time": "2023-07-05T16:13:15.504Z"
   },
   {
    "duration": 10,
    "start_time": "2023-07-05T16:13:15.683Z"
   },
   {
    "duration": 37,
    "start_time": "2023-07-05T16:13:15.695Z"
   },
   {
    "duration": 35,
    "start_time": "2023-07-05T16:13:15.733Z"
   },
   {
    "duration": 8,
    "start_time": "2023-07-06T10:10:02.067Z"
   },
   {
    "duration": 1333,
    "start_time": "2023-07-06T10:15:49.455Z"
   },
   {
    "duration": 283,
    "start_time": "2023-07-06T10:15:50.790Z"
   },
   {
    "duration": 16,
    "start_time": "2023-07-06T10:15:51.075Z"
   },
   {
    "duration": 19,
    "start_time": "2023-07-06T10:15:51.093Z"
   },
   {
    "duration": 58,
    "start_time": "2023-07-06T10:15:51.114Z"
   },
   {
    "duration": 57,
    "start_time": "2023-07-06T10:15:51.174Z"
   },
   {
    "duration": 56,
    "start_time": "2023-07-06T10:15:51.233Z"
   },
   {
    "duration": 70,
    "start_time": "2023-07-06T10:15:51.291Z"
   },
   {
    "duration": 20,
    "start_time": "2023-07-06T10:15:51.362Z"
   },
   {
    "duration": 35,
    "start_time": "2023-07-06T10:15:51.384Z"
   },
   {
    "duration": 18,
    "start_time": "2023-07-06T10:15:51.421Z"
   },
   {
    "duration": 29,
    "start_time": "2023-07-06T10:15:51.441Z"
   },
   {
    "duration": 23,
    "start_time": "2023-07-06T10:15:51.472Z"
   },
   {
    "duration": 20,
    "start_time": "2023-07-06T10:15:51.499Z"
   },
   {
    "duration": 43,
    "start_time": "2023-07-06T10:15:51.521Z"
   },
   {
    "duration": 16,
    "start_time": "2023-07-06T10:15:51.567Z"
   },
   {
    "duration": 26,
    "start_time": "2023-07-06T10:15:51.585Z"
   },
   {
    "duration": 16,
    "start_time": "2023-07-06T10:15:51.613Z"
   },
   {
    "duration": 39,
    "start_time": "2023-07-06T10:15:51.631Z"
   },
   {
    "duration": 36,
    "start_time": "2023-07-06T10:15:51.672Z"
   },
   {
    "duration": 35,
    "start_time": "2023-07-06T10:15:51.711Z"
   },
   {
    "duration": 41,
    "start_time": "2023-07-06T10:15:51.748Z"
   },
   {
    "duration": 35,
    "start_time": "2023-07-06T10:15:51.791Z"
   },
   {
    "duration": 34,
    "start_time": "2023-07-06T10:15:51.828Z"
   },
   {
    "duration": 346,
    "start_time": "2023-07-06T10:15:51.864Z"
   },
   {
    "duration": 336,
    "start_time": "2023-07-06T10:15:52.212Z"
   },
   {
    "duration": 239,
    "start_time": "2023-07-06T10:15:52.549Z"
   },
   {
    "duration": 376,
    "start_time": "2023-07-06T10:15:52.790Z"
   },
   {
    "duration": 288,
    "start_time": "2023-07-06T10:15:53.168Z"
   },
   {
    "duration": 314,
    "start_time": "2023-07-06T10:15:53.458Z"
   },
   {
    "duration": 179,
    "start_time": "2023-07-06T10:15:53.773Z"
   },
   {
    "duration": 7,
    "start_time": "2023-07-06T10:15:53.953Z"
   },
   {
    "duration": 180,
    "start_time": "2023-07-06T10:15:53.962Z"
   },
   {
    "duration": 5,
    "start_time": "2023-07-06T10:15:54.144Z"
   },
   {
    "duration": 274,
    "start_time": "2023-07-06T10:15:54.151Z"
   },
   {
    "duration": 193,
    "start_time": "2023-07-06T10:15:54.427Z"
   },
   {
    "duration": 15,
    "start_time": "2023-07-06T10:15:54.622Z"
   },
   {
    "duration": 49,
    "start_time": "2023-07-06T10:15:54.639Z"
   },
   {
    "duration": 33,
    "start_time": "2023-07-06T10:15:54.690Z"
   },
   {
    "duration": 1247,
    "start_time": "2023-07-06T13:27:36.992Z"
   },
   {
    "duration": 164,
    "start_time": "2023-07-06T13:27:38.242Z"
   },
   {
    "duration": 14,
    "start_time": "2023-07-06T13:27:38.408Z"
   },
   {
    "duration": 17,
    "start_time": "2023-07-06T13:27:38.424Z"
   },
   {
    "duration": 23,
    "start_time": "2023-07-06T13:27:38.445Z"
   },
   {
    "duration": 15,
    "start_time": "2023-07-06T13:27:38.470Z"
   },
   {
    "duration": 49,
    "start_time": "2023-07-06T13:27:38.487Z"
   },
   {
    "duration": 17,
    "start_time": "2023-07-06T13:27:38.538Z"
   },
   {
    "duration": 27,
    "start_time": "2023-07-06T13:27:38.557Z"
   },
   {
    "duration": 22,
    "start_time": "2023-07-06T13:27:38.585Z"
   },
   {
    "duration": 13,
    "start_time": "2023-07-06T13:27:38.609Z"
   },
   {
    "duration": 18,
    "start_time": "2023-07-06T13:27:38.624Z"
   },
   {
    "duration": 23,
    "start_time": "2023-07-06T13:27:38.644Z"
   },
   {
    "duration": 11,
    "start_time": "2023-07-06T13:27:38.671Z"
   },
   {
    "duration": 11,
    "start_time": "2023-07-06T13:27:38.684Z"
   },
   {
    "duration": 18,
    "start_time": "2023-07-06T13:27:38.697Z"
   },
   {
    "duration": 28,
    "start_time": "2023-07-06T13:27:38.717Z"
   },
   {
    "duration": 26,
    "start_time": "2023-07-06T13:27:38.746Z"
   },
   {
    "duration": 12,
    "start_time": "2023-07-06T13:27:38.774Z"
   },
   {
    "duration": 14,
    "start_time": "2023-07-06T13:27:38.788Z"
   },
   {
    "duration": 20,
    "start_time": "2023-07-06T13:27:38.804Z"
   },
   {
    "duration": 31,
    "start_time": "2023-07-06T13:27:38.825Z"
   },
   {
    "duration": 27,
    "start_time": "2023-07-06T13:27:38.858Z"
   },
   {
    "duration": 42,
    "start_time": "2023-07-06T13:27:38.887Z"
   },
   {
    "duration": 307,
    "start_time": "2023-07-06T13:27:38.931Z"
   },
   {
    "duration": 358,
    "start_time": "2023-07-06T13:27:39.239Z"
   },
   {
    "duration": 238,
    "start_time": "2023-07-06T13:27:39.599Z"
   },
   {
    "duration": 316,
    "start_time": "2023-07-06T13:27:39.840Z"
   },
   {
    "duration": 259,
    "start_time": "2023-07-06T13:27:40.158Z"
   },
   {
    "duration": 321,
    "start_time": "2023-07-06T13:27:40.419Z"
   },
   {
    "duration": 187,
    "start_time": "2023-07-06T13:27:40.742Z"
   },
   {
    "duration": 6,
    "start_time": "2023-07-06T13:27:40.930Z"
   },
   {
    "duration": 177,
    "start_time": "2023-07-06T13:27:40.937Z"
   },
   {
    "duration": 6,
    "start_time": "2023-07-06T13:27:41.116Z"
   },
   {
    "duration": 277,
    "start_time": "2023-07-06T13:27:41.124Z"
   },
   {
    "duration": 168,
    "start_time": "2023-07-06T13:27:41.409Z"
   },
   {
    "duration": 11,
    "start_time": "2023-07-06T13:27:41.579Z"
   },
   {
    "duration": 45,
    "start_time": "2023-07-06T13:27:41.592Z"
   },
   {
    "duration": 15,
    "start_time": "2023-07-06T13:27:41.639Z"
   }
  ],
  "kernelspec": {
   "display_name": "Python 3 (ipykernel)",
   "language": "python",
   "name": "python3"
  },
  "language_info": {
   "codemirror_mode": {
    "name": "ipython",
    "version": 3
   },
   "file_extension": ".py",
   "mimetype": "text/x-python",
   "name": "python",
   "nbconvert_exporter": "python",
   "pygments_lexer": "ipython3",
   "version": "3.9.13"
  },
  "latex_envs": {
   "LaTeX_envs_menu_present": true,
   "autoclose": false,
   "autocomplete": true,
   "bibliofile": "biblio.bib",
   "cite_by": "apalike",
   "current_citInitial": 1,
   "eqLabelWithNumbers": true,
   "eqNumInitial": 1,
   "hotkeys": {
    "equation": "Ctrl-E",
    "itemize": "Ctrl-I"
   },
   "labels_anchors": false,
   "latex_user_defs": false,
   "report_style_numbering": false,
   "user_envs_cfg": false
  },
  "nbTranslate": {
   "displayLangs": [],
   "hotkey": "alt-t",
   "langInMainMenu": true,
   "sourceLang": "ru",
   "targetLang": "en",
   "useGoogleTranslate": true
  },
  "toc": {
   "base_numbering": 1,
   "nav_menu": {},
   "number_sections": true,
   "sideBar": true,
   "skip_h1_title": true,
   "title_cell": "Contents",
   "title_sidebar": "Contents",
   "toc_cell": true,
   "toc_position": {
    "height": "calc(100% - 180px)",
    "left": "10px",
    "top": "150px",
    "width": "235px"
   },
   "toc_section_display": true,
   "toc_window_display": true
  }
 },
 "nbformat": 4,
 "nbformat_minor": 2
}
